{
  "nbformat": 4,
  "nbformat_minor": 0,
  "metadata": {
    "colab": {
      "provenance": [],
      "authorship_tag": "ABX9TyMjFHC90gq/WCGfoGjLmpSx",
      "include_colab_link": true
    },
    "kernelspec": {
      "name": "python3",
      "display_name": "Python 3"
    },
    "language_info": {
      "name": "python"
    }
  },
  "cells": [
    {
      "cell_type": "markdown",
      "metadata": {
        "id": "view-in-github",
        "colab_type": "text"
      },
      "source": [
        "<a href=\"https://colab.research.google.com/github/pgurazada/causal_inference/blob/master/01_ladders_of_causality.ipynb\" target=\"_parent\"><img src=\"https://colab.research.google.com/assets/colab-badge.svg\" alt=\"Open In Colab\"/></a>"
      ]
    },
    {
      "cell_type": "code",
      "source": [
        "!pip install -q minepy"
      ],
      "metadata": {
        "colab": {
          "base_uri": "https://localhost:8080/"
        },
        "id": "SHxSlboYycsa",
        "outputId": "62120c4a-3378-4c4e-91a9-ee671ae9b74a"
      },
      "execution_count": 26,
      "outputs": [
        {
          "output_type": "stream",
          "name": "stdout",
          "text": [
            "Collecting minepy\n",
            "  Downloading minepy-1.2.6.tar.gz (496 kB)\n",
            "\u001b[2K     \u001b[90m━━━━━━━━━━━━━━━━━━━━━━━━━━━━━━━━━━━━━━━━\u001b[0m \u001b[32m497.0/497.0 kB\u001b[0m \u001b[31m6.2 MB/s\u001b[0m eta \u001b[36m0:00:00\u001b[0m\n",
            "\u001b[?25h  Preparing metadata (setup.py) ... \u001b[?25l\u001b[?25hdone\n",
            "Requirement already satisfied: numpy>=1.3.0 in /usr/local/lib/python3.10/dist-packages (from minepy) (1.23.5)\n",
            "Building wheels for collected packages: minepy\n",
            "  Building wheel for minepy (setup.py) ... \u001b[?25l\u001b[?25hdone\n",
            "  Created wheel for minepy: filename=minepy-1.2.6-cp310-cp310-linux_x86_64.whl size=187006 sha256=603059c9cf33e51fc24aa46c476c2de815c9354d535267891f83a38d01e6e30c\n",
            "  Stored in directory: /root/.cache/pip/wheels/69/38/a6/825bb9b9ed81e6af43a0ef80c7cfe4cafcfdbc2f5cde2959d9\n",
            "Successfully built minepy\n",
            "Installing collected packages: minepy\n",
            "Successfully installed minepy-1.2.6\n"
          ]
        }
      ]
    },
    {
      "cell_type": "code",
      "execution_count": 27,
      "metadata": {
        "id": "ZwyWDNRbxMt-"
      },
      "outputs": [],
      "source": [
        "import numpy as np\n",
        "from scipy import stats\n",
        "from minepy import MINE"
      ]
    },
    {
      "cell_type": "markdown",
      "source": [
        "# Association"
      ],
      "metadata": {
        "id": "catM_It4sk3f"
      }
    },
    {
      "cell_type": "code",
      "source": [
        "class BookSCM:\n",
        "    def __init__(self, random_seed=42):\n",
        "        \"\"\"\n",
        "        We assume that the unobserved noise variables\n",
        "        u_0 and u_1 are uncorrelated\n",
        "        \"\"\"\n",
        "        self.random_seed = random_seed\n",
        "        self.u_0 = stats.uniform()\n",
        "        self.u_1 = stats.norm()\n",
        "\n",
        "    def sample(self, sample_size=100):\n",
        "        \"\"\"Samples from the SCM\"\"\"\n",
        "        if self.random_seed:\n",
        "            np.random.seed(self.random_seed)\n",
        "\n",
        "        u_0 = self.u_0.rvs(sample_size)\n",
        "        u_1 = self.u_1.rvs(sample_size)\n",
        "        a = u_0 > .61\n",
        "        b = (a + .5 * u_1) > .2\n",
        "\n",
        "        return a, b"
      ],
      "metadata": {
        "id": "Q41qpU18xRVx"
      },
      "execution_count": 3,
      "outputs": []
    },
    {
      "cell_type": "code",
      "source": [
        "scm = BookSCM()\n",
        "\n",
        "buy_book_a, buy_book_b = scm.sample(100)"
      ],
      "metadata": {
        "id": "1M3VG1nOxZeV"
      },
      "execution_count": 5,
      "outputs": []
    },
    {
      "cell_type": "code",
      "source": [
        "buy_book_a.shape, buy_book_b.shape"
      ],
      "metadata": {
        "colab": {
          "base_uri": "https://localhost:8080/"
        },
        "id": "Xw4qDqG_zAqz",
        "outputId": "1ea43a6b-6dfc-40b8-c92f-31c6343941eb"
      },
      "execution_count": 19,
      "outputs": [
        {
          "output_type": "execute_result",
          "data": {
            "text/plain": [
              "((100,), (100,))"
            ]
          },
          "metadata": {},
          "execution_count": 19
        }
      ]
    },
    {
      "cell_type": "code",
      "source": [
        "prob_book_a = buy_book_a.sum() / buy_book_a.shape[0]\n",
        "prob_book_b = buy_book_b.sum() / buy_book_b.shape[0]"
      ],
      "metadata": {
        "id": "lm8eMCIYxr7V"
      },
      "execution_count": 9,
      "outputs": []
    },
    {
      "cell_type": "code",
      "source": [
        "prob_book_a, prob_book_b"
      ],
      "metadata": {
        "colab": {
          "base_uri": "https://localhost:8080/"
        },
        "id": "3VyKFZhJyCib",
        "outputId": "a51c7b99-3821-4a4a-e0eb-507f8201fa30"
      },
      "execution_count": 10,
      "outputs": [
        {
          "output_type": "execute_result",
          "data": {
            "text/plain": [
              "(0.35, 0.55)"
            ]
          },
          "metadata": {},
          "execution_count": 10
        }
      ]
    },
    {
      "cell_type": "code",
      "source": [
        "prob_book_a_given_book_b = np.where(buy_book_b, buy_book_a, 0).sum() / buy_book_b.sum()\n",
        "prob_book_b_given_book_a = np.where(buy_book_a, buy_book_b, 0).sum() / buy_book_a.sum()"
      ],
      "metadata": {
        "id": "QZOiNt07yEyq"
      },
      "execution_count": 11,
      "outputs": []
    },
    {
      "cell_type": "code",
      "source": [
        "prob_book_a_given_book_b, prob_book_b_given_book_a"
      ],
      "metadata": {
        "colab": {
          "base_uri": "https://localhost:8080/"
        },
        "id": "ZQReQzjjyl5M",
        "outputId": "0cf939dd-de41-42fa-cb0e-67f89dd3b30b"
      },
      "execution_count": 12,
      "outputs": [
        {
          "output_type": "execute_result",
          "data": {
            "text/plain": [
              "(0.6181818181818182, 0.9714285714285714)"
            ]
          },
          "metadata": {},
          "execution_count": 12
        }
      ]
    },
    {
      "cell_type": "code",
      "source": [
        "np.where(buy_book_b, buy_book_a, 0)"
      ],
      "metadata": {
        "colab": {
          "base_uri": "https://localhost:8080/"
        },
        "id": "xRK3R8z8ypW1",
        "outputId": "d5396f12-a2da-41da-f030-e03d7d555038"
      },
      "execution_count": 22,
      "outputs": [
        {
          "output_type": "execute_result",
          "data": {
            "text/plain": [
              "array([0, 1, 1, 0, 0, 0, 0, 1, 0, 1, 0, 1, 1, 0, 0, 0, 0, 0, 0, 0, 1, 0,\n",
              "       0, 0, 0, 1, 0, 0, 0, 0, 0, 0, 0, 1, 0, 1, 0, 0, 1, 0, 0, 0, 0, 1,\n",
              "       0, 1, 0, 0, 0, 0, 1, 1, 1, 1, 0, 1, 0, 0, 0, 0, 0, 0, 1, 0, 0, 0,\n",
              "       0, 1, 0, 1, 1, 0, 0, 1, 1, 1, 1, 0, 0, 0, 1, 1, 0, 0, 0, 0, 1, 1,\n",
              "       1, 0, 0, 1, 1, 0, 1, 0, 0, 0, 0, 0])"
            ]
          },
          "metadata": {},
          "execution_count": 22
        }
      ]
    },
    {
      "cell_type": "markdown",
      "source": [
        "# Intervention"
      ],
      "metadata": {
        "id": "kT98CscBsmxl"
      }
    },
    {
      "cell_type": "code",
      "source": [
        "np.random.seed(45)\n",
        "SAMPLE_SIZE = 100"
      ],
      "metadata": {
        "id": "r3U7DuQEysZ7"
      },
      "execution_count": 3,
      "outputs": []
    },
    {
      "cell_type": "code",
      "source": [
        "u_0 = np.random.randn(SAMPLE_SIZE)\n",
        "u_1 = np.random.randn(SAMPLE_SIZE)\n",
        "a = u_0\n",
        "b = 5 * a + u_1\n",
        "\n",
        "r, p = stats.pearsonr(a, b)\n",
        "r, p"
      ],
      "metadata": {
        "colab": {
          "base_uri": "https://localhost:8080/"
        },
        "id": "juOY8ILFvZQL",
        "outputId": "a03bc2bb-0fe9-4cf4-9a26-65559a174c6a"
      },
      "execution_count": 4,
      "outputs": [
        {
          "output_type": "execute_result",
          "data": {
            "text/plain": [
              "(0.9776350497880796, 3.5878300257941764e-68)"
            ]
          },
          "metadata": {},
          "execution_count": 4
        }
      ]
    },
    {
      "cell_type": "code",
      "source": [
        "print(f'Mean of B before any intervention: {b.mean():.3f}')\n",
        "print(f'Variance of B before any intervention: {b.var():.3f}')\n",
        "print(f'Correlation between A and B:\\nr = {r:.3f}; p = {p:.3f}\\n')\n",
        "\n",
        "a = np.array([1.5] * SAMPLE_SIZE)\n",
        "b = 5 * a + u_1\n",
        "\n",
        "print(f'Mean of B after the intervention on A: {b.mean():.3f}')\n",
        "print(f'Variance of B after the intervention on A: {b.var():.3f}\\n')"
      ],
      "metadata": {
        "colab": {
          "base_uri": "https://localhost:8080/"
        },
        "id": "JHIasBiSvd-B",
        "outputId": "d250c530-3759-4d65-dcb8-e37820f21897"
      },
      "execution_count": 5,
      "outputs": [
        {
          "output_type": "stream",
          "name": "stdout",
          "text": [
            "Mean of B before any intervention: -0.620\n",
            "Variance of B before any intervention: 22.667\n",
            "Correlation between A and B:\n",
            "r = 0.978; p = 0.000\n",
            "\n",
            "Mean of B after the intervention on A: 7.575\n",
            "Variance of B after the intervention on A: 1.003\n",
            "\n"
          ]
        }
      ]
    },
    {
      "cell_type": "code",
      "source": [
        "a = u_0\n",
        "b = np.random.randn(SAMPLE_SIZE)\n",
        "\n",
        "r, p = stats.pearsonr(a, b)\n",
        "\n",
        "print(f'Mean of B after the intervention on B: {b.mean():.3f}')\n",
        "print(f'Variance of B after the intervention on B: {b.var():.3f}')\n",
        "print(f'Correlation between A and B after intervening on B:\\nr = {r:.3f}; p = {p:.3f}\\n')"
      ],
      "metadata": {
        "colab": {
          "base_uri": "https://localhost:8080/"
        },
        "id": "x5FmST1Pvnqo",
        "outputId": "a446476e-4dca-49f6-a8b1-01009778fd72"
      },
      "execution_count": 6,
      "outputs": [
        {
          "output_type": "stream",
          "name": "stdout",
          "text": [
            "Mean of B after the intervention on B: 0.186\n",
            "Variance of B after the intervention on B: 0.995\n",
            "Correlation between A and B after intervening on B:\n",
            "r = -0.023; p = 0.821\n",
            "\n"
          ]
        }
      ]
    },
    {
      "cell_type": "markdown",
      "source": [
        "When there is causation but no correlation (in the monotonic sense)."
      ],
      "metadata": {
        "id": "1A8KMGgwvymX"
      }
    },
    {
      "cell_type": "markdown",
      "source": [
        "A simple case is non-linear relationships between $x$ and $y$."
      ],
      "metadata": {
        "id": "wMMPSpA3xIlU"
      }
    },
    {
      "cell_type": "code",
      "source": [
        "x = stats.uniform(loc=-2, scale=4).rvs(SAMPLE_SIZE)\n",
        "y = x**2 + 0.2 * np.random.randn(SAMPLE_SIZE)"
      ],
      "metadata": {
        "id": "h-96vng8vo-i"
      },
      "execution_count": 24,
      "outputs": []
    },
    {
      "cell_type": "code",
      "source": [
        "r, p = stats.pearsonr(x, y)\n",
        "r, p"
      ],
      "metadata": {
        "colab": {
          "base_uri": "https://localhost:8080/"
        },
        "id": "Tu1iE2CJwVjx",
        "outputId": "441829a1-c0d4-41ef-cf32-3bca39033f1d"
      },
      "execution_count": 25,
      "outputs": [
        {
          "output_type": "execute_result",
          "data": {
            "text/plain": [
              "(-0.16984207823854364, 0.09114954756216956)"
            ]
          },
          "metadata": {},
          "execution_count": 25
        }
      ]
    },
    {
      "cell_type": "markdown",
      "source": [
        "But $x$ causes y here. We will need a measure such as Maximal Information Coefficient (MIC) that can sniff out non-monotonic correlations."
      ],
      "metadata": {
        "id": "5h5RlqYLxVSu"
      }
    },
    {
      "cell_type": "code",
      "source": [
        "mine = MINE(alpha=0.6, c=15, est=\"mic_approx\")"
      ],
      "metadata": {
        "id": "qll7pamoxTs7"
      },
      "execution_count": 28,
      "outputs": []
    },
    {
      "cell_type": "code",
      "source": [
        "mine.compute_score(x, y)"
      ],
      "metadata": {
        "id": "qfeII6Dxy2ze"
      },
      "execution_count": 29,
      "outputs": []
    },
    {
      "cell_type": "code",
      "source": [
        "mine.mic()"
      ],
      "metadata": {
        "colab": {
          "base_uri": "https://localhost:8080/"
        },
        "id": "jBZ_ouFdy55V",
        "outputId": "ae35113d-61c3-4a56-d196-b95fa48ee0fe"
      },
      "execution_count": 30,
      "outputs": [
        {
          "output_type": "execute_result",
          "data": {
            "text/plain": [
              "0.9395815602003367"
            ]
          },
          "metadata": {},
          "execution_count": 30
        }
      ]
    },
    {
      "cell_type": "markdown",
      "source": [
        "Bad sampling"
      ],
      "metadata": {
        "id": "ZxOU_KPz41UP"
      }
    },
    {
      "cell_type": "code",
      "source": [
        "# Get initial x\n",
        "x = np.random.uniform(-2, 2, 5000)\n",
        "\n",
        "# Filter samples\n",
        "x = x[np.where((x < -1.9) | (x > 1.9), True, False)]\n",
        "\n",
        "# Get y\n",
        "y = x**2 + 0.2*np.random.randn(len(x))"
      ],
      "metadata": {
        "id": "2xga4O2040qU"
      },
      "execution_count": 35,
      "outputs": []
    },
    {
      "cell_type": "code",
      "source": [
        "mine.compute_score(x, y)"
      ],
      "metadata": {
        "id": "Kc8sIA9a43S2"
      },
      "execution_count": 36,
      "outputs": []
    },
    {
      "cell_type": "code",
      "source": [
        "mine.mic()"
      ],
      "metadata": {
        "colab": {
          "base_uri": "https://localhost:8080/"
        },
        "id": "2rB3qBty46Cn",
        "outputId": "0b7ad44d-fa78-42a5-ad80-7bc37e93b455"
      },
      "execution_count": 37,
      "outputs": [
        {
          "output_type": "execute_result",
          "data": {
            "text/plain": [
              "0.2614719216561705"
            ]
          },
          "metadata": {},
          "execution_count": 37
        }
      ]
    },
    {
      "cell_type": "code",
      "source": [
        "r, p = stats.pearsonr(x, y)\n",
        "r, p"
      ],
      "metadata": {
        "colab": {
          "base_uri": "https://localhost:8080/"
        },
        "id": "Hc6vRUeL4-I4",
        "outputId": "7a6e2c9d-8249-402e-d59e-d98e387f1523"
      },
      "execution_count": 38,
      "outputs": [
        {
          "output_type": "execute_result",
          "data": {
            "text/plain": [
              "(0.09435941057381711, 0.1433155258322966)"
            ]
          },
          "metadata": {},
          "execution_count": 38
        }
      ]
    },
    {
      "cell_type": "markdown",
      "source": [
        "# Counterfactuals"
      ],
      "metadata": {
        "id": "BSjeRAx20Kls"
      }
    },
    {
      "cell_type": "markdown",
      "source": [
        "Given the following deterministic SCM:\n",
        "\n",
        "$\n",
        "Y = TU + (T-1)(U-1)\n",
        "$"
      ],
      "metadata": {
        "id": "FGDAgPsg4PVl"
      }
    },
    {
      "cell_type": "code",
      "source": [
        "class CounterfactualSCM:\n",
        "\n",
        "    def abduct(self, t, y):\n",
        "        return (t + y - 1)/(2*t - 1)\n",
        "\n",
        "    def modify(self, t):\n",
        "        return lambda u: t * u + (t - 1) * (u - 1)\n",
        "\n",
        "    def predict(self, u, t):\n",
        "        return self.modify(t)(u)"
      ],
      "metadata": {
        "id": "IVMC-LtMy9J2"
      },
      "execution_count": 31,
      "outputs": []
    },
    {
      "cell_type": "code",
      "source": [
        "t, y = 1, 1\n",
        "coffee = CounterfactualSCM()"
      ],
      "metadata": {
        "id": "xEm3oR2l4YFP"
      },
      "execution_count": 32,
      "outputs": []
    },
    {
      "cell_type": "code",
      "source": [
        "u = coffee.abduct(t, y)"
      ],
      "metadata": {
        "id": "LS2WDO7G4fcR"
      },
      "execution_count": 33,
      "outputs": []
    },
    {
      "cell_type": "code",
      "source": [
        "coffee.predict(u, 0)"
      ],
      "metadata": {
        "colab": {
          "base_uri": "https://localhost:8080/"
        },
        "id": "oF4We-Nt4lFS",
        "outputId": "9fe17557-ef3c-4262-cd5b-f4a7a672e005"
      },
      "execution_count": 34,
      "outputs": [
        {
          "output_type": "execute_result",
          "data": {
            "text/plain": [
              "0.0"
            ]
          },
          "metadata": {},
          "execution_count": 34
        }
      ]
    }
  ]
}
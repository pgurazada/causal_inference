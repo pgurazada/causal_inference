{
  "nbformat": 4,
  "nbformat_minor": 0,
  "metadata": {
    "colab": {
      "provenance": [],
      "authorship_tag": "ABX9TyOZJmwwpczb8zvFerIXioY3",
      "include_colab_link": true
    },
    "kernelspec": {
      "name": "python3",
      "display_name": "Python 3"
    },
    "language_info": {
      "name": "python"
    }
  },
  "cells": [
    {
      "cell_type": "markdown",
      "metadata": {
        "id": "view-in-github",
        "colab_type": "text"
      },
      "source": [
        "<a href=\"https://colab.research.google.com/github/pgurazada/causal_inference/blob/master/02_regression_association.ipynb\" target=\"_parent\"><img src=\"https://colab.research.google.com/assets/colab-badge.svg\" alt=\"Open In Colab\"/></a>"
      ]
    },
    {
      "cell_type": "code",
      "execution_count": 32,
      "metadata": {
        "id": "ZwyWDNRbxMt-"
      },
      "outputs": [],
      "source": [
        "import graphviz\n",
        "\n",
        "import numpy as np\n",
        "import statsmodels.api as sm\n",
        "\n",
        "from scipy import stats"
      ]
    },
    {
      "cell_type": "markdown",
      "source": [
        "# Introduction"
      ],
      "metadata": {
        "id": "4pP7dFGz7d3M"
      }
    },
    {
      "cell_type": "markdown",
      "source": [
        "Regression as a method to estimate causal effects, *when a causal model is specified*. This comes down to choosing proper controls."
      ],
      "metadata": {
        "id": "-McGMKaG8S5J"
      }
    },
    {
      "cell_type": "markdown",
      "source": [
        "$\n",
        "\\hat{y} = 1.12 + 0.93 x_i + 0.5\\epsilon_i\n",
        "$"
      ],
      "metadata": {
        "id": "GQccwyhN8U2s"
      }
    },
    {
      "cell_type": "code",
      "source": [
        "np.random.seed(42)"
      ],
      "metadata": {
        "id": "GXtevd8V8R-K"
      },
      "execution_count": 23,
      "outputs": []
    },
    {
      "cell_type": "code",
      "source": [
        "N_SAMPLES = 5000\n",
        "\n",
        "# Define true model parameters\n",
        "alpha = 1.12\n",
        "beta = 0.93\n",
        "epsilon = np.random.randn(N_SAMPLES)"
      ],
      "metadata": {
        "id": "z-tZ3kWE8ke3"
      },
      "execution_count": 24,
      "outputs": []
    },
    {
      "cell_type": "code",
      "source": [
        "# Generate X\n",
        "x = np.random.randn(N_SAMPLES)\n",
        "\n",
        "# Compute Y\n",
        "y = alpha + beta * x + 0.5 * epsilon"
      ],
      "metadata": {
        "id": "ZDZaQSqo8ovj"
      },
      "execution_count": 25,
      "outputs": []
    },
    {
      "cell_type": "code",
      "source": [
        "# Statsmodel models require us to add constant\n",
        "X = sm.add_constant(x)"
      ],
      "metadata": {
        "id": "KAm_K7Of8qLm"
      },
      "execution_count": 26,
      "outputs": []
    },
    {
      "cell_type": "code",
      "source": [
        "# Instantiate the model and fit it\n",
        "model = sm.OLS(y, X)\n",
        "fitted_model = model.fit()"
      ],
      "metadata": {
        "id": "aVkLFwXC8tiE"
      },
      "execution_count": 27,
      "outputs": []
    },
    {
      "cell_type": "code",
      "source": [
        "# Print results summary\n",
        "print(fitted_model.summary())"
      ],
      "metadata": {
        "colab": {
          "base_uri": "https://localhost:8080/"
        },
        "id": "z_7Q2ecN8wVl",
        "outputId": "ede616a5-f5de-4904-a10c-790dc5135ebf"
      },
      "execution_count": 28,
      "outputs": [
        {
          "output_type": "stream",
          "name": "stdout",
          "text": [
            "                            OLS Regression Results                            \n",
            "==============================================================================\n",
            "Dep. Variable:                      y   R-squared:                       0.780\n",
            "Model:                            OLS   Adj. R-squared:                  0.780\n",
            "Method:                 Least Squares   F-statistic:                 1.774e+04\n",
            "Date:                Mon, 01 Jan 2024   Prob (F-statistic):               0.00\n",
            "Time:                        04:46:48   Log-Likelihood:                -3610.8\n",
            "No. Observations:                5000   AIC:                             7226.\n",
            "Df Residuals:                    4998   BIC:                             7239.\n",
            "Df Model:                           1                                         \n",
            "Covariance Type:            nonrobust                                         \n",
            "==============================================================================\n",
            "                 coef    std err          t      P>|t|      [0.025      0.975]\n",
            "------------------------------------------------------------------------------\n",
            "const          1.1228      0.007    159.324      0.000       1.109       1.137\n",
            "x1             0.9291      0.007    133.210      0.000       0.915       0.943\n",
            "==============================================================================\n",
            "Omnibus:                        0.512   Durbin-Watson:                   2.026\n",
            "Prob(Omnibus):                  0.774   Jarque-Bera (JB):                0.461\n",
            "Skew:                          -0.012   Prob(JB):                        0.794\n",
            "Kurtosis:                       3.040   Cond. No.                         1.01\n",
            "==============================================================================\n",
            "\n",
            "Notes:\n",
            "[1] Standard Errors assume that the covariance matrix of the errors is correctly specified.\n"
          ]
        }
      ]
    },
    {
      "cell_type": "markdown",
      "source": [
        "Reversing $x$ and $y$ indicates that regression estimates cannot give guidance on causality."
      ],
      "metadata": {
        "id": "5VXawLnpWDhi"
      }
    },
    {
      "cell_type": "code",
      "source": [
        "# Let's remove the constant (now X becomes our target variable)\n",
        "x_rev = X[:, 1]\n",
        "\n",
        "# Let's add constant (now Y becomes our predictor)\n",
        "Y_rev = sm.add_constant(y)"
      ],
      "metadata": {
        "id": "1w3kB3mX-ByB"
      },
      "execution_count": 29,
      "outputs": []
    },
    {
      "cell_type": "code",
      "source": [
        "# Instantiate the model and fit it\n",
        "model_rev = sm.OLS(x_rev, Y_rev)\n",
        "fitted_model_rev = model_rev.fit()\n",
        "\n",
        "# Print results summary\n",
        "print(fitted_model_rev.summary())"
      ],
      "metadata": {
        "colab": {
          "base_uri": "https://localhost:8080/"
        },
        "id": "rHAtbq-fWJHp",
        "outputId": "cf972751-b33f-45dd-afa0-70342f99a2fa"
      },
      "execution_count": 30,
      "outputs": [
        {
          "output_type": "stream",
          "name": "stdout",
          "text": [
            "                            OLS Regression Results                            \n",
            "==============================================================================\n",
            "Dep. Variable:                      y   R-squared:                       0.780\n",
            "Model:                            OLS   Adj. R-squared:                  0.780\n",
            "Method:                 Least Squares   F-statistic:                 1.774e+04\n",
            "Date:                Mon, 01 Jan 2024   Prob (F-statistic):               0.00\n",
            "Time:                        04:46:58   Log-Likelihood:                -3358.1\n",
            "No. Observations:                5000   AIC:                             6720.\n",
            "Df Residuals:                    4998   BIC:                             6733.\n",
            "Df Model:                           1                                         \n",
            "Covariance Type:            nonrobust                                         \n",
            "==============================================================================\n",
            "                 coef    std err          t      P>|t|      [0.025      0.975]\n",
            "------------------------------------------------------------------------------\n",
            "const         -0.9451      0.010    -97.388      0.000      -0.964      -0.926\n",
            "x1             0.8398      0.006    133.210      0.000       0.827       0.852\n",
            "==============================================================================\n",
            "Omnibus:                        0.490   Durbin-Watson:                   2.016\n",
            "Prob(Omnibus):                  0.783   Jarque-Bera (JB):                0.478\n",
            "Skew:                          -0.024   Prob(JB):                        0.787\n",
            "Kurtosis:                       3.006   Cond. No.                         2.82\n",
            "==============================================================================\n",
            "\n",
            "Notes:\n",
            "[1] Standard Errors assume that the covariance matrix of the errors is correctly specified.\n"
          ]
        }
      ]
    },
    {
      "cell_type": "markdown",
      "source": [
        "Should we add all the controls? Consider the following structural model."
      ],
      "metadata": {
        "id": "JUd4EHNKW-qH"
      }
    },
    {
      "cell_type": "code",
      "source": [
        "g1 = graphviz.Digraph()\n",
        "nodes_1 = ['A', 'X', 'B', 'Y']\n",
        "[g1.node(n) for n in nodes_1]\n",
        "g1.edges(['AX', 'XB', 'AY', 'YB'])\n",
        "g1"
      ],
      "metadata": {
        "colab": {
          "base_uri": "https://localhost:8080/",
          "height": 272
        },
        "id": "e6UdLWh9WK9f",
        "outputId": "cba3d818-831e-463e-cd9a-1574e741b2ab"
      },
      "execution_count": 33,
      "outputs": [
        {
          "output_type": "execute_result",
          "data": {
            "image/svg+xml": "<?xml version=\"1.0\" encoding=\"UTF-8\" standalone=\"no\"?>\n<!DOCTYPE svg PUBLIC \"-//W3C//DTD SVG 1.1//EN\"\n \"http://www.w3.org/Graphics/SVG/1.1/DTD/svg11.dtd\">\n<!-- Generated by graphviz version 2.43.0 (0)\n -->\n<!-- Title: %3 Pages: 1 -->\n<svg width=\"134pt\" height=\"188pt\"\n viewBox=\"0.00 0.00 134.00 188.00\" xmlns=\"http://www.w3.org/2000/svg\" xmlns:xlink=\"http://www.w3.org/1999/xlink\">\n<g id=\"graph0\" class=\"graph\" transform=\"scale(1 1) rotate(0) translate(4 184)\">\n<title>%3</title>\n<polygon fill=\"white\" stroke=\"transparent\" points=\"-4,4 -4,-184 130,-184 130,4 -4,4\"/>\n<!-- A -->\n<g id=\"node1\" class=\"node\">\n<title>A</title>\n<ellipse fill=\"none\" stroke=\"black\" cx=\"63\" cy=\"-162\" rx=\"27\" ry=\"18\"/>\n<text text-anchor=\"middle\" x=\"63\" y=\"-158.3\" font-family=\"Times,serif\" font-size=\"14.00\">A</text>\n</g>\n<!-- X -->\n<g id=\"node2\" class=\"node\">\n<title>X</title>\n<ellipse fill=\"none\" stroke=\"black\" cx=\"27\" cy=\"-90\" rx=\"27\" ry=\"18\"/>\n<text text-anchor=\"middle\" x=\"27\" y=\"-86.3\" font-family=\"Times,serif\" font-size=\"14.00\">X</text>\n</g>\n<!-- A&#45;&gt;X -->\n<g id=\"edge1\" class=\"edge\">\n<title>A&#45;&gt;X</title>\n<path fill=\"none\" stroke=\"black\" d=\"M54.65,-144.76C50.29,-136.28 44.85,-125.71 39.96,-116.2\"/>\n<polygon fill=\"black\" stroke=\"black\" points=\"42.99,-114.44 35.3,-107.15 36.77,-117.64 42.99,-114.44\"/>\n</g>\n<!-- Y -->\n<g id=\"node4\" class=\"node\">\n<title>Y</title>\n<ellipse fill=\"none\" stroke=\"black\" cx=\"99\" cy=\"-90\" rx=\"27\" ry=\"18\"/>\n<text text-anchor=\"middle\" x=\"99\" y=\"-86.3\" font-family=\"Times,serif\" font-size=\"14.00\">Y</text>\n</g>\n<!-- A&#45;&gt;Y -->\n<g id=\"edge3\" class=\"edge\">\n<title>A&#45;&gt;Y</title>\n<path fill=\"none\" stroke=\"black\" d=\"M71.35,-144.76C75.71,-136.28 81.15,-125.71 86.04,-116.2\"/>\n<polygon fill=\"black\" stroke=\"black\" points=\"89.23,-117.64 90.7,-107.15 83.01,-114.44 89.23,-117.64\"/>\n</g>\n<!-- B -->\n<g id=\"node3\" class=\"node\">\n<title>B</title>\n<ellipse fill=\"none\" stroke=\"black\" cx=\"63\" cy=\"-18\" rx=\"27\" ry=\"18\"/>\n<text text-anchor=\"middle\" x=\"63\" y=\"-14.3\" font-family=\"Times,serif\" font-size=\"14.00\">B</text>\n</g>\n<!-- X&#45;&gt;B -->\n<g id=\"edge2\" class=\"edge\">\n<title>X&#45;&gt;B</title>\n<path fill=\"none\" stroke=\"black\" d=\"M35.35,-72.76C39.71,-64.28 45.15,-53.71 50.04,-44.2\"/>\n<polygon fill=\"black\" stroke=\"black\" points=\"53.23,-45.64 54.7,-35.15 47.01,-42.44 53.23,-45.64\"/>\n</g>\n<!-- Y&#45;&gt;B -->\n<g id=\"edge4\" class=\"edge\">\n<title>Y&#45;&gt;B</title>\n<path fill=\"none\" stroke=\"black\" d=\"M90.65,-72.76C86.29,-64.28 80.85,-53.71 75.96,-44.2\"/>\n<polygon fill=\"black\" stroke=\"black\" points=\"78.99,-42.44 71.3,-35.15 72.77,-45.64 78.99,-42.44\"/>\n</g>\n</g>\n</svg>\n",
            "text/plain": [
              "<graphviz.graphs.Digraph at 0x7cb77abe8b20>"
            ]
          },
          "metadata": {},
          "execution_count": 33
        }
      ]
    },
    {
      "cell_type": "code",
      "source": [
        "# Define the sample size\n",
        "N_SAMPLES = 1000\n",
        "\n",
        "# Build the graph (note that the coefficients are arbitrarily chosen)\n",
        "a = np.random.randn(N_SAMPLES)\n",
        "x = 2 * a + 0.5 * np.random.randn(N_SAMPLES)\n",
        "y = 2 * a + 0.5 * np.random.randn(N_SAMPLES)\n",
        "b = 1.5 * x + 0.75 * y"
      ],
      "metadata": {
        "id": "oTFyzDjiXNlA"
      },
      "execution_count": 34,
      "outputs": []
    },
    {
      "cell_type": "code",
      "source": [
        "# Define four model variants\n",
        "variants = [\n",
        "    [x],\n",
        "    [x, a],\n",
        "    [x, b],\n",
        "    [x, a, b]\n",
        "]\n",
        "\n",
        "# Fit models iteratively and store the results\n",
        "results = []\n",
        "for variant in variants:\n",
        "    X = sm.add_constant(np.stack(variant).T)\n",
        "\n",
        "    # Instantiate the model and fit it\n",
        "    model = sm.OLS(y, X)\n",
        "    fitted_model = model.fit()\n",
        "\n",
        "    results.append((fitted_model.params, fitted_model.pvalues))\n",
        "\n",
        "    print(f'Params: {fitted_model.params.round(3)}')\n",
        "    print(f'p-vals: {fitted_model.pvalues.round(3)}')\n",
        "    print(f'Signif: {fitted_model.pvalues <= .05}\\n')"
      ],
      "metadata": {
        "colab": {
          "base_uri": "https://localhost:8080/"
        },
        "id": "TbNti0utXmJo",
        "outputId": "8f5b84c8-19b3-4660-df15-2cc0e7244927"
      },
      "execution_count": 36,
      "outputs": [
        {
          "output_type": "stream",
          "name": "stdout",
          "text": [
            "Params: [0.005 0.941]\n",
            "p-vals: [0.822 0.   ]\n",
            "Signif: [False  True]\n",
            "\n",
            "Params: [0.005 0.013 1.997]\n",
            "p-vals: [0.73  0.679 0.   ]\n",
            "Signif: [False False  True]\n",
            "\n",
            "Params: [-0.    -2.     1.333]\n",
            "p-vals: [0.004 0.    0.   ]\n",
            "Signif: [ True  True  True]\n",
            "\n",
            "Params: [ 0.    -2.     0.     1.333]\n",
            "p-vals: [0.    0.    0.416 0.   ]\n",
            "Signif: [ True  True False  True]\n",
            "\n"
          ]
        }
      ]
    },
    {
      "cell_type": "markdown",
      "source": [
        "What if the relationship is non-linear? Will linear regression work?"
      ],
      "metadata": {
        "id": "-le14J7XbCE0"
      }
    },
    {
      "cell_type": "code",
      "source": [
        "g_2 = graphviz.Digraph(\n",
        "    graph_attr={\n",
        "        'rankdir':'LR',\n",
        "        'ranksep': '.6',\n",
        "        'nodesep': '1.5'\n",
        "    }\n",
        ")\n",
        "\n",
        "# Add nodes\n",
        "nodes_2 = ['A', 'X', 'Y']\n",
        "[g_2.node(n) for n in nodes_2]\n",
        "\n",
        "g_2.edges(['AY', 'AX', 'XY'])\n",
        "g_2"
      ],
      "metadata": {
        "colab": {
          "base_uri": "https://localhost:8080/",
          "height": 201
        },
        "id": "YPN_ygXvXtDi",
        "outputId": "80150c62-4f99-4565-e1e2-2b42cf660f13"
      },
      "execution_count": 38,
      "outputs": [
        {
          "output_type": "execute_result",
          "data": {
            "image/svg+xml": "<?xml version=\"1.0\" encoding=\"UTF-8\" standalone=\"no\"?>\n<!DOCTYPE svg PUBLIC \"-//W3C//DTD SVG 1.1//EN\"\n \"http://www.w3.org/Graphics/SVG/1.1/DTD/svg11.dtd\">\n<!-- Generated by graphviz version 2.43.0 (0)\n -->\n<!-- Title: %3 Pages: 1 -->\n<svg width=\"256pt\" height=\"135pt\"\n viewBox=\"0.00 0.00 256.00 135.00\" xmlns=\"http://www.w3.org/2000/svg\" xmlns:xlink=\"http://www.w3.org/1999/xlink\">\n<g id=\"graph0\" class=\"graph\" transform=\"scale(1 1) rotate(0) translate(4 131)\">\n<title>%3</title>\n<polygon fill=\"white\" stroke=\"transparent\" points=\"-4,4 -4,-131 252,-131 252,4 -4,4\"/>\n<!-- A -->\n<g id=\"node1\" class=\"node\">\n<title>A</title>\n<ellipse fill=\"none\" stroke=\"black\" cx=\"27\" cy=\"-18\" rx=\"27\" ry=\"18\"/>\n<text text-anchor=\"middle\" x=\"27\" y=\"-14.3\" font-family=\"Times,serif\" font-size=\"14.00\">A</text>\n</g>\n<!-- X -->\n<g id=\"node2\" class=\"node\">\n<title>X</title>\n<ellipse fill=\"none\" stroke=\"black\" cx=\"124\" cy=\"-109\" rx=\"27\" ry=\"18\"/>\n<text text-anchor=\"middle\" x=\"124\" y=\"-105.3\" font-family=\"Times,serif\" font-size=\"14.00\">X</text>\n</g>\n<!-- A&#45;&gt;X -->\n<g id=\"edge2\" class=\"edge\">\n<title>A&#45;&gt;X</title>\n<path fill=\"none\" stroke=\"black\" d=\"M43.26,-32.62C58.64,-47.35 82.54,-70.24 100.17,-87.13\"/>\n<polygon fill=\"black\" stroke=\"black\" points=\"98.13,-90.03 107.77,-94.42 102.97,-84.97 98.13,-90.03\"/>\n</g>\n<!-- Y -->\n<g id=\"node3\" class=\"node\">\n<title>Y</title>\n<ellipse fill=\"none\" stroke=\"black\" cx=\"221\" cy=\"-18\" rx=\"27\" ry=\"18\"/>\n<text text-anchor=\"middle\" x=\"221\" y=\"-14.3\" font-family=\"Times,serif\" font-size=\"14.00\">Y</text>\n</g>\n<!-- A&#45;&gt;Y -->\n<g id=\"edge1\" class=\"edge\">\n<title>A&#45;&gt;Y</title>\n<path fill=\"none\" stroke=\"black\" d=\"M54.29,-18C87.81,-18 145.91,-18 183.65,-18\"/>\n<polygon fill=\"black\" stroke=\"black\" points=\"183.72,-21.5 193.72,-18 183.72,-14.5 183.72,-21.5\"/>\n</g>\n<!-- X&#45;&gt;Y -->\n<g id=\"edge3\" class=\"edge\">\n<title>X&#45;&gt;Y</title>\n<path fill=\"none\" stroke=\"black\" d=\"M140.26,-94.38C155.64,-79.65 179.54,-56.76 197.17,-39.87\"/>\n<polygon fill=\"black\" stroke=\"black\" points=\"199.97,-42.03 204.77,-32.58 195.13,-36.97 199.97,-42.03\"/>\n</g>\n</g>\n</svg>\n",
            "text/plain": [
              "<graphviz.graphs.Digraph at 0x7cb77d61f8b0>"
            ]
          },
          "metadata": {},
          "execution_count": 38
        }
      ]
    },
    {
      "cell_type": "code",
      "source": [
        "# Define the sample size\n",
        "N_SAMPLES = 1000\n",
        "\n",
        "# Define the SCM\n",
        "a = np.random.randn(N_SAMPLES)\n",
        "x = 2 * a + .7 * np.random.randn(N_SAMPLES)\n",
        "y = 2 * a + 3 * x + .75 * x**2"
      ],
      "metadata": {
        "id": "ZUT08H36bLRW"
      },
      "execution_count": 39,
      "outputs": []
    },
    {
      "cell_type": "code",
      "source": [
        "# Statsmodel models require us to add constant\n",
        "X = sm.add_constant(np.stack([x, x**2, a]).T)\n",
        "\n",
        "# Instantiate the model and fit it\n",
        "model = sm.OLS(y, X)\n",
        "fitted_model = model.fit()\n",
        "\n",
        "# Print results summary\n",
        "print(fitted_model.summary(xname=['const', 'x', 'x^2', 'a']))"
      ],
      "metadata": {
        "colab": {
          "base_uri": "https://localhost:8080/"
        },
        "id": "H91d2EeqbhBQ",
        "outputId": "2a71b2ea-f237-4e92-e9f8-31f831f7e057"
      },
      "execution_count": 40,
      "outputs": [
        {
          "output_type": "stream",
          "name": "stdout",
          "text": [
            "                            OLS Regression Results                            \n",
            "==============================================================================\n",
            "Dep. Variable:                      y   R-squared:                       1.000\n",
            "Model:                            OLS   Adj. R-squared:                  1.000\n",
            "Method:                 Least Squares   F-statistic:                 8.656e+32\n",
            "Date:                Mon, 01 Jan 2024   Prob (F-statistic):               0.00\n",
            "Time:                        05:10:30   Log-Likelihood:                 31256.\n",
            "No. Observations:                1000   AIC:                        -6.250e+04\n",
            "Df Residuals:                     996   BIC:                        -6.248e+04\n",
            "Df Model:                           3                                         \n",
            "Covariance Type:            nonrobust                                         \n",
            "==============================================================================\n",
            "                 coef    std err          t      P>|t|      [0.025      0.975]\n",
            "------------------------------------------------------------------------------\n",
            "const      -1.166e-15   2.46e-16     -4.730      0.000   -1.65e-15   -6.82e-16\n",
            "x              3.0000    2.9e-16   1.03e+16      0.000       3.000       3.000\n",
            "x^2            0.7500   2.98e-17   2.51e+16      0.000       0.750       0.750\n",
            "a              2.0000   6.09e-16   3.29e+15      0.000       2.000       2.000\n",
            "==============================================================================\n",
            "Omnibus:                       40.585   Durbin-Watson:                   1.920\n",
            "Prob(Omnibus):                  0.000   Jarque-Bera (JB):               49.128\n",
            "Skew:                          -0.432   Prob(JB):                     2.15e-11\n",
            "Kurtosis:                       3.657   Cond. No.                         27.3\n",
            "==============================================================================\n",
            "\n",
            "Notes:\n",
            "[1] Standard Errors assume that the covariance matrix of the errors is correctly specified.\n"
          ]
        }
      ]
    },
    {
      "cell_type": "markdown",
      "source": [
        "Add all possible confounders as controls."
      ],
      "metadata": {
        "id": "5-RYi2uUbyjs"
      }
    },
    {
      "cell_type": "markdown",
      "source": [
        "# Good and bad controls"
      ],
      "metadata": {
        "id": "rj3y_N8DqC0o"
      }
    },
    {
      "cell_type": "markdown",
      "source": [
        "## Good control scenarios for $Z$"
      ],
      "metadata": {
        "id": "jGsgwsiTtvz3"
      }
    },
    {
      "cell_type": "markdown",
      "source": [
        "**Scenario 1: Z is a good control.**"
      ],
      "metadata": {
        "id": "ZPf1eVPZqXoT"
      }
    },
    {
      "cell_type": "code",
      "source": [
        "g = graphviz.Digraph()\n",
        "\n",
        "# Add nodes\n",
        "nodes = ['Z', 'X', 'Y']\n",
        "[g.node(n) for n in nodes]\n",
        "\n",
        "g.edges(['ZY', 'ZX', 'XY'])\n",
        "g"
      ],
      "metadata": {
        "colab": {
          "base_uri": "https://localhost:8080/",
          "height": 272
        },
        "id": "KR7omm_UbjrO",
        "outputId": "055af190-8d22-4cdd-d726-1adfafe77892"
      },
      "execution_count": 41,
      "outputs": [
        {
          "output_type": "execute_result",
          "data": {
            "image/svg+xml": "<?xml version=\"1.0\" encoding=\"UTF-8\" standalone=\"no\"?>\n<!DOCTYPE svg PUBLIC \"-//W3C//DTD SVG 1.1//EN\"\n \"http://www.w3.org/Graphics/SVG/1.1/DTD/svg11.dtd\">\n<!-- Generated by graphviz version 2.43.0 (0)\n -->\n<!-- Title: %3 Pages: 1 -->\n<svg width=\"89pt\" height=\"188pt\"\n viewBox=\"0.00 0.00 89.00 188.00\" xmlns=\"http://www.w3.org/2000/svg\" xmlns:xlink=\"http://www.w3.org/1999/xlink\">\n<g id=\"graph0\" class=\"graph\" transform=\"scale(1 1) rotate(0) translate(4 184)\">\n<title>%3</title>\n<polygon fill=\"white\" stroke=\"transparent\" points=\"-4,4 -4,-184 85,-184 85,4 -4,4\"/>\n<!-- Z -->\n<g id=\"node1\" class=\"node\">\n<title>Z</title>\n<ellipse fill=\"none\" stroke=\"black\" cx=\"54\" cy=\"-162\" rx=\"27\" ry=\"18\"/>\n<text text-anchor=\"middle\" x=\"54\" y=\"-158.3\" font-family=\"Times,serif\" font-size=\"14.00\">Z</text>\n</g>\n<!-- X -->\n<g id=\"node2\" class=\"node\">\n<title>X</title>\n<ellipse fill=\"none\" stroke=\"black\" cx=\"27\" cy=\"-90\" rx=\"27\" ry=\"18\"/>\n<text text-anchor=\"middle\" x=\"27\" y=\"-86.3\" font-family=\"Times,serif\" font-size=\"14.00\">X</text>\n</g>\n<!-- Z&#45;&gt;X -->\n<g id=\"edge2\" class=\"edge\">\n<title>Z&#45;&gt;X</title>\n<path fill=\"none\" stroke=\"black\" d=\"M47.6,-144.41C44.49,-136.34 40.67,-126.43 37.17,-117.35\"/>\n<polygon fill=\"black\" stroke=\"black\" points=\"40.4,-116.03 33.54,-107.96 33.87,-118.55 40.4,-116.03\"/>\n</g>\n<!-- Y -->\n<g id=\"node3\" class=\"node\">\n<title>Y</title>\n<ellipse fill=\"none\" stroke=\"black\" cx=\"54\" cy=\"-18\" rx=\"27\" ry=\"18\"/>\n<text text-anchor=\"middle\" x=\"54\" y=\"-14.3\" font-family=\"Times,serif\" font-size=\"14.00\">Y</text>\n</g>\n<!-- Z&#45;&gt;Y -->\n<g id=\"edge1\" class=\"edge\">\n<title>Z&#45;&gt;Y</title>\n<path fill=\"none\" stroke=\"black\" d=\"M57.65,-143.91C59.68,-133.57 61.98,-120.09 63,-108 64.34,-92.06 64.34,-87.94 63,-72 62.28,-63.5 60.93,-54.31 59.49,-46.01\"/>\n<polygon fill=\"black\" stroke=\"black\" points=\"62.91,-45.29 57.65,-36.09 56.03,-46.56 62.91,-45.29\"/>\n</g>\n<!-- X&#45;&gt;Y -->\n<g id=\"edge3\" class=\"edge\">\n<title>X&#45;&gt;Y</title>\n<path fill=\"none\" stroke=\"black\" d=\"M33.4,-72.41C36.51,-64.34 40.33,-54.43 43.83,-45.35\"/>\n<polygon fill=\"black\" stroke=\"black\" points=\"47.13,-46.55 47.46,-35.96 40.6,-44.03 47.13,-46.55\"/>\n</g>\n</g>\n</svg>\n",
            "text/plain": [
              "<graphviz.graphs.Digraph at 0x7cb77d61e7d0>"
            ]
          },
          "metadata": {},
          "execution_count": 41
        }
      ]
    },
    {
      "cell_type": "code",
      "source": [
        "N_SAMPLES = 1000\n",
        "\n",
        "z = np.random.randn(N_SAMPLES)\n",
        "x = z + np.random.randn(N_SAMPLES)\n",
        "y = x + z + np.random.randn(N_SAMPLES)\n",
        "\n",
        "X1 = sm.add_constant(np.stack([x]).T)\n",
        "X2 = sm.add_constant(np.stack([x, z]).T)"
      ],
      "metadata": {
        "id": "KnTZKLFmqV5q"
      },
      "execution_count": 48,
      "outputs": []
    },
    {
      "cell_type": "markdown",
      "source": [
        "Unadjusted estimate"
      ],
      "metadata": {
        "id": "0cOf2lA3q0qz"
      }
    },
    {
      "cell_type": "code",
      "source": [
        "model = sm.OLS(y, X1)\n",
        "fitted_model = model.fit()\n",
        "\n",
        "print(fitted_model.summary(xname=['const', 'x']))"
      ],
      "metadata": {
        "colab": {
          "base_uri": "https://localhost:8080/"
        },
        "id": "fzmdNv7Oqo5y",
        "outputId": "c52356ba-3543-4136-a1f1-3fccfea10369"
      },
      "execution_count": 53,
      "outputs": [
        {
          "output_type": "stream",
          "name": "stdout",
          "text": [
            "                            OLS Regression Results                            \n",
            "==============================================================================\n",
            "Dep. Variable:                      y   R-squared:                       0.755\n",
            "Model:                            OLS   Adj. R-squared:                  0.755\n",
            "Method:                 Least Squares   F-statistic:                     3079.\n",
            "Date:                Mon, 01 Jan 2024   Prob (F-statistic):          2.97e-307\n",
            "Time:                        06:22:00   Log-Likelihood:                -1602.6\n",
            "No. Observations:                1000   AIC:                             3209.\n",
            "Df Residuals:                     998   BIC:                             3219.\n",
            "Df Model:                           1                                         \n",
            "Covariance Type:            nonrobust                                         \n",
            "==============================================================================\n",
            "                 coef    std err          t      P>|t|      [0.025      0.975]\n",
            "------------------------------------------------------------------------------\n",
            "const          0.0391      0.038      1.028      0.304      -0.036       0.114\n",
            "x              1.5131      0.027     55.488      0.000       1.460       1.567\n",
            "==============================================================================\n",
            "Omnibus:                        3.775   Durbin-Watson:                   2.038\n",
            "Prob(Omnibus):                  0.151   Jarque-Bera (JB):                3.760\n",
            "Skew:                           0.150   Prob(JB):                        0.153\n",
            "Kurtosis:                       2.992   Cond. No.                         1.40\n",
            "==============================================================================\n",
            "\n",
            "Notes:\n",
            "[1] Standard Errors assume that the covariance matrix of the errors is correctly specified.\n"
          ]
        }
      ]
    },
    {
      "cell_type": "markdown",
      "source": [
        "Adjusted estimate."
      ],
      "metadata": {
        "id": "CNmGTdnrsEQx"
      }
    },
    {
      "cell_type": "code",
      "source": [
        "model = sm.OLS(y, X2)\n",
        "fitted_model = model.fit()\n",
        "\n",
        "print(fitted_model.summary(xname=['const', 'x', 'z']))"
      ],
      "metadata": {
        "colab": {
          "base_uri": "https://localhost:8080/"
        },
        "id": "gKZe7w0uq68g",
        "outputId": "4b974991-5c63-43d1-8241-5c932d8d417c"
      },
      "execution_count": 54,
      "outputs": [
        {
          "output_type": "stream",
          "name": "stdout",
          "text": [
            "                            OLS Regression Results                            \n",
            "==============================================================================\n",
            "Dep. Variable:                      y   R-squared:                       0.842\n",
            "Model:                            OLS   Adj. R-squared:                  0.842\n",
            "Method:                 Least Squares   F-statistic:                     2662.\n",
            "Date:                Mon, 01 Jan 2024   Prob (F-statistic):               0.00\n",
            "Time:                        06:22:19   Log-Likelihood:                -1382.7\n",
            "No. Observations:                1000   AIC:                             2771.\n",
            "Df Residuals:                     997   BIC:                             2786.\n",
            "Df Model:                           2                                         \n",
            "Covariance Type:            nonrobust                                         \n",
            "==============================================================================\n",
            "                 coef    std err          t      P>|t|      [0.025      0.975]\n",
            "------------------------------------------------------------------------------\n",
            "const         -0.0116      0.031     -0.380      0.704      -0.072       0.048\n",
            "x              1.0202      0.030     33.624      0.000       0.961       1.080\n",
            "z              1.0124      0.043     23.464      0.000       0.928       1.097\n",
            "==============================================================================\n",
            "Omnibus:                        2.828   Durbin-Watson:                   2.025\n",
            "Prob(Omnibus):                  0.243   Jarque-Bera (JB):                2.620\n",
            "Skew:                           0.064   Prob(JB):                        0.270\n",
            "Kurtosis:                       2.784   Cond. No.                         2.56\n",
            "==============================================================================\n",
            "\n",
            "Notes:\n",
            "[1] Standard Errors assume that the covariance matrix of the errors is correctly specified.\n"
          ]
        }
      ]
    },
    {
      "cell_type": "markdown",
      "source": [
        "**Scenario 2: Z is a good control.**"
      ],
      "metadata": {
        "id": "u9OsMPhVsN-p"
      }
    },
    {
      "cell_type": "code",
      "source": [
        "g = graphviz.Digraph()\n",
        "\n",
        "# Add nodes\n",
        "nodes = ['U', 'Z', 'X', 'Y']\n",
        "[g.node(n) for n in nodes]\n",
        "\n",
        "g.edges(['UZ', 'UY', 'ZX', 'XY'])\n",
        "g"
      ],
      "metadata": {
        "colab": {
          "base_uri": "https://localhost:8080/",
          "height": 368
        },
        "outputId": "e92b65f4-cf19-4da8-b5a7-91b64d207f50",
        "id": "2EKIzCnIsN-q"
      },
      "execution_count": 55,
      "outputs": [
        {
          "output_type": "execute_result",
          "data": {
            "image/svg+xml": "<?xml version=\"1.0\" encoding=\"UTF-8\" standalone=\"no\"?>\n<!DOCTYPE svg PUBLIC \"-//W3C//DTD SVG 1.1//EN\"\n \"http://www.w3.org/Graphics/SVG/1.1/DTD/svg11.dtd\">\n<!-- Generated by graphviz version 2.43.0 (0)\n -->\n<!-- Title: %3 Pages: 1 -->\n<svg width=\"89pt\" height=\"260pt\"\n viewBox=\"0.00 0.00 89.00 260.00\" xmlns=\"http://www.w3.org/2000/svg\" xmlns:xlink=\"http://www.w3.org/1999/xlink\">\n<g id=\"graph0\" class=\"graph\" transform=\"scale(1 1) rotate(0) translate(4 256)\">\n<title>%3</title>\n<polygon fill=\"white\" stroke=\"transparent\" points=\"-4,4 -4,-256 85,-256 85,4 -4,4\"/>\n<!-- U -->\n<g id=\"node1\" class=\"node\">\n<title>U</title>\n<ellipse fill=\"none\" stroke=\"black\" cx=\"54\" cy=\"-234\" rx=\"27\" ry=\"18\"/>\n<text text-anchor=\"middle\" x=\"54\" y=\"-230.3\" font-family=\"Times,serif\" font-size=\"14.00\">U</text>\n</g>\n<!-- Z -->\n<g id=\"node2\" class=\"node\">\n<title>Z</title>\n<ellipse fill=\"none\" stroke=\"black\" cx=\"27\" cy=\"-162\" rx=\"27\" ry=\"18\"/>\n<text text-anchor=\"middle\" x=\"27\" y=\"-158.3\" font-family=\"Times,serif\" font-size=\"14.00\">Z</text>\n</g>\n<!-- U&#45;&gt;Z -->\n<g id=\"edge1\" class=\"edge\">\n<title>U&#45;&gt;Z</title>\n<path fill=\"none\" stroke=\"black\" d=\"M47.6,-216.41C44.49,-208.34 40.67,-198.43 37.17,-189.35\"/>\n<polygon fill=\"black\" stroke=\"black\" points=\"40.4,-188.03 33.54,-179.96 33.87,-190.55 40.4,-188.03\"/>\n</g>\n<!-- Y -->\n<g id=\"node4\" class=\"node\">\n<title>Y</title>\n<ellipse fill=\"none\" stroke=\"black\" cx=\"54\" cy=\"-18\" rx=\"27\" ry=\"18\"/>\n<text text-anchor=\"middle\" x=\"54\" y=\"-14.3\" font-family=\"Times,serif\" font-size=\"14.00\">Y</text>\n</g>\n<!-- U&#45;&gt;Y -->\n<g id=\"edge2\" class=\"edge\">\n<title>U&#45;&gt;Y</title>\n<path fill=\"none\" stroke=\"black\" d=\"M57.65,-215.91C59.68,-205.57 61.98,-192.09 63,-180 67.03,-132.17 67.03,-119.83 63,-72 62.28,-63.5 60.93,-54.31 59.49,-46.01\"/>\n<polygon fill=\"black\" stroke=\"black\" points=\"62.91,-45.29 57.65,-36.09 56.03,-46.56 62.91,-45.29\"/>\n</g>\n<!-- X -->\n<g id=\"node3\" class=\"node\">\n<title>X</title>\n<ellipse fill=\"none\" stroke=\"black\" cx=\"27\" cy=\"-90\" rx=\"27\" ry=\"18\"/>\n<text text-anchor=\"middle\" x=\"27\" y=\"-86.3\" font-family=\"Times,serif\" font-size=\"14.00\">X</text>\n</g>\n<!-- Z&#45;&gt;X -->\n<g id=\"edge3\" class=\"edge\">\n<title>Z&#45;&gt;X</title>\n<path fill=\"none\" stroke=\"black\" d=\"M27,-143.7C27,-135.98 27,-126.71 27,-118.11\"/>\n<polygon fill=\"black\" stroke=\"black\" points=\"30.5,-118.1 27,-108.1 23.5,-118.1 30.5,-118.1\"/>\n</g>\n<!-- X&#45;&gt;Y -->\n<g id=\"edge4\" class=\"edge\">\n<title>X&#45;&gt;Y</title>\n<path fill=\"none\" stroke=\"black\" d=\"M33.4,-72.41C36.51,-64.34 40.33,-54.43 43.83,-45.35\"/>\n<polygon fill=\"black\" stroke=\"black\" points=\"47.13,-46.55 47.46,-35.96 40.6,-44.03 47.13,-46.55\"/>\n</g>\n</g>\n</svg>\n",
            "text/plain": [
              "<graphviz.graphs.Digraph at 0x7cb77a52cee0>"
            ]
          },
          "metadata": {},
          "execution_count": 55
        }
      ]
    },
    {
      "cell_type": "code",
      "source": [
        "N_SAMPLES = 1000\n",
        "\n",
        "u = np.random.randn(N_SAMPLES)\n",
        "z = u + np.random.randn(N_SAMPLES)\n",
        "x = z + np.random.randn(N_SAMPLES)\n",
        "y = x + u + np.random.randn(N_SAMPLES)\n",
        "\n",
        "X1 = sm.add_constant(np.stack([x]).T)\n",
        "X2 = sm.add_constant(np.stack([x, z]).T)"
      ],
      "metadata": {
        "id": "gZgoQQyLsN-r"
      },
      "execution_count": 56,
      "outputs": []
    },
    {
      "cell_type": "markdown",
      "source": [
        "Unadjusted estimate"
      ],
      "metadata": {
        "id": "eXHaDl2KsN-r"
      }
    },
    {
      "cell_type": "code",
      "source": [
        "model = sm.OLS(y, X1)\n",
        "fitted_model = model.fit()\n",
        "\n",
        "print(fitted_model.summary(xname=['const', 'x']))"
      ],
      "metadata": {
        "colab": {
          "base_uri": "https://localhost:8080/"
        },
        "outputId": "074fc5ca-13d1-4f61-c08f-a6571fff85ed",
        "id": "1Zkxzm62sN-r"
      },
      "execution_count": 57,
      "outputs": [
        {
          "output_type": "stream",
          "name": "stdout",
          "text": [
            "                            OLS Regression Results                            \n",
            "==============================================================================\n",
            "Dep. Variable:                      y   R-squared:                       0.770\n",
            "Model:                            OLS   Adj. R-squared:                  0.769\n",
            "Method:                 Least Squares   F-statistic:                     3333.\n",
            "Date:                Mon, 01 Jan 2024   Prob (F-statistic):          2.21e-320\n",
            "Time:                        06:24:56   Log-Likelihood:                -1639.0\n",
            "No. Observations:                1000   AIC:                             3282.\n",
            "Df Residuals:                     998   BIC:                             3292.\n",
            "Df Model:                           1                                         \n",
            "Covariance Type:            nonrobust                                         \n",
            "==============================================================================\n",
            "                 coef    std err          t      P>|t|      [0.025      0.975]\n",
            "------------------------------------------------------------------------------\n",
            "const         -0.0533      0.039     -1.351      0.177      -0.131       0.024\n",
            "x              1.3255      0.023     57.736      0.000       1.280       1.371\n",
            "==============================================================================\n",
            "Omnibus:                        0.753   Durbin-Watson:                   2.042\n",
            "Prob(Omnibus):                  0.686   Jarque-Bera (JB):                0.684\n",
            "Skew:                          -0.062   Prob(JB):                        0.710\n",
            "Kurtosis:                       3.034   Cond. No.                         1.72\n",
            "==============================================================================\n",
            "\n",
            "Notes:\n",
            "[1] Standard Errors assume that the covariance matrix of the errors is correctly specified.\n"
          ]
        }
      ]
    },
    {
      "cell_type": "markdown",
      "source": [
        "Adjusted estimate."
      ],
      "metadata": {
        "id": "edQ5uETzsN-s"
      }
    },
    {
      "cell_type": "code",
      "source": [
        "model = sm.OLS(y, X2)\n",
        "fitted_model = model.fit()\n",
        "\n",
        "print(fitted_model.summary(xname=['const', 'x', 'z']))"
      ],
      "metadata": {
        "colab": {
          "base_uri": "https://localhost:8080/"
        },
        "outputId": "21297a42-9ef6-45be-9eed-da813f80db2c",
        "id": "3h27avoHsN-s"
      },
      "execution_count": 58,
      "outputs": [
        {
          "output_type": "stream",
          "name": "stdout",
          "text": [
            "                            OLS Regression Results                            \n",
            "==============================================================================\n",
            "Dep. Variable:                      y   R-squared:                       0.794\n",
            "Model:                            OLS   Adj. R-squared:                  0.794\n",
            "Method:                 Least Squares   F-statistic:                     1921.\n",
            "Date:                Mon, 01 Jan 2024   Prob (F-statistic):               0.00\n",
            "Time:                        06:25:01   Log-Likelihood:                -1583.1\n",
            "No. Observations:                1000   AIC:                             3172.\n",
            "Df Residuals:                     997   BIC:                             3187.\n",
            "Df Model:                           2                                         \n",
            "Covariance Type:            nonrobust                                         \n",
            "==============================================================================\n",
            "                 coef    std err          t      P>|t|      [0.025      0.975]\n",
            "------------------------------------------------------------------------------\n",
            "const         -0.0365      0.037     -0.976      0.329      -0.110       0.037\n",
            "x              0.9939      0.037     26.536      0.000       0.920       1.067\n",
            "z              0.4945      0.046     10.867      0.000       0.405       0.584\n",
            "==============================================================================\n",
            "Omnibus:                        2.203   Durbin-Watson:                   2.070\n",
            "Prob(Omnibus):                  0.332   Jarque-Bera (JB):                2.075\n",
            "Skew:                          -0.105   Prob(JB):                        0.354\n",
            "Kurtosis:                       3.078   Cond. No.                         3.21\n",
            "==============================================================================\n",
            "\n",
            "Notes:\n",
            "[1] Standard Errors assume that the covariance matrix of the errors is correctly specified.\n"
          ]
        }
      ]
    },
    {
      "cell_type": "markdown",
      "source": [
        "**Scenario 3: Z is a good control.**"
      ],
      "metadata": {
        "id": "obax5FjVs0Iz"
      }
    },
    {
      "cell_type": "code",
      "source": [
        "g = graphviz.Digraph()\n",
        "\n",
        "# Add nodes\n",
        "nodes = ['U', 'Z', 'X', 'Y']\n",
        "[g.node(n) for n in nodes]\n",
        "\n",
        "g.edges(['UZ', 'UX', 'ZY', 'XY'])\n",
        "g"
      ],
      "metadata": {
        "colab": {
          "base_uri": "https://localhost:8080/",
          "height": 272
        },
        "outputId": "9e9e48e5-d92a-4e1e-8896-1d1f69e5e207",
        "id": "PFb2gk-5s0JA"
      },
      "execution_count": 59,
      "outputs": [
        {
          "output_type": "execute_result",
          "data": {
            "image/svg+xml": "<?xml version=\"1.0\" encoding=\"UTF-8\" standalone=\"no\"?>\n<!DOCTYPE svg PUBLIC \"-//W3C//DTD SVG 1.1//EN\"\n \"http://www.w3.org/Graphics/SVG/1.1/DTD/svg11.dtd\">\n<!-- Generated by graphviz version 2.43.0 (0)\n -->\n<!-- Title: %3 Pages: 1 -->\n<svg width=\"134pt\" height=\"188pt\"\n viewBox=\"0.00 0.00 134.00 188.00\" xmlns=\"http://www.w3.org/2000/svg\" xmlns:xlink=\"http://www.w3.org/1999/xlink\">\n<g id=\"graph0\" class=\"graph\" transform=\"scale(1 1) rotate(0) translate(4 184)\">\n<title>%3</title>\n<polygon fill=\"white\" stroke=\"transparent\" points=\"-4,4 -4,-184 130,-184 130,4 -4,4\"/>\n<!-- U -->\n<g id=\"node1\" class=\"node\">\n<title>U</title>\n<ellipse fill=\"none\" stroke=\"black\" cx=\"63\" cy=\"-162\" rx=\"27\" ry=\"18\"/>\n<text text-anchor=\"middle\" x=\"63\" y=\"-158.3\" font-family=\"Times,serif\" font-size=\"14.00\">U</text>\n</g>\n<!-- Z -->\n<g id=\"node2\" class=\"node\">\n<title>Z</title>\n<ellipse fill=\"none\" stroke=\"black\" cx=\"27\" cy=\"-90\" rx=\"27\" ry=\"18\"/>\n<text text-anchor=\"middle\" x=\"27\" y=\"-86.3\" font-family=\"Times,serif\" font-size=\"14.00\">Z</text>\n</g>\n<!-- U&#45;&gt;Z -->\n<g id=\"edge1\" class=\"edge\">\n<title>U&#45;&gt;Z</title>\n<path fill=\"none\" stroke=\"black\" d=\"M54.65,-144.76C50.29,-136.28 44.85,-125.71 39.96,-116.2\"/>\n<polygon fill=\"black\" stroke=\"black\" points=\"42.99,-114.44 35.3,-107.15 36.77,-117.64 42.99,-114.44\"/>\n</g>\n<!-- X -->\n<g id=\"node3\" class=\"node\">\n<title>X</title>\n<ellipse fill=\"none\" stroke=\"black\" cx=\"99\" cy=\"-90\" rx=\"27\" ry=\"18\"/>\n<text text-anchor=\"middle\" x=\"99\" y=\"-86.3\" font-family=\"Times,serif\" font-size=\"14.00\">X</text>\n</g>\n<!-- U&#45;&gt;X -->\n<g id=\"edge2\" class=\"edge\">\n<title>U&#45;&gt;X</title>\n<path fill=\"none\" stroke=\"black\" d=\"M71.35,-144.76C75.71,-136.28 81.15,-125.71 86.04,-116.2\"/>\n<polygon fill=\"black\" stroke=\"black\" points=\"89.23,-117.64 90.7,-107.15 83.01,-114.44 89.23,-117.64\"/>\n</g>\n<!-- Y -->\n<g id=\"node4\" class=\"node\">\n<title>Y</title>\n<ellipse fill=\"none\" stroke=\"black\" cx=\"63\" cy=\"-18\" rx=\"27\" ry=\"18\"/>\n<text text-anchor=\"middle\" x=\"63\" y=\"-14.3\" font-family=\"Times,serif\" font-size=\"14.00\">Y</text>\n</g>\n<!-- Z&#45;&gt;Y -->\n<g id=\"edge3\" class=\"edge\">\n<title>Z&#45;&gt;Y</title>\n<path fill=\"none\" stroke=\"black\" d=\"M35.35,-72.76C39.71,-64.28 45.15,-53.71 50.04,-44.2\"/>\n<polygon fill=\"black\" stroke=\"black\" points=\"53.23,-45.64 54.7,-35.15 47.01,-42.44 53.23,-45.64\"/>\n</g>\n<!-- X&#45;&gt;Y -->\n<g id=\"edge4\" class=\"edge\">\n<title>X&#45;&gt;Y</title>\n<path fill=\"none\" stroke=\"black\" d=\"M90.65,-72.76C86.29,-64.28 80.85,-53.71 75.96,-44.2\"/>\n<polygon fill=\"black\" stroke=\"black\" points=\"78.99,-42.44 71.3,-35.15 72.77,-45.64 78.99,-42.44\"/>\n</g>\n</g>\n</svg>\n",
            "text/plain": [
              "<graphviz.graphs.Digraph at 0x7cb77a52c3d0>"
            ]
          },
          "metadata": {},
          "execution_count": 59
        }
      ]
    },
    {
      "cell_type": "code",
      "source": [
        "N_SAMPLES = 1000\n",
        "\n",
        "u = np.random.randn(N_SAMPLES)\n",
        "z = u + np.random.randn(N_SAMPLES)\n",
        "x = u + np.random.randn(N_SAMPLES)\n",
        "y = x + z + np.random.randn(N_SAMPLES)\n",
        "\n",
        "X1 = sm.add_constant(np.stack([x]).T)\n",
        "X2 = sm.add_constant(np.stack([x, z]).T)"
      ],
      "metadata": {
        "id": "bu40yJ8Hs0JB"
      },
      "execution_count": 60,
      "outputs": []
    },
    {
      "cell_type": "markdown",
      "source": [
        "Unadjusted estimate"
      ],
      "metadata": {
        "id": "eHTfMahYs0JB"
      }
    },
    {
      "cell_type": "code",
      "source": [
        "model = sm.OLS(y, X1)\n",
        "fitted_model = model.fit()\n",
        "\n",
        "print(fitted_model.summary(xname=['const', 'x']))"
      ],
      "metadata": {
        "colab": {
          "base_uri": "https://localhost:8080/"
        },
        "outputId": "e7d0dfae-c72e-44d8-bc4f-9be49408429b",
        "id": "hry8imuis0JB"
      },
      "execution_count": 61,
      "outputs": [
        {
          "output_type": "stream",
          "name": "stdout",
          "text": [
            "                            OLS Regression Results                            \n",
            "==============================================================================\n",
            "Dep. Variable:                      y   R-squared:                       0.626\n",
            "Model:                            OLS   Adj. R-squared:                  0.626\n",
            "Method:                 Least Squares   F-statistic:                     1671.\n",
            "Date:                Mon, 01 Jan 2024   Prob (F-statistic):          2.10e-215\n",
            "Time:                        06:26:56   Log-Likelihood:                -1902.3\n",
            "No. Observations:                1000   AIC:                             3809.\n",
            "Df Residuals:                     998   BIC:                             3819.\n",
            "Df Model:                           1                                         \n",
            "Covariance Type:            nonrobust                                         \n",
            "==============================================================================\n",
            "                 coef    std err          t      P>|t|      [0.025      0.975]\n",
            "------------------------------------------------------------------------------\n",
            "const         -0.0716      0.051     -1.394      0.164      -0.172       0.029\n",
            "x              1.4451      0.035     40.878      0.000       1.376       1.514\n",
            "==============================================================================\n",
            "Omnibus:                        0.717   Durbin-Watson:                   2.030\n",
            "Prob(Omnibus):                  0.699   Jarque-Bera (JB):                0.789\n",
            "Skew:                          -0.012   Prob(JB):                        0.674\n",
            "Kurtosis:                       2.865   Cond. No.                         1.45\n",
            "==============================================================================\n",
            "\n",
            "Notes:\n",
            "[1] Standard Errors assume that the covariance matrix of the errors is correctly specified.\n"
          ]
        }
      ]
    },
    {
      "cell_type": "markdown",
      "source": [
        "Adjusted estimate."
      ],
      "metadata": {
        "id": "8Eb88Uk9s0JB"
      }
    },
    {
      "cell_type": "code",
      "source": [
        "model = sm.OLS(y, X2)\n",
        "fitted_model = model.fit()\n",
        "\n",
        "print(fitted_model.summary(xname=['const', 'x', 'z']))"
      ],
      "metadata": {
        "colab": {
          "base_uri": "https://localhost:8080/"
        },
        "outputId": "e4235bc2-e70e-4cc1-9f5f-bce849f96e3e",
        "id": "orCFJk7ks0JB"
      },
      "execution_count": 62,
      "outputs": [
        {
          "output_type": "stream",
          "name": "stdout",
          "text": [
            "                            OLS Regression Results                            \n",
            "==============================================================================\n",
            "Dep. Variable:                      y   R-squared:                       0.860\n",
            "Model:                            OLS   Adj. R-squared:                  0.860\n",
            "Method:                 Least Squares   F-statistic:                     3065.\n",
            "Date:                Mon, 01 Jan 2024   Prob (F-statistic):               0.00\n",
            "Time:                        06:27:04   Log-Likelihood:                -1410.7\n",
            "No. Observations:                1000   AIC:                             2827.\n",
            "Df Residuals:                     997   BIC:                             2842.\n",
            "Df Model:                           2                                         \n",
            "Covariance Type:            nonrobust                                         \n",
            "==============================================================================\n",
            "                 coef    std err          t      P>|t|      [0.025      0.975]\n",
            "------------------------------------------------------------------------------\n",
            "const         -0.0196      0.031     -0.624      0.533      -0.081       0.042\n",
            "x              0.9680      0.025     39.374      0.000       0.920       1.016\n",
            "z              1.0409      0.025     40.845      0.000       0.991       1.091\n",
            "==============================================================================\n",
            "Omnibus:                        1.421   Durbin-Watson:                   2.112\n",
            "Prob(Omnibus):                  0.491   Jarque-Bera (JB):                1.428\n",
            "Skew:                          -0.040   Prob(JB):                        0.490\n",
            "Kurtosis:                       2.833   Cond. No.                         1.74\n",
            "==============================================================================\n",
            "\n",
            "Notes:\n",
            "[1] Standard Errors assume that the covariance matrix of the errors is correctly specified.\n"
          ]
        }
      ]
    },
    {
      "cell_type": "markdown",
      "source": [
        "**Scenario 4: Z is a good control.**"
      ],
      "metadata": {
        "id": "5ru3SAO5tLJu"
      }
    },
    {
      "cell_type": "code",
      "source": [
        "g = graphviz.Digraph()\n",
        "\n",
        "# Add nodes\n",
        "nodes = ['M', 'Z', 'X', 'Y']\n",
        "[g.node(n) for n in nodes]\n",
        "\n",
        "g.edges(['ZX', 'ZM', 'XM', 'MY'])\n",
        "g"
      ],
      "metadata": {
        "colab": {
          "base_uri": "https://localhost:8080/",
          "height": 368
        },
        "outputId": "b038e74b-8abc-409a-8bb9-cb0895722721",
        "id": "HLZpDVAOtLJ4"
      },
      "execution_count": 63,
      "outputs": [
        {
          "output_type": "execute_result",
          "data": {
            "image/svg+xml": "<?xml version=\"1.0\" encoding=\"UTF-8\" standalone=\"no\"?>\n<!DOCTYPE svg PUBLIC \"-//W3C//DTD SVG 1.1//EN\"\n \"http://www.w3.org/Graphics/SVG/1.1/DTD/svg11.dtd\">\n<!-- Generated by graphviz version 2.43.0 (0)\n -->\n<!-- Title: %3 Pages: 1 -->\n<svg width=\"90pt\" height=\"260pt\"\n viewBox=\"0.00 0.00 90.00 260.00\" xmlns=\"http://www.w3.org/2000/svg\" xmlns:xlink=\"http://www.w3.org/1999/xlink\">\n<g id=\"graph0\" class=\"graph\" transform=\"scale(1 1) rotate(0) translate(4 256)\">\n<title>%3</title>\n<polygon fill=\"white\" stroke=\"transparent\" points=\"-4,4 -4,-256 86,-256 86,4 -4,4\"/>\n<!-- M -->\n<g id=\"node1\" class=\"node\">\n<title>M</title>\n<ellipse fill=\"none\" stroke=\"black\" cx=\"27\" cy=\"-90\" rx=\"27\" ry=\"18\"/>\n<text text-anchor=\"middle\" x=\"27\" y=\"-86.3\" font-family=\"Times,serif\" font-size=\"14.00\">M</text>\n</g>\n<!-- Y -->\n<g id=\"node4\" class=\"node\">\n<title>Y</title>\n<ellipse fill=\"none\" stroke=\"black\" cx=\"27\" cy=\"-18\" rx=\"27\" ry=\"18\"/>\n<text text-anchor=\"middle\" x=\"27\" y=\"-14.3\" font-family=\"Times,serif\" font-size=\"14.00\">Y</text>\n</g>\n<!-- M&#45;&gt;Y -->\n<g id=\"edge4\" class=\"edge\">\n<title>M&#45;&gt;Y</title>\n<path fill=\"none\" stroke=\"black\" d=\"M27,-71.7C27,-63.98 27,-54.71 27,-46.11\"/>\n<polygon fill=\"black\" stroke=\"black\" points=\"30.5,-46.1 27,-36.1 23.5,-46.1 30.5,-46.1\"/>\n</g>\n<!-- Z -->\n<g id=\"node2\" class=\"node\">\n<title>Z</title>\n<ellipse fill=\"none\" stroke=\"black\" cx=\"27\" cy=\"-234\" rx=\"27\" ry=\"18\"/>\n<text text-anchor=\"middle\" x=\"27\" y=\"-230.3\" font-family=\"Times,serif\" font-size=\"14.00\">Z</text>\n</g>\n<!-- Z&#45;&gt;M -->\n<g id=\"edge2\" class=\"edge\">\n<title>Z&#45;&gt;M</title>\n<path fill=\"none\" stroke=\"black\" d=\"M23.75,-215.89C21.95,-205.54 19.91,-192.06 19,-180 17.8,-164.04 17.8,-159.96 19,-144 19.64,-135.52 20.84,-126.34 22.12,-118.04\"/>\n<polygon fill=\"black\" stroke=\"black\" points=\"25.58,-118.55 23.75,-108.11 18.68,-117.41 25.58,-118.55\"/>\n</g>\n<!-- X -->\n<g id=\"node3\" class=\"node\">\n<title>X</title>\n<ellipse fill=\"none\" stroke=\"black\" cx=\"55\" cy=\"-162\" rx=\"27\" ry=\"18\"/>\n<text text-anchor=\"middle\" x=\"55\" y=\"-158.3\" font-family=\"Times,serif\" font-size=\"14.00\">X</text>\n</g>\n<!-- Z&#45;&gt;X -->\n<g id=\"edge1\" class=\"edge\">\n<title>Z&#45;&gt;X</title>\n<path fill=\"none\" stroke=\"black\" d=\"M33.64,-216.41C36.91,-208.22 40.94,-198.14 44.62,-188.95\"/>\n<polygon fill=\"black\" stroke=\"black\" points=\"47.95,-190.05 48.41,-179.47 41.45,-187.45 47.95,-190.05\"/>\n</g>\n<!-- X&#45;&gt;M -->\n<g id=\"edge3\" class=\"edge\">\n<title>X&#45;&gt;M</title>\n<path fill=\"none\" stroke=\"black\" d=\"M48.36,-144.41C45.09,-136.22 41.06,-126.14 37.38,-116.95\"/>\n<polygon fill=\"black\" stroke=\"black\" points=\"40.55,-115.45 33.59,-107.47 34.05,-118.05 40.55,-115.45\"/>\n</g>\n</g>\n</svg>\n",
            "text/plain": [
              "<graphviz.graphs.Digraph at 0x7cb77a52d240>"
            ]
          },
          "metadata": {},
          "execution_count": 63
        }
      ]
    },
    {
      "cell_type": "code",
      "source": [
        "N_SAMPLES = 1000\n",
        "\n",
        "z = np.random.randn(N_SAMPLES)\n",
        "x = z + np.random.randn(N_SAMPLES)\n",
        "m = x + z + np.random.randn(N_SAMPLES)\n",
        "y = m + np.random.randn(N_SAMPLES)\n",
        "\n",
        "X1 = sm.add_constant(np.stack([x]).T)\n",
        "X2 = sm.add_constant(np.stack([x, z]).T)"
      ],
      "metadata": {
        "id": "NiD6hEowtLJ5"
      },
      "execution_count": 64,
      "outputs": []
    },
    {
      "cell_type": "markdown",
      "source": [
        "Unadjusted estimate"
      ],
      "metadata": {
        "id": "WH_X6TxmtLJ5"
      }
    },
    {
      "cell_type": "code",
      "source": [
        "model = sm.OLS(y, X1)\n",
        "fitted_model = model.fit()\n",
        "\n",
        "print(fitted_model.summary(xname=['const', 'x']))"
      ],
      "metadata": {
        "colab": {
          "base_uri": "https://localhost:8080/"
        },
        "outputId": "d81139ba-d80d-41fe-91d7-8ee41a05d666",
        "id": "or96hqbUtLJ5"
      },
      "execution_count": 65,
      "outputs": [
        {
          "output_type": "stream",
          "name": "stdout",
          "text": [
            "                            OLS Regression Results                            \n",
            "==============================================================================\n",
            "Dep. Variable:                      y   R-squared:                       0.658\n",
            "Model:                            OLS   Adj. R-squared:                  0.657\n",
            "Method:                 Least Squares   F-statistic:                     1917.\n",
            "Date:                Mon, 01 Jan 2024   Prob (F-statistic):          1.69e-234\n",
            "Time:                        06:29:09   Log-Likelihood:                -1893.1\n",
            "No. Observations:                1000   AIC:                             3790.\n",
            "Df Residuals:                     998   BIC:                             3800.\n",
            "Df Model:                           1                                         \n",
            "Covariance Type:            nonrobust                                         \n",
            "==============================================================================\n",
            "                 coef    std err          t      P>|t|      [0.025      0.975]\n",
            "------------------------------------------------------------------------------\n",
            "const         -0.1429      0.051     -2.809      0.005      -0.243      -0.043\n",
            "x              1.5119      0.035     43.780      0.000       1.444       1.580\n",
            "==============================================================================\n",
            "Omnibus:                        0.158   Durbin-Watson:                   2.042\n",
            "Prob(Omnibus):                  0.924   Jarque-Bera (JB):                0.083\n",
            "Skew:                          -0.004   Prob(JB):                        0.959\n",
            "Kurtosis:                       3.044   Cond. No.                         1.47\n",
            "==============================================================================\n",
            "\n",
            "Notes:\n",
            "[1] Standard Errors assume that the covariance matrix of the errors is correctly specified.\n"
          ]
        }
      ]
    },
    {
      "cell_type": "markdown",
      "source": [
        "Adjusted estimate."
      ],
      "metadata": {
        "id": "oTHT5stntLJ5"
      }
    },
    {
      "cell_type": "code",
      "source": [
        "model = sm.OLS(y, X2)\n",
        "fitted_model = model.fit()\n",
        "\n",
        "print(fitted_model.summary(xname=['const', 'x', 'z']))"
      ],
      "metadata": {
        "colab": {
          "base_uri": "https://localhost:8080/"
        },
        "outputId": "dbe40f28-214f-4038-dfcc-268bd3666886",
        "id": "TSO5xaMStLJ6"
      },
      "execution_count": 66,
      "outputs": [
        {
          "output_type": "stream",
          "name": "stdout",
          "text": [
            "                            OLS Regression Results                            \n",
            "==============================================================================\n",
            "Dep. Variable:                      y   R-squared:                       0.731\n",
            "Model:                            OLS   Adj. R-squared:                  0.730\n",
            "Method:                 Least Squares   F-statistic:                     1352.\n",
            "Date:                Mon, 01 Jan 2024   Prob (F-statistic):          1.11e-284\n",
            "Time:                        06:29:12   Log-Likelihood:                -1773.2\n",
            "No. Observations:                1000   AIC:                             3552.\n",
            "Df Residuals:                     997   BIC:                             3567.\n",
            "Df Model:                           2                                         \n",
            "Covariance Type:            nonrobust                                         \n",
            "==============================================================================\n",
            "                 coef    std err          t      P>|t|      [0.025      0.975]\n",
            "------------------------------------------------------------------------------\n",
            "const         -0.1023      0.045     -2.263      0.024      -0.191      -0.014\n",
            "x              1.0029      0.044     23.018      0.000       0.917       1.088\n",
            "z              1.0051      0.061     16.438      0.000       0.885       1.125\n",
            "==============================================================================\n",
            "Omnibus:                        2.348   Durbin-Watson:                   2.035\n",
            "Prob(Omnibus):                  0.309   Jarque-Bera (JB):                2.213\n",
            "Skew:                           0.090   Prob(JB):                        0.331\n",
            "Kurtosis:                       3.144   Cond. No.                         2.63\n",
            "==============================================================================\n",
            "\n",
            "Notes:\n",
            "[1] Standard Errors assume that the covariance matrix of the errors is correctly specified.\n"
          ]
        }
      ]
    },
    {
      "cell_type": "markdown",
      "source": [
        "**Scenario 5: Z is a good control.**"
      ],
      "metadata": {
        "id": "H4hB4IJptpyP"
      }
    },
    {
      "cell_type": "code",
      "source": [
        "g = graphviz.Digraph()\n",
        "\n",
        "# Add nodes\n",
        "nodes = ['U', 'M', 'Z', 'X', 'Y']\n",
        "[g.node(n) for n in nodes]\n",
        "\n",
        "g.edges(['UZ', 'UM', 'ZX', 'XM', 'MY'])\n",
        "g"
      ],
      "metadata": {
        "colab": {
          "base_uri": "https://localhost:8080/",
          "height": 464
        },
        "outputId": "17522525-da47-4bcb-c69d-27e7b332e0a6",
        "id": "0bBI5riRtpyb"
      },
      "execution_count": 67,
      "outputs": [
        {
          "output_type": "execute_result",
          "data": {
            "image/svg+xml": "<?xml version=\"1.0\" encoding=\"UTF-8\" standalone=\"no\"?>\n<!DOCTYPE svg PUBLIC \"-//W3C//DTD SVG 1.1//EN\"\n \"http://www.w3.org/Graphics/SVG/1.1/DTD/svg11.dtd\">\n<!-- Generated by graphviz version 2.43.0 (0)\n -->\n<!-- Title: %3 Pages: 1 -->\n<svg width=\"90pt\" height=\"332pt\"\n viewBox=\"0.00 0.00 90.00 332.00\" xmlns=\"http://www.w3.org/2000/svg\" xmlns:xlink=\"http://www.w3.org/1999/xlink\">\n<g id=\"graph0\" class=\"graph\" transform=\"scale(1 1) rotate(0) translate(4 328)\">\n<title>%3</title>\n<polygon fill=\"white\" stroke=\"transparent\" points=\"-4,4 -4,-328 86,-328 86,4 -4,4\"/>\n<!-- U -->\n<g id=\"node1\" class=\"node\">\n<title>U</title>\n<ellipse fill=\"none\" stroke=\"black\" cx=\"27\" cy=\"-306\" rx=\"27\" ry=\"18\"/>\n<text text-anchor=\"middle\" x=\"27\" y=\"-302.3\" font-family=\"Times,serif\" font-size=\"14.00\">U</text>\n</g>\n<!-- M -->\n<g id=\"node2\" class=\"node\">\n<title>M</title>\n<ellipse fill=\"none\" stroke=\"black\" cx=\"27\" cy=\"-90\" rx=\"27\" ry=\"18\"/>\n<text text-anchor=\"middle\" x=\"27\" y=\"-86.3\" font-family=\"Times,serif\" font-size=\"14.00\">M</text>\n</g>\n<!-- U&#45;&gt;M -->\n<g id=\"edge2\" class=\"edge\">\n<title>U&#45;&gt;M</title>\n<path fill=\"none\" stroke=\"black\" d=\"M23.75,-287.89C21.95,-277.54 19.91,-264.06 19,-252 15.41,-204.13 15.41,-191.87 19,-144 19.64,-135.52 20.84,-126.34 22.12,-118.04\"/>\n<polygon fill=\"black\" stroke=\"black\" points=\"25.58,-118.55 23.75,-108.11 18.68,-117.41 25.58,-118.55\"/>\n</g>\n<!-- Z -->\n<g id=\"node3\" class=\"node\">\n<title>Z</title>\n<ellipse fill=\"none\" stroke=\"black\" cx=\"55\" cy=\"-234\" rx=\"27\" ry=\"18\"/>\n<text text-anchor=\"middle\" x=\"55\" y=\"-230.3\" font-family=\"Times,serif\" font-size=\"14.00\">Z</text>\n</g>\n<!-- U&#45;&gt;Z -->\n<g id=\"edge1\" class=\"edge\">\n<title>U&#45;&gt;Z</title>\n<path fill=\"none\" stroke=\"black\" d=\"M33.64,-288.41C36.91,-280.22 40.94,-270.14 44.62,-260.95\"/>\n<polygon fill=\"black\" stroke=\"black\" points=\"47.95,-262.05 48.41,-251.47 41.45,-259.45 47.95,-262.05\"/>\n</g>\n<!-- Y -->\n<g id=\"node5\" class=\"node\">\n<title>Y</title>\n<ellipse fill=\"none\" stroke=\"black\" cx=\"27\" cy=\"-18\" rx=\"27\" ry=\"18\"/>\n<text text-anchor=\"middle\" x=\"27\" y=\"-14.3\" font-family=\"Times,serif\" font-size=\"14.00\">Y</text>\n</g>\n<!-- M&#45;&gt;Y -->\n<g id=\"edge5\" class=\"edge\">\n<title>M&#45;&gt;Y</title>\n<path fill=\"none\" stroke=\"black\" d=\"M27,-71.7C27,-63.98 27,-54.71 27,-46.11\"/>\n<polygon fill=\"black\" stroke=\"black\" points=\"30.5,-46.1 27,-36.1 23.5,-46.1 30.5,-46.1\"/>\n</g>\n<!-- X -->\n<g id=\"node4\" class=\"node\">\n<title>X</title>\n<ellipse fill=\"none\" stroke=\"black\" cx=\"55\" cy=\"-162\" rx=\"27\" ry=\"18\"/>\n<text text-anchor=\"middle\" x=\"55\" y=\"-158.3\" font-family=\"Times,serif\" font-size=\"14.00\">X</text>\n</g>\n<!-- Z&#45;&gt;X -->\n<g id=\"edge3\" class=\"edge\">\n<title>Z&#45;&gt;X</title>\n<path fill=\"none\" stroke=\"black\" d=\"M55,-215.7C55,-207.98 55,-198.71 55,-190.11\"/>\n<polygon fill=\"black\" stroke=\"black\" points=\"58.5,-190.1 55,-180.1 51.5,-190.1 58.5,-190.1\"/>\n</g>\n<!-- X&#45;&gt;M -->\n<g id=\"edge4\" class=\"edge\">\n<title>X&#45;&gt;M</title>\n<path fill=\"none\" stroke=\"black\" d=\"M48.36,-144.41C45.09,-136.22 41.06,-126.14 37.38,-116.95\"/>\n<polygon fill=\"black\" stroke=\"black\" points=\"40.55,-115.45 33.59,-107.47 34.05,-118.05 40.55,-115.45\"/>\n</g>\n</g>\n</svg>\n",
            "text/plain": [
              "<graphviz.graphs.Digraph at 0x7cb77a52c430>"
            ]
          },
          "metadata": {},
          "execution_count": 67
        }
      ]
    },
    {
      "cell_type": "code",
      "source": [
        "N_SAMPLES = 1000\n",
        "\n",
        "u = np.random.randn(N_SAMPLES)\n",
        "z = u + np.random.randn(N_SAMPLES)\n",
        "x = z + np.random.randn(N_SAMPLES)\n",
        "m = x + u + np.random.randn(N_SAMPLES)\n",
        "y = m + np.random.randn(N_SAMPLES)\n",
        "\n",
        "X1 = sm.add_constant(np.stack([x]).T)\n",
        "X2 = sm.add_constant(np.stack([x, z]).T)"
      ],
      "metadata": {
        "id": "1-puOR7ttpyc"
      },
      "execution_count": 68,
      "outputs": []
    },
    {
      "cell_type": "markdown",
      "source": [
        "Unadjusted estimate"
      ],
      "metadata": {
        "id": "nYr0Hoixtpyc"
      }
    },
    {
      "cell_type": "code",
      "source": [
        "model = sm.OLS(y, X1)\n",
        "fitted_model = model.fit()\n",
        "\n",
        "print(fitted_model.summary(xname=['const', 'x']))"
      ],
      "metadata": {
        "colab": {
          "base_uri": "https://localhost:8080/"
        },
        "outputId": "0fe94516-92a2-495f-8a01-b6fc32d9464f",
        "id": "uqqsQ6tAtpyc"
      },
      "execution_count": 69,
      "outputs": [
        {
          "output_type": "stream",
          "name": "stdout",
          "text": [
            "                            OLS Regression Results                            \n",
            "==============================================================================\n",
            "Dep. Variable:                      y   R-squared:                       0.645\n",
            "Model:                            OLS   Adj. R-squared:                  0.645\n",
            "Method:                 Least Squares   F-statistic:                     1814.\n",
            "Date:                Mon, 01 Jan 2024   Prob (F-statistic):          1.04e-226\n",
            "Time:                        06:33:40   Log-Likelihood:                -1902.2\n",
            "No. Observations:                1000   AIC:                             3808.\n",
            "Df Residuals:                     998   BIC:                             3818.\n",
            "Df Model:                           1                                         \n",
            "Covariance Type:            nonrobust                                         \n",
            "==============================================================================\n",
            "                 coef    std err          t      P>|t|      [0.025      0.975]\n",
            "------------------------------------------------------------------------------\n",
            "const          0.1078      0.051      2.100      0.036       0.007       0.209\n",
            "x              1.3040      0.031     42.589      0.000       1.244       1.364\n",
            "==============================================================================\n",
            "Omnibus:                        0.684   Durbin-Watson:                   2.110\n",
            "Prob(Omnibus):                  0.710   Jarque-Bera (JB):                0.758\n",
            "Skew:                          -0.008   Prob(JB):                        0.685\n",
            "Kurtosis:                       2.866   Cond. No.                         1.68\n",
            "==============================================================================\n",
            "\n",
            "Notes:\n",
            "[1] Standard Errors assume that the covariance matrix of the errors is correctly specified.\n"
          ]
        }
      ]
    },
    {
      "cell_type": "markdown",
      "source": [
        "Adjusted estimate."
      ],
      "metadata": {
        "id": "2-SLp_iRtpyc"
      }
    },
    {
      "cell_type": "code",
      "source": [
        "model = sm.OLS(y, X2)\n",
        "fitted_model = model.fit()\n",
        "\n",
        "print(fitted_model.summary(xname=['const', 'x', 'z']))"
      ],
      "metadata": {
        "colab": {
          "base_uri": "https://localhost:8080/"
        },
        "outputId": "e17977b6-c826-403c-a60a-ecbd43f6ada2",
        "id": "jkuTq9WOtpyd"
      },
      "execution_count": 70,
      "outputs": [
        {
          "output_type": "stream",
          "name": "stdout",
          "text": [
            "                            OLS Regression Results                            \n",
            "==============================================================================\n",
            "Dep. Variable:                      y   R-squared:                       0.669\n",
            "Model:                            OLS   Adj. R-squared:                  0.668\n",
            "Method:                 Least Squares   F-statistic:                     1008.\n",
            "Date:                Mon, 01 Jan 2024   Prob (F-statistic):          3.40e-240\n",
            "Time:                        06:33:42   Log-Likelihood:                -1867.0\n",
            "No. Observations:                1000   AIC:                             3740.\n",
            "Df Residuals:                     997   BIC:                             3755.\n",
            "Df Model:                           2                                         \n",
            "Covariance Type:            nonrobust                                         \n",
            "==============================================================================\n",
            "                 coef    std err          t      P>|t|      [0.025      0.975]\n",
            "------------------------------------------------------------------------------\n",
            "const          0.1245      0.050      2.510      0.012       0.027       0.222\n",
            "x              0.9601      0.050     19.189      0.000       0.862       1.058\n",
            "z              0.5359      0.063      8.519      0.000       0.412       0.659\n",
            "==============================================================================\n",
            "Omnibus:                        0.457   Durbin-Watson:                   2.125\n",
            "Prob(Omnibus):                  0.796   Jarque-Bera (JB):                0.546\n",
            "Skew:                           0.021   Prob(JB):                        0.761\n",
            "Kurtosis:                       2.894   Cond. No.                         3.16\n",
            "==============================================================================\n",
            "\n",
            "Notes:\n",
            "[1] Standard Errors assume that the covariance matrix of the errors is correctly specified.\n"
          ]
        }
      ]
    },
    {
      "cell_type": "markdown",
      "source": [
        "**Scenario 6: Z is a good control.**"
      ],
      "metadata": {
        "id": "xmY9T6OAt5Ys"
      }
    },
    {
      "cell_type": "code",
      "source": [
        "g = graphviz.Digraph()\n",
        "\n",
        "# Add nodes\n",
        "nodes = ['U', 'M', 'Z', 'X', 'Y']\n",
        "[g.node(n) for n in nodes]\n",
        "\n",
        "g.edges(['UZ', 'UX', 'ZM', 'XM', 'MY'])\n",
        "g"
      ],
      "metadata": {
        "colab": {
          "base_uri": "https://localhost:8080/",
          "height": 368
        },
        "outputId": "ee8f815d-b5a5-45a5-8a46-9c3a94b73a97",
        "id": "5j_umYV5t5Yt"
      },
      "execution_count": 71,
      "outputs": [
        {
          "output_type": "execute_result",
          "data": {
            "image/svg+xml": "<?xml version=\"1.0\" encoding=\"UTF-8\" standalone=\"no\"?>\n<!DOCTYPE svg PUBLIC \"-//W3C//DTD SVG 1.1//EN\"\n \"http://www.w3.org/Graphics/SVG/1.1/DTD/svg11.dtd\">\n<!-- Generated by graphviz version 2.43.0 (0)\n -->\n<!-- Title: %3 Pages: 1 -->\n<svg width=\"134pt\" height=\"260pt\"\n viewBox=\"0.00 0.00 134.00 260.00\" xmlns=\"http://www.w3.org/2000/svg\" xmlns:xlink=\"http://www.w3.org/1999/xlink\">\n<g id=\"graph0\" class=\"graph\" transform=\"scale(1 1) rotate(0) translate(4 256)\">\n<title>%3</title>\n<polygon fill=\"white\" stroke=\"transparent\" points=\"-4,4 -4,-256 130,-256 130,4 -4,4\"/>\n<!-- U -->\n<g id=\"node1\" class=\"node\">\n<title>U</title>\n<ellipse fill=\"none\" stroke=\"black\" cx=\"63\" cy=\"-234\" rx=\"27\" ry=\"18\"/>\n<text text-anchor=\"middle\" x=\"63\" y=\"-230.3\" font-family=\"Times,serif\" font-size=\"14.00\">U</text>\n</g>\n<!-- Z -->\n<g id=\"node3\" class=\"node\">\n<title>Z</title>\n<ellipse fill=\"none\" stroke=\"black\" cx=\"27\" cy=\"-162\" rx=\"27\" ry=\"18\"/>\n<text text-anchor=\"middle\" x=\"27\" y=\"-158.3\" font-family=\"Times,serif\" font-size=\"14.00\">Z</text>\n</g>\n<!-- U&#45;&gt;Z -->\n<g id=\"edge1\" class=\"edge\">\n<title>U&#45;&gt;Z</title>\n<path fill=\"none\" stroke=\"black\" d=\"M54.65,-216.76C50.29,-208.28 44.85,-197.71 39.96,-188.2\"/>\n<polygon fill=\"black\" stroke=\"black\" points=\"42.99,-186.44 35.3,-179.15 36.77,-189.64 42.99,-186.44\"/>\n</g>\n<!-- X -->\n<g id=\"node4\" class=\"node\">\n<title>X</title>\n<ellipse fill=\"none\" stroke=\"black\" cx=\"99\" cy=\"-162\" rx=\"27\" ry=\"18\"/>\n<text text-anchor=\"middle\" x=\"99\" y=\"-158.3\" font-family=\"Times,serif\" font-size=\"14.00\">X</text>\n</g>\n<!-- U&#45;&gt;X -->\n<g id=\"edge2\" class=\"edge\">\n<title>U&#45;&gt;X</title>\n<path fill=\"none\" stroke=\"black\" d=\"M71.35,-216.76C75.71,-208.28 81.15,-197.71 86.04,-188.2\"/>\n<polygon fill=\"black\" stroke=\"black\" points=\"89.23,-189.64 90.7,-179.15 83.01,-186.44 89.23,-189.64\"/>\n</g>\n<!-- M -->\n<g id=\"node2\" class=\"node\">\n<title>M</title>\n<ellipse fill=\"none\" stroke=\"black\" cx=\"63\" cy=\"-90\" rx=\"27\" ry=\"18\"/>\n<text text-anchor=\"middle\" x=\"63\" y=\"-86.3\" font-family=\"Times,serif\" font-size=\"14.00\">M</text>\n</g>\n<!-- Y -->\n<g id=\"node5\" class=\"node\">\n<title>Y</title>\n<ellipse fill=\"none\" stroke=\"black\" cx=\"63\" cy=\"-18\" rx=\"27\" ry=\"18\"/>\n<text text-anchor=\"middle\" x=\"63\" y=\"-14.3\" font-family=\"Times,serif\" font-size=\"14.00\">Y</text>\n</g>\n<!-- M&#45;&gt;Y -->\n<g id=\"edge5\" class=\"edge\">\n<title>M&#45;&gt;Y</title>\n<path fill=\"none\" stroke=\"black\" d=\"M63,-71.7C63,-63.98 63,-54.71 63,-46.11\"/>\n<polygon fill=\"black\" stroke=\"black\" points=\"66.5,-46.1 63,-36.1 59.5,-46.1 66.5,-46.1\"/>\n</g>\n<!-- Z&#45;&gt;M -->\n<g id=\"edge3\" class=\"edge\">\n<title>Z&#45;&gt;M</title>\n<path fill=\"none\" stroke=\"black\" d=\"M35.35,-144.76C39.71,-136.28 45.15,-125.71 50.04,-116.2\"/>\n<polygon fill=\"black\" stroke=\"black\" points=\"53.23,-117.64 54.7,-107.15 47.01,-114.44 53.23,-117.64\"/>\n</g>\n<!-- X&#45;&gt;M -->\n<g id=\"edge4\" class=\"edge\">\n<title>X&#45;&gt;M</title>\n<path fill=\"none\" stroke=\"black\" d=\"M90.65,-144.76C86.29,-136.28 80.85,-125.71 75.96,-116.2\"/>\n<polygon fill=\"black\" stroke=\"black\" points=\"78.99,-114.44 71.3,-107.15 72.77,-117.64 78.99,-114.44\"/>\n</g>\n</g>\n</svg>\n",
            "text/plain": [
              "<graphviz.graphs.Digraph at 0x7cb77a52e5f0>"
            ]
          },
          "metadata": {},
          "execution_count": 71
        }
      ]
    },
    {
      "cell_type": "code",
      "source": [
        "N_SAMPLES = 1000\n",
        "\n",
        "u = np.random.randn(N_SAMPLES)\n",
        "z = u + np.random.randn(N_SAMPLES)\n",
        "x = u + np.random.randn(N_SAMPLES)\n",
        "m = x + z + np.random.randn(N_SAMPLES)\n",
        "y = m + np.random.randn(N_SAMPLES)\n",
        "\n",
        "X1 = sm.add_constant(np.stack([x]).T)\n",
        "X2 = sm.add_constant(np.stack([x, z]).T)"
      ],
      "metadata": {
        "id": "p9eZQEV5t5Yt"
      },
      "execution_count": 72,
      "outputs": []
    },
    {
      "cell_type": "markdown",
      "source": [
        "Unadjusted estimate"
      ],
      "metadata": {
        "id": "0BsQHdAgt5Yu"
      }
    },
    {
      "cell_type": "code",
      "source": [
        "model = sm.OLS(y, X1)\n",
        "fitted_model = model.fit()\n",
        "\n",
        "print(fitted_model.summary(xname=['const', 'x']))"
      ],
      "metadata": {
        "colab": {
          "base_uri": "https://localhost:8080/"
        },
        "outputId": "a320eea8-5929-42b8-ab7e-b0cc866093cb",
        "id": "osWYBiWut5Yu"
      },
      "execution_count": 73,
      "outputs": [
        {
          "output_type": "stream",
          "name": "stdout",
          "text": [
            "                            OLS Regression Results                            \n",
            "==============================================================================\n",
            "Dep. Variable:                      y   R-squared:                       0.577\n",
            "Model:                            OLS   Adj. R-squared:                  0.577\n",
            "Method:                 Least Squares   F-statistic:                     1362.\n",
            "Date:                Mon, 01 Jan 2024   Prob (F-statistic):          1.02e-188\n",
            "Time:                        06:34:54   Log-Likelihood:                -2028.5\n",
            "No. Observations:                1000   AIC:                             4061.\n",
            "Df Residuals:                     998   BIC:                             4071.\n",
            "Df Model:                           1                                         \n",
            "Covariance Type:            nonrobust                                         \n",
            "==============================================================================\n",
            "                 coef    std err          t      P>|t|      [0.025      0.975]\n",
            "------------------------------------------------------------------------------\n",
            "const          0.0607      0.058      1.042      0.298      -0.054       0.175\n",
            "x              1.5206      0.041     36.905      0.000       1.440       1.601\n",
            "==============================================================================\n",
            "Omnibus:                        3.236   Durbin-Watson:                   2.018\n",
            "Prob(Omnibus):                  0.198   Jarque-Bera (JB):                2.822\n",
            "Skew:                           0.044   Prob(JB):                        0.244\n",
            "Kurtosis:                       2.755   Cond. No.                         1.42\n",
            "==============================================================================\n",
            "\n",
            "Notes:\n",
            "[1] Standard Errors assume that the covariance matrix of the errors is correctly specified.\n"
          ]
        }
      ]
    },
    {
      "cell_type": "markdown",
      "source": [
        "Adjusted estimate."
      ],
      "metadata": {
        "id": "FVWOnaJ5t5Yu"
      }
    },
    {
      "cell_type": "code",
      "source": [
        "model = sm.OLS(y, X2)\n",
        "fitted_model = model.fit()\n",
        "\n",
        "print(fitted_model.summary(xname=['const', 'x', 'z']))"
      ],
      "metadata": {
        "colab": {
          "base_uri": "https://localhost:8080/"
        },
        "outputId": "e2eb6c03-d617-43cb-a288-8f11ed9e1c8e",
        "id": "KmVsiClBt5Yu"
      },
      "execution_count": 74,
      "outputs": [
        {
          "output_type": "stream",
          "name": "stdout",
          "text": [
            "                            OLS Regression Results                            \n",
            "==============================================================================\n",
            "Dep. Variable:                      y   R-squared:                       0.763\n",
            "Model:                            OLS   Adj. R-squared:                  0.763\n",
            "Method:                 Least Squares   F-statistic:                     1607.\n",
            "Date:                Mon, 01 Jan 2024   Prob (F-statistic):          1.16e-312\n",
            "Time:                        06:34:54   Log-Likelihood:                -1738.4\n",
            "No. Observations:                1000   AIC:                             3483.\n",
            "Df Residuals:                     997   BIC:                             3498.\n",
            "Df Model:                           2                                         \n",
            "Covariance Type:            nonrobust                                         \n",
            "==============================================================================\n",
            "                 coef    std err          t      P>|t|      [0.025      0.975]\n",
            "------------------------------------------------------------------------------\n",
            "const          0.0489      0.044      1.122      0.262      -0.037       0.135\n",
            "x              1.0068      0.036     28.053      0.000       0.936       1.077\n",
            "z              0.9766      0.035     28.000      0.000       0.908       1.045\n",
            "==============================================================================\n",
            "Omnibus:                        0.345   Durbin-Watson:                   2.022\n",
            "Prob(Omnibus):                  0.842   Jarque-Bera (JB):                0.277\n",
            "Skew:                           0.037   Prob(JB):                        0.871\n",
            "Kurtosis:                       3.036   Cond. No.                         1.77\n",
            "==============================================================================\n",
            "\n",
            "Notes:\n",
            "[1] Standard Errors assume that the covariance matrix of the errors is correctly specified.\n"
          ]
        }
      ]
    },
    {
      "cell_type": "markdown",
      "source": [
        "## Neutral Control scenarios for Z"
      ],
      "metadata": {
        "id": "hwJD3SZKu93W"
      }
    },
    {
      "cell_type": "markdown",
      "source": [
        "**Scenario 1**"
      ],
      "metadata": {
        "id": "4nLL1zEi0Y40"
      }
    },
    {
      "cell_type": "code",
      "source": [
        "g = graphviz.Digraph()\n",
        "\n",
        "# Add nodes\n",
        "nodes = ['Z', 'X', 'Y']\n",
        "[g.node(n) for n in nodes]\n",
        "\n",
        "g.edges(['ZY', 'XY'])\n",
        "g"
      ],
      "metadata": {
        "colab": {
          "base_uri": "https://localhost:8080/",
          "height": 176
        },
        "id": "pLklYbrTtLJ6",
        "outputId": "87d2742f-6658-465d-b2e8-f2258cbca50a"
      },
      "execution_count": 76,
      "outputs": [
        {
          "output_type": "execute_result",
          "data": {
            "image/svg+xml": "<?xml version=\"1.0\" encoding=\"UTF-8\" standalone=\"no\"?>\n<!DOCTYPE svg PUBLIC \"-//W3C//DTD SVG 1.1//EN\"\n \"http://www.w3.org/Graphics/SVG/1.1/DTD/svg11.dtd\">\n<!-- Generated by graphviz version 2.43.0 (0)\n -->\n<!-- Title: %3 Pages: 1 -->\n<svg width=\"134pt\" height=\"116pt\"\n viewBox=\"0.00 0.00 134.00 116.00\" xmlns=\"http://www.w3.org/2000/svg\" xmlns:xlink=\"http://www.w3.org/1999/xlink\">\n<g id=\"graph0\" class=\"graph\" transform=\"scale(1 1) rotate(0) translate(4 112)\">\n<title>%3</title>\n<polygon fill=\"white\" stroke=\"transparent\" points=\"-4,4 -4,-112 130,-112 130,4 -4,4\"/>\n<!-- Z -->\n<g id=\"node1\" class=\"node\">\n<title>Z</title>\n<ellipse fill=\"none\" stroke=\"black\" cx=\"27\" cy=\"-90\" rx=\"27\" ry=\"18\"/>\n<text text-anchor=\"middle\" x=\"27\" y=\"-86.3\" font-family=\"Times,serif\" font-size=\"14.00\">Z</text>\n</g>\n<!-- Y -->\n<g id=\"node3\" class=\"node\">\n<title>Y</title>\n<ellipse fill=\"none\" stroke=\"black\" cx=\"63\" cy=\"-18\" rx=\"27\" ry=\"18\"/>\n<text text-anchor=\"middle\" x=\"63\" y=\"-14.3\" font-family=\"Times,serif\" font-size=\"14.00\">Y</text>\n</g>\n<!-- Z&#45;&gt;Y -->\n<g id=\"edge1\" class=\"edge\">\n<title>Z&#45;&gt;Y</title>\n<path fill=\"none\" stroke=\"black\" d=\"M35.35,-72.76C39.71,-64.28 45.15,-53.71 50.04,-44.2\"/>\n<polygon fill=\"black\" stroke=\"black\" points=\"53.23,-45.64 54.7,-35.15 47.01,-42.44 53.23,-45.64\"/>\n</g>\n<!-- X -->\n<g id=\"node2\" class=\"node\">\n<title>X</title>\n<ellipse fill=\"none\" stroke=\"black\" cx=\"99\" cy=\"-90\" rx=\"27\" ry=\"18\"/>\n<text text-anchor=\"middle\" x=\"99\" y=\"-86.3\" font-family=\"Times,serif\" font-size=\"14.00\">X</text>\n</g>\n<!-- X&#45;&gt;Y -->\n<g id=\"edge2\" class=\"edge\">\n<title>X&#45;&gt;Y</title>\n<path fill=\"none\" stroke=\"black\" d=\"M90.65,-72.76C86.29,-64.28 80.85,-53.71 75.96,-44.2\"/>\n<polygon fill=\"black\" stroke=\"black\" points=\"78.99,-42.44 71.3,-35.15 72.77,-45.64 78.99,-42.44\"/>\n</g>\n</g>\n</svg>\n",
            "text/plain": [
              "<graphviz.graphs.Digraph at 0x7cb77ab6f700>"
            ]
          },
          "metadata": {},
          "execution_count": 76
        }
      ]
    },
    {
      "cell_type": "code",
      "source": [
        "N_SAMPLES = 1000\n",
        "\n",
        "z = np.random.randn(N_SAMPLES)\n",
        "x = np.random.randn(N_SAMPLES)\n",
        "y = x + 2*z + np.random.randn(N_SAMPLES)\n",
        "\n",
        "X1 = sm.add_constant(np.stack([x]).T)\n",
        "X2 = sm.add_constant(np.stack([x, z]).T)"
      ],
      "metadata": {
        "id": "iU_QFmr3s0JC"
      },
      "execution_count": 80,
      "outputs": []
    },
    {
      "cell_type": "markdown",
      "source": [
        "Unadjusted estimate"
      ],
      "metadata": {
        "id": "zZzJ4Y6s09J9"
      }
    },
    {
      "cell_type": "code",
      "source": [
        "model = sm.OLS(y, X1)\n",
        "fitted_model = model.fit()\n",
        "\n",
        "print(fitted_model.summary(xname=['const', 'x']))"
      ],
      "metadata": {
        "colab": {
          "base_uri": "https://localhost:8080/"
        },
        "outputId": "16f404c9-b8a9-44df-a220-c92f48011761",
        "id": "De0_Ii5709J-"
      },
      "execution_count": 81,
      "outputs": [
        {
          "output_type": "stream",
          "name": "stdout",
          "text": [
            "                            OLS Regression Results                            \n",
            "==============================================================================\n",
            "Dep. Variable:                      y   R-squared:                       0.176\n",
            "Model:                            OLS   Adj. R-squared:                  0.175\n",
            "Method:                 Least Squares   F-statistic:                     213.1\n",
            "Date:                Mon, 01 Jan 2024   Prob (F-statistic):           6.73e-44\n",
            "Time:                        07:02:03   Log-Likelihood:                -2226.7\n",
            "No. Observations:                1000   AIC:                             4457.\n",
            "Df Residuals:                     998   BIC:                             4467.\n",
            "Df Model:                           1                                         \n",
            "Covariance Type:            nonrobust                                         \n",
            "==============================================================================\n",
            "                 coef    std err          t      P>|t|      [0.025      0.975]\n",
            "------------------------------------------------------------------------------\n",
            "const          0.1025      0.071      1.444      0.149      -0.037       0.242\n",
            "x              1.0075      0.069     14.600      0.000       0.872       1.143\n",
            "==============================================================================\n",
            "Omnibus:                        0.876   Durbin-Watson:                   1.965\n",
            "Prob(Omnibus):                  0.645   Jarque-Bera (JB):                0.826\n",
            "Skew:                          -0.070   Prob(JB):                        0.662\n",
            "Kurtosis:                       3.018   Cond. No.                         1.03\n",
            "==============================================================================\n",
            "\n",
            "Notes:\n",
            "[1] Standard Errors assume that the covariance matrix of the errors is correctly specified.\n"
          ]
        }
      ]
    },
    {
      "cell_type": "markdown",
      "source": [
        "Adjusted estimate."
      ],
      "metadata": {
        "id": "o5w3Ba2509J_"
      }
    },
    {
      "cell_type": "code",
      "source": [
        "model = sm.OLS(y, X2)\n",
        "fitted_model = model.fit()\n",
        "\n",
        "print(fitted_model.summary(xname=['const', 'x', 'z']))"
      ],
      "metadata": {
        "colab": {
          "base_uri": "https://localhost:8080/"
        },
        "outputId": "9dadf0dd-d10c-4e86-cb2d-eb6c195b77cc",
        "id": "ZXNtkm4P09J_"
      },
      "execution_count": 82,
      "outputs": [
        {
          "output_type": "stream",
          "name": "stdout",
          "text": [
            "                            OLS Regression Results                            \n",
            "==============================================================================\n",
            "Dep. Variable:                      y   R-squared:                       0.831\n",
            "Model:                            OLS   Adj. R-squared:                  0.830\n",
            "Method:                 Least Squares   F-statistic:                     2446.\n",
            "Date:                Mon, 01 Jan 2024   Prob (F-statistic):               0.00\n",
            "Time:                        07:02:07   Log-Likelihood:                -1435.5\n",
            "No. Observations:                1000   AIC:                             2877.\n",
            "Df Residuals:                     997   BIC:                             2892.\n",
            "Df Model:                           2                                         \n",
            "Covariance Type:            nonrobust                                         \n",
            "==============================================================================\n",
            "                 coef    std err          t      P>|t|      [0.025      0.975]\n",
            "------------------------------------------------------------------------------\n",
            "const          0.0551      0.032      1.711      0.087      -0.008       0.118\n",
            "x              1.0283      0.031     32.851      0.000       0.967       1.090\n",
            "z              1.9924      0.032     62.090      0.000       1.929       2.055\n",
            "==============================================================================\n",
            "Omnibus:                        0.604   Durbin-Watson:                   1.968\n",
            "Prob(Omnibus):                  0.739   Jarque-Bera (JB):                0.593\n",
            "Skew:                          -0.060   Prob(JB):                        0.743\n",
            "Kurtosis:                       2.993   Cond. No.                         1.04\n",
            "==============================================================================\n",
            "\n",
            "Notes:\n",
            "[1] Standard Errors assume that the covariance matrix of the errors is correctly specified.\n"
          ]
        }
      ]
    },
    {
      "cell_type": "markdown",
      "source": [
        "**Scenario 2**"
      ],
      "metadata": {
        "id": "q0WB_pJr1MJc"
      }
    },
    {
      "cell_type": "code",
      "source": [
        "g = graphviz.Digraph()\n",
        "\n",
        "# Add nodes\n",
        "nodes = ['Z', 'X', 'Y']\n",
        "[g.node(n) for n in nodes]\n",
        "\n",
        "g.edges(['ZX', 'XY'])\n",
        "g"
      ],
      "metadata": {
        "colab": {
          "base_uri": "https://localhost:8080/",
          "height": 272
        },
        "outputId": "ff8884d3-8083-466b-d77c-d8ad3f32b62b",
        "id": "j0WODmwG1MJo"
      },
      "execution_count": 83,
      "outputs": [
        {
          "output_type": "execute_result",
          "data": {
            "image/svg+xml": "<?xml version=\"1.0\" encoding=\"UTF-8\" standalone=\"no\"?>\n<!DOCTYPE svg PUBLIC \"-//W3C//DTD SVG 1.1//EN\"\n \"http://www.w3.org/Graphics/SVG/1.1/DTD/svg11.dtd\">\n<!-- Generated by graphviz version 2.43.0 (0)\n -->\n<!-- Title: %3 Pages: 1 -->\n<svg width=\"62pt\" height=\"188pt\"\n viewBox=\"0.00 0.00 62.00 188.00\" xmlns=\"http://www.w3.org/2000/svg\" xmlns:xlink=\"http://www.w3.org/1999/xlink\">\n<g id=\"graph0\" class=\"graph\" transform=\"scale(1 1) rotate(0) translate(4 184)\">\n<title>%3</title>\n<polygon fill=\"white\" stroke=\"transparent\" points=\"-4,4 -4,-184 58,-184 58,4 -4,4\"/>\n<!-- Z -->\n<g id=\"node1\" class=\"node\">\n<title>Z</title>\n<ellipse fill=\"none\" stroke=\"black\" cx=\"27\" cy=\"-162\" rx=\"27\" ry=\"18\"/>\n<text text-anchor=\"middle\" x=\"27\" y=\"-158.3\" font-family=\"Times,serif\" font-size=\"14.00\">Z</text>\n</g>\n<!-- X -->\n<g id=\"node2\" class=\"node\">\n<title>X</title>\n<ellipse fill=\"none\" stroke=\"black\" cx=\"27\" cy=\"-90\" rx=\"27\" ry=\"18\"/>\n<text text-anchor=\"middle\" x=\"27\" y=\"-86.3\" font-family=\"Times,serif\" font-size=\"14.00\">X</text>\n</g>\n<!-- Z&#45;&gt;X -->\n<g id=\"edge1\" class=\"edge\">\n<title>Z&#45;&gt;X</title>\n<path fill=\"none\" stroke=\"black\" d=\"M27,-143.7C27,-135.98 27,-126.71 27,-118.11\"/>\n<polygon fill=\"black\" stroke=\"black\" points=\"30.5,-118.1 27,-108.1 23.5,-118.1 30.5,-118.1\"/>\n</g>\n<!-- Y -->\n<g id=\"node3\" class=\"node\">\n<title>Y</title>\n<ellipse fill=\"none\" stroke=\"black\" cx=\"27\" cy=\"-18\" rx=\"27\" ry=\"18\"/>\n<text text-anchor=\"middle\" x=\"27\" y=\"-14.3\" font-family=\"Times,serif\" font-size=\"14.00\">Y</text>\n</g>\n<!-- X&#45;&gt;Y -->\n<g id=\"edge2\" class=\"edge\">\n<title>X&#45;&gt;Y</title>\n<path fill=\"none\" stroke=\"black\" d=\"M27,-71.7C27,-63.98 27,-54.71 27,-46.11\"/>\n<polygon fill=\"black\" stroke=\"black\" points=\"30.5,-46.1 27,-36.1 23.5,-46.1 30.5,-46.1\"/>\n</g>\n</g>\n</svg>\n",
            "text/plain": [
              "<graphviz.graphs.Digraph at 0x7cb77ab6f970>"
            ]
          },
          "metadata": {},
          "execution_count": 83
        }
      ]
    },
    {
      "cell_type": "code",
      "source": [
        "N_SAMPLES = 1000\n",
        "\n",
        "z = np.random.randn(N_SAMPLES)\n",
        "x = 2*z + np.random.randn(N_SAMPLES)\n",
        "y = x + 2*np.random.randn(N_SAMPLES)\n",
        "\n",
        "X1 = sm.add_constant(np.stack([x]).T)\n",
        "X2 = sm.add_constant(np.stack([x, z]).T)"
      ],
      "metadata": {
        "id": "8E7iwPX81MJo"
      },
      "execution_count": 84,
      "outputs": []
    },
    {
      "cell_type": "markdown",
      "source": [
        "Unadjusted estimate"
      ],
      "metadata": {
        "id": "ZwCDKJgr1MJp"
      }
    },
    {
      "cell_type": "code",
      "source": [
        "model = sm.OLS(y, X1)\n",
        "fitted_model = model.fit()\n",
        "\n",
        "print(fitted_model.summary(xname=['const', 'x']))"
      ],
      "metadata": {
        "colab": {
          "base_uri": "https://localhost:8080/"
        },
        "outputId": "67630742-60c8-4f2b-f2da-4bd9962e244e",
        "id": "7Gq_u2wB1MJp"
      },
      "execution_count": 85,
      "outputs": [
        {
          "output_type": "stream",
          "name": "stdout",
          "text": [
            "                            OLS Regression Results                            \n",
            "==============================================================================\n",
            "Dep. Variable:                      y   R-squared:                       0.574\n",
            "Model:                            OLS   Adj. R-squared:                  0.574\n",
            "Method:                 Least Squares   F-statistic:                     1347.\n",
            "Date:                Mon, 01 Jan 2024   Prob (F-statistic):          2.41e-187\n",
            "Time:                        07:03:08   Log-Likelihood:                -2107.2\n",
            "No. Observations:                1000   AIC:                             4218.\n",
            "Df Residuals:                     998   BIC:                             4228.\n",
            "Df Model:                           1                                         \n",
            "Covariance Type:            nonrobust                                         \n",
            "==============================================================================\n",
            "                 coef    std err          t      P>|t|      [0.025      0.975]\n",
            "------------------------------------------------------------------------------\n",
            "const          0.0489      0.063      0.774      0.439      -0.075       0.173\n",
            "x              1.0311      0.028     36.702      0.000       0.976       1.086\n",
            "==============================================================================\n",
            "Omnibus:                        0.553   Durbin-Watson:                   1.996\n",
            "Prob(Omnibus):                  0.758   Jarque-Bera (JB):                0.441\n",
            "Skew:                           0.035   Prob(JB):                        0.802\n",
            "Kurtosis:                       3.075   Cond. No.                         2.26\n",
            "==============================================================================\n",
            "\n",
            "Notes:\n",
            "[1] Standard Errors assume that the covariance matrix of the errors is correctly specified.\n"
          ]
        }
      ]
    },
    {
      "cell_type": "markdown",
      "source": [
        "Adjusted estimate."
      ],
      "metadata": {
        "id": "jILR7jry1MJp"
      }
    },
    {
      "cell_type": "code",
      "source": [
        "model = sm.OLS(y, X2)\n",
        "fitted_model = model.fit()\n",
        "\n",
        "print(fitted_model.summary(xname=['const', 'x', 'z']))"
      ],
      "metadata": {
        "colab": {
          "base_uri": "https://localhost:8080/"
        },
        "outputId": "b23c321b-3cbb-43f9-e6b2-89de6b879db3",
        "id": "eNhNIVHz1MJp"
      },
      "execution_count": 86,
      "outputs": [
        {
          "output_type": "stream",
          "name": "stdout",
          "text": [
            "                            OLS Regression Results                            \n",
            "==============================================================================\n",
            "Dep. Variable:                      y   R-squared:                       0.574\n",
            "Model:                            OLS   Adj. R-squared:                  0.574\n",
            "Method:                 Least Squares   F-statistic:                     672.9\n",
            "Date:                Mon, 01 Jan 2024   Prob (F-statistic):          1.11e-185\n",
            "Time:                        07:03:12   Log-Likelihood:                -2107.2\n",
            "No. Observations:                1000   AIC:                             4220.\n",
            "Df Residuals:                     997   BIC:                             4235.\n",
            "Df Model:                           2                                         \n",
            "Covariance Type:            nonrobust                                         \n",
            "==============================================================================\n",
            "                 coef    std err          t      P>|t|      [0.025      0.975]\n",
            "------------------------------------------------------------------------------\n",
            "const          0.0489      0.063      0.774      0.439      -0.075       0.173\n",
            "x              1.0334      0.061     16.910      0.000       0.913       1.153\n",
            "z             -0.0057      0.135     -0.043      0.966      -0.271       0.259\n",
            "==============================================================================\n",
            "Omnibus:                        0.557   Durbin-Watson:                   1.997\n",
            "Prob(Omnibus):                  0.757   Jarque-Bera (JB):                0.445\n",
            "Skew:                           0.035   Prob(JB):                        0.801\n",
            "Kurtosis:                       3.076   Cond. No.                         5.62\n",
            "==============================================================================\n",
            "\n",
            "Notes:\n",
            "[1] Standard Errors assume that the covariance matrix of the errors is correctly specified.\n"
          ]
        }
      ]
    },
    {
      "cell_type": "markdown",
      "source": [
        "**Scenario 3**"
      ],
      "metadata": {
        "id": "S_zOLnIl1f-b"
      }
    },
    {
      "cell_type": "code",
      "source": [
        "g = graphviz.Digraph()\n",
        "\n",
        "# Add nodes\n",
        "nodes = ['M', 'Z', 'X', 'Y']\n",
        "[g.node(n) for n in nodes]\n",
        "\n",
        "g.edges(['XM', 'ZM', 'MY'])\n",
        "g"
      ],
      "metadata": {
        "colab": {
          "base_uri": "https://localhost:8080/",
          "height": 272
        },
        "outputId": "5cbe5c4b-fd12-41ec-8794-710a876f3485",
        "id": "P-oHQvIy1f-l"
      },
      "execution_count": 88,
      "outputs": [
        {
          "output_type": "execute_result",
          "data": {
            "image/svg+xml": "<?xml version=\"1.0\" encoding=\"UTF-8\" standalone=\"no\"?>\n<!DOCTYPE svg PUBLIC \"-//W3C//DTD SVG 1.1//EN\"\n \"http://www.w3.org/Graphics/SVG/1.1/DTD/svg11.dtd\">\n<!-- Generated by graphviz version 2.43.0 (0)\n -->\n<!-- Title: %3 Pages: 1 -->\n<svg width=\"134pt\" height=\"188pt\"\n viewBox=\"0.00 0.00 134.00 188.00\" xmlns=\"http://www.w3.org/2000/svg\" xmlns:xlink=\"http://www.w3.org/1999/xlink\">\n<g id=\"graph0\" class=\"graph\" transform=\"scale(1 1) rotate(0) translate(4 184)\">\n<title>%3</title>\n<polygon fill=\"white\" stroke=\"transparent\" points=\"-4,4 -4,-184 130,-184 130,4 -4,4\"/>\n<!-- M -->\n<g id=\"node1\" class=\"node\">\n<title>M</title>\n<ellipse fill=\"none\" stroke=\"black\" cx=\"63\" cy=\"-90\" rx=\"27\" ry=\"18\"/>\n<text text-anchor=\"middle\" x=\"63\" y=\"-86.3\" font-family=\"Times,serif\" font-size=\"14.00\">M</text>\n</g>\n<!-- Y -->\n<g id=\"node4\" class=\"node\">\n<title>Y</title>\n<ellipse fill=\"none\" stroke=\"black\" cx=\"63\" cy=\"-18\" rx=\"27\" ry=\"18\"/>\n<text text-anchor=\"middle\" x=\"63\" y=\"-14.3\" font-family=\"Times,serif\" font-size=\"14.00\">Y</text>\n</g>\n<!-- M&#45;&gt;Y -->\n<g id=\"edge3\" class=\"edge\">\n<title>M&#45;&gt;Y</title>\n<path fill=\"none\" stroke=\"black\" d=\"M63,-71.7C63,-63.98 63,-54.71 63,-46.11\"/>\n<polygon fill=\"black\" stroke=\"black\" points=\"66.5,-46.1 63,-36.1 59.5,-46.1 66.5,-46.1\"/>\n</g>\n<!-- Z -->\n<g id=\"node2\" class=\"node\">\n<title>Z</title>\n<ellipse fill=\"none\" stroke=\"black\" cx=\"27\" cy=\"-162\" rx=\"27\" ry=\"18\"/>\n<text text-anchor=\"middle\" x=\"27\" y=\"-158.3\" font-family=\"Times,serif\" font-size=\"14.00\">Z</text>\n</g>\n<!-- Z&#45;&gt;M -->\n<g id=\"edge2\" class=\"edge\">\n<title>Z&#45;&gt;M</title>\n<path fill=\"none\" stroke=\"black\" d=\"M35.35,-144.76C39.71,-136.28 45.15,-125.71 50.04,-116.2\"/>\n<polygon fill=\"black\" stroke=\"black\" points=\"53.23,-117.64 54.7,-107.15 47.01,-114.44 53.23,-117.64\"/>\n</g>\n<!-- X -->\n<g id=\"node3\" class=\"node\">\n<title>X</title>\n<ellipse fill=\"none\" stroke=\"black\" cx=\"99\" cy=\"-162\" rx=\"27\" ry=\"18\"/>\n<text text-anchor=\"middle\" x=\"99\" y=\"-158.3\" font-family=\"Times,serif\" font-size=\"14.00\">X</text>\n</g>\n<!-- X&#45;&gt;M -->\n<g id=\"edge1\" class=\"edge\">\n<title>X&#45;&gt;M</title>\n<path fill=\"none\" stroke=\"black\" d=\"M90.65,-144.76C86.29,-136.28 80.85,-125.71 75.96,-116.2\"/>\n<polygon fill=\"black\" stroke=\"black\" points=\"78.99,-114.44 71.3,-107.15 72.77,-117.64 78.99,-114.44\"/>\n</g>\n</g>\n</svg>\n",
            "text/plain": [
              "<graphviz.graphs.Digraph at 0x7cb77ab6ec80>"
            ]
          },
          "metadata": {},
          "execution_count": 88
        }
      ]
    },
    {
      "cell_type": "code",
      "source": [
        "N_SAMPLES = 1000\n",
        "\n",
        "z = np.random.randn(N_SAMPLES)\n",
        "x = np.random.randn(N_SAMPLES)\n",
        "m = 2*z + np.random.randn(N_SAMPLES)\n",
        "y = x + 2*m + np.random.randn(N_SAMPLES)\n",
        "\n",
        "X1 = sm.add_constant(np.stack([x]).T)\n",
        "X2 = sm.add_constant(np.stack([x, z]).T)"
      ],
      "metadata": {
        "id": "DypbrvVj1f-l"
      },
      "execution_count": 89,
      "outputs": []
    },
    {
      "cell_type": "markdown",
      "source": [
        "Unadjusted estimate"
      ],
      "metadata": {
        "id": "23Nwm03Z1f-l"
      }
    },
    {
      "cell_type": "code",
      "source": [
        "model = sm.OLS(y, X1)\n",
        "fitted_model = model.fit()\n",
        "\n",
        "print(fitted_model.summary(xname=['const', 'x']))"
      ],
      "metadata": {
        "colab": {
          "base_uri": "https://localhost:8080/"
        },
        "outputId": "2fe072dd-523b-44b0-d0a1-e3970c58b708",
        "id": "Ew0xs4Tq1f-l"
      },
      "execution_count": 90,
      "outputs": [
        {
          "output_type": "stream",
          "name": "stdout",
          "text": [
            "                            OLS Regression Results                            \n",
            "==============================================================================\n",
            "Dep. Variable:                      y   R-squared:                       0.060\n",
            "Model:                            OLS   Adj. R-squared:                  0.059\n",
            "Method:                 Least Squares   F-statistic:                     63.23\n",
            "Date:                Mon, 01 Jan 2024   Prob (F-statistic):           4.95e-15\n",
            "Time:                        07:05:52   Log-Likelihood:                -2939.0\n",
            "No. Observations:                1000   AIC:                             5882.\n",
            "Df Residuals:                     998   BIC:                             5892.\n",
            "Df Model:                           1                                         \n",
            "Covariance Type:            nonrobust                                         \n",
            "==============================================================================\n",
            "                 coef    std err          t      P>|t|      [0.025      0.975]\n",
            "------------------------------------------------------------------------------\n",
            "const          0.0096      0.145      0.066      0.947      -0.275       0.294\n",
            "x              1.1271      0.142      7.952      0.000       0.849       1.405\n",
            "==============================================================================\n",
            "Omnibus:                        0.573   Durbin-Watson:                   2.058\n",
            "Prob(Omnibus):                  0.751   Jarque-Bera (JB):                0.583\n",
            "Skew:                          -0.058   Prob(JB):                        0.747\n",
            "Kurtosis:                       2.980   Cond. No.                         1.05\n",
            "==============================================================================\n",
            "\n",
            "Notes:\n",
            "[1] Standard Errors assume that the covariance matrix of the errors is correctly specified.\n"
          ]
        }
      ]
    },
    {
      "cell_type": "markdown",
      "source": [
        "Adjusted estimate."
      ],
      "metadata": {
        "id": "aE9ECpha1f-m"
      }
    },
    {
      "cell_type": "code",
      "source": [
        "model = sm.OLS(y, X2)\n",
        "fitted_model = model.fit()\n",
        "\n",
        "print(fitted_model.summary(xname=['const', 'x', 'z']))"
      ],
      "metadata": {
        "colab": {
          "base_uri": "https://localhost:8080/"
        },
        "outputId": "602b2e07-de80-4784-8eda-d772fcc4b148",
        "id": "0EeWxDDj1f-m"
      },
      "execution_count": 91,
      "outputs": [
        {
          "output_type": "stream",
          "name": "stdout",
          "text": [
            "                            OLS Regression Results                            \n",
            "==============================================================================\n",
            "Dep. Variable:                      y   R-squared:                       0.777\n",
            "Model:                            OLS   Adj. R-squared:                  0.776\n",
            "Method:                 Least Squares   F-statistic:                     1734.\n",
            "Date:                Mon, 01 Jan 2024   Prob (F-statistic):               0.00\n",
            "Time:                        07:05:58   Log-Likelihood:                -2220.0\n",
            "No. Observations:                1000   AIC:                             4446.\n",
            "Df Residuals:                     997   BIC:                             4461.\n",
            "Df Model:                           2                                         \n",
            "Covariance Type:            nonrobust                                         \n",
            "==============================================================================\n",
            "                 coef    std err          t      P>|t|      [0.025      0.975]\n",
            "------------------------------------------------------------------------------\n",
            "const          0.0699      0.071      0.990      0.323      -0.069       0.209\n",
            "x              1.0678      0.069     15.452      0.000       0.932       1.203\n",
            "z              3.9855      0.070     56.590      0.000       3.847       4.124\n",
            "==============================================================================\n",
            "Omnibus:                        0.388   Durbin-Watson:                   1.945\n",
            "Prob(Omnibus):                  0.824   Jarque-Bera (JB):                0.286\n",
            "Skew:                           0.025   Prob(JB):                        0.867\n",
            "Kurtosis:                       3.066   Cond. No.                         1.06\n",
            "==============================================================================\n",
            "\n",
            "Notes:\n",
            "[1] Standard Errors assume that the covariance matrix of the errors is correctly specified.\n"
          ]
        }
      ]
    },
    {
      "cell_type": "markdown",
      "source": [
        "**Scenario 4**"
      ],
      "metadata": {
        "id": "eoNuwWfg2F9i"
      }
    },
    {
      "cell_type": "code",
      "source": [
        "g = graphviz.Digraph()\n",
        "\n",
        "# Add nodes\n",
        "nodes = ['Z', 'X', 'Y']\n",
        "[g.node(n) for n in nodes]\n",
        "\n",
        "g.edges(['XY', 'XZ'])\n",
        "g"
      ],
      "metadata": {
        "colab": {
          "base_uri": "https://localhost:8080/",
          "height": 176
        },
        "outputId": "c72b3c22-4a44-4033-b5e1-873d2f9e1ccb",
        "id": "GvXCTHEv2F9s"
      },
      "execution_count": 92,
      "outputs": [
        {
          "output_type": "execute_result",
          "data": {
            "image/svg+xml": "<?xml version=\"1.0\" encoding=\"UTF-8\" standalone=\"no\"?>\n<!DOCTYPE svg PUBLIC \"-//W3C//DTD SVG 1.1//EN\"\n \"http://www.w3.org/Graphics/SVG/1.1/DTD/svg11.dtd\">\n<!-- Generated by graphviz version 2.43.0 (0)\n -->\n<!-- Title: %3 Pages: 1 -->\n<svg width=\"134pt\" height=\"116pt\"\n viewBox=\"0.00 0.00 134.00 116.00\" xmlns=\"http://www.w3.org/2000/svg\" xmlns:xlink=\"http://www.w3.org/1999/xlink\">\n<g id=\"graph0\" class=\"graph\" transform=\"scale(1 1) rotate(0) translate(4 112)\">\n<title>%3</title>\n<polygon fill=\"white\" stroke=\"transparent\" points=\"-4,4 -4,-112 130,-112 130,4 -4,4\"/>\n<!-- Z -->\n<g id=\"node1\" class=\"node\">\n<title>Z</title>\n<ellipse fill=\"none\" stroke=\"black\" cx=\"27\" cy=\"-18\" rx=\"27\" ry=\"18\"/>\n<text text-anchor=\"middle\" x=\"27\" y=\"-14.3\" font-family=\"Times,serif\" font-size=\"14.00\">Z</text>\n</g>\n<!-- X -->\n<g id=\"node2\" class=\"node\">\n<title>X</title>\n<ellipse fill=\"none\" stroke=\"black\" cx=\"63\" cy=\"-90\" rx=\"27\" ry=\"18\"/>\n<text text-anchor=\"middle\" x=\"63\" y=\"-86.3\" font-family=\"Times,serif\" font-size=\"14.00\">X</text>\n</g>\n<!-- X&#45;&gt;Z -->\n<g id=\"edge2\" class=\"edge\">\n<title>X&#45;&gt;Z</title>\n<path fill=\"none\" stroke=\"black\" d=\"M54.65,-72.76C50.29,-64.28 44.85,-53.71 39.96,-44.2\"/>\n<polygon fill=\"black\" stroke=\"black\" points=\"42.99,-42.44 35.3,-35.15 36.77,-45.64 42.99,-42.44\"/>\n</g>\n<!-- Y -->\n<g id=\"node3\" class=\"node\">\n<title>Y</title>\n<ellipse fill=\"none\" stroke=\"black\" cx=\"99\" cy=\"-18\" rx=\"27\" ry=\"18\"/>\n<text text-anchor=\"middle\" x=\"99\" y=\"-14.3\" font-family=\"Times,serif\" font-size=\"14.00\">Y</text>\n</g>\n<!-- X&#45;&gt;Y -->\n<g id=\"edge1\" class=\"edge\">\n<title>X&#45;&gt;Y</title>\n<path fill=\"none\" stroke=\"black\" d=\"M71.35,-72.76C75.71,-64.28 81.15,-53.71 86.04,-44.2\"/>\n<polygon fill=\"black\" stroke=\"black\" points=\"89.23,-45.64 90.7,-35.15 83.01,-42.44 89.23,-45.64\"/>\n</g>\n</g>\n</svg>\n",
            "text/plain": [
              "<graphviz.graphs.Digraph at 0x7cb77a52e050>"
            ]
          },
          "metadata": {},
          "execution_count": 92
        }
      ]
    },
    {
      "cell_type": "code",
      "source": [
        "N_SAMPLES = 1000\n",
        "\n",
        "x = np.random.randn(N_SAMPLES)\n",
        "z = 2*x + np.random.randn(N_SAMPLES)\n",
        "y = x + 2*np.random.randn(N_SAMPLES)\n",
        "\n",
        "X1 = sm.add_constant(np.stack([x]).T)\n",
        "X2 = sm.add_constant(np.stack([x, z]).T)"
      ],
      "metadata": {
        "id": "5waoMANx2F9s"
      },
      "execution_count": 93,
      "outputs": []
    },
    {
      "cell_type": "markdown",
      "source": [
        "Unadjusted estimate"
      ],
      "metadata": {
        "id": "i3i6HNta2F9t"
      }
    },
    {
      "cell_type": "code",
      "source": [
        "model = sm.OLS(y, X1)\n",
        "fitted_model = model.fit()\n",
        "\n",
        "print(fitted_model.summary(xname=['const', 'x']))"
      ],
      "metadata": {
        "colab": {
          "base_uri": "https://localhost:8080/"
        },
        "outputId": "da118e4c-98aa-4236-9fb9-57de35cd4de3",
        "id": "Wb6JFBf32F9t"
      },
      "execution_count": 94,
      "outputs": [
        {
          "output_type": "stream",
          "name": "stdout",
          "text": [
            "                            OLS Regression Results                            \n",
            "==============================================================================\n",
            "Dep. Variable:                      y   R-squared:                       0.233\n",
            "Model:                            OLS   Adj. R-squared:                  0.232\n",
            "Method:                 Least Squares   F-statistic:                     302.7\n",
            "Date:                Mon, 01 Jan 2024   Prob (F-statistic):           2.04e-59\n",
            "Time:                        07:07:18   Log-Likelihood:                -2110.6\n",
            "No. Observations:                1000   AIC:                             4225.\n",
            "Df Residuals:                     998   BIC:                             4235.\n",
            "Df Model:                           1                                         \n",
            "Covariance Type:            nonrobust                                         \n",
            "==============================================================================\n",
            "                 coef    std err          t      P>|t|      [0.025      0.975]\n",
            "------------------------------------------------------------------------------\n",
            "const          0.0703      0.063      1.112      0.266      -0.054       0.194\n",
            "x              1.0829      0.062     17.398      0.000       0.961       1.205\n",
            "==============================================================================\n",
            "Omnibus:                        2.796   Durbin-Watson:                   1.994\n",
            "Prob(Omnibus):                  0.247   Jarque-Bera (JB):                2.849\n",
            "Skew:                          -0.112   Prob(JB):                        0.241\n",
            "Kurtosis:                       2.864   Cond. No.                         1.03\n",
            "==============================================================================\n",
            "\n",
            "Notes:\n",
            "[1] Standard Errors assume that the covariance matrix of the errors is correctly specified.\n"
          ]
        }
      ]
    },
    {
      "cell_type": "markdown",
      "source": [
        "Adjusted estimate."
      ],
      "metadata": {
        "id": "ufciddLw2F9t"
      }
    },
    {
      "cell_type": "code",
      "source": [
        "model = sm.OLS(y, X2)\n",
        "fitted_model = model.fit()\n",
        "\n",
        "print(fitted_model.summary(xname=['const', 'x', 'z']))"
      ],
      "metadata": {
        "colab": {
          "base_uri": "https://localhost:8080/"
        },
        "outputId": "13c5cf99-9669-4112-a967-890ac864bb69",
        "id": "OkL4ioQz2F9u"
      },
      "execution_count": 95,
      "outputs": [
        {
          "output_type": "stream",
          "name": "stdout",
          "text": [
            "                            OLS Regression Results                            \n",
            "==============================================================================\n",
            "Dep. Variable:                      y   R-squared:                       0.233\n",
            "Model:                            OLS   Adj. R-squared:                  0.232\n",
            "Method:                 Least Squares   F-statistic:                     151.5\n",
            "Date:                Mon, 01 Jan 2024   Prob (F-statistic):           3.57e-58\n",
            "Time:                        07:07:22   Log-Likelihood:                -2110.4\n",
            "No. Observations:                1000   AIC:                             4227.\n",
            "Df Residuals:                     997   BIC:                             4242.\n",
            "Df Model:                           2                                         \n",
            "Covariance Type:            nonrobust                                         \n",
            "==============================================================================\n",
            "                 coef    std err          t      P>|t|      [0.025      0.975]\n",
            "------------------------------------------------------------------------------\n",
            "const          0.0710      0.063      1.122      0.262      -0.053       0.195\n",
            "x              1.1654      0.139      8.402      0.000       0.893       1.438\n",
            "z             -0.0418      0.063     -0.666      0.506      -0.165       0.081\n",
            "==============================================================================\n",
            "Omnibus:                        2.985   Durbin-Watson:                   1.993\n",
            "Prob(Omnibus):                  0.225   Jarque-Bera (JB):                3.027\n",
            "Skew:                          -0.114   Prob(JB):                        0.220\n",
            "Kurtosis:                       2.856   Cond. No.                         5.76\n",
            "==============================================================================\n",
            "\n",
            "Notes:\n",
            "[1] Standard Errors assume that the covariance matrix of the errors is correctly specified.\n"
          ]
        }
      ]
    },
    {
      "cell_type": "markdown",
      "source": [
        "**Scenario 5**"
      ],
      "metadata": {
        "id": "DZbEJ1hO2c4T"
      }
    },
    {
      "cell_type": "code",
      "source": [
        "g = graphviz.Digraph()\n",
        "\n",
        "# Add nodes\n",
        "nodes = ['W', 'U', 'Z', 'X', 'Y']\n",
        "[g.node(n) for n in nodes]\n",
        "\n",
        "g.edges(['XY', 'XZ', 'ZW', 'UW', 'UY'])\n",
        "g"
      ],
      "metadata": {
        "colab": {
          "base_uri": "https://localhost:8080/",
          "height": 272
        },
        "outputId": "d94ffc6e-e5ab-4bbf-81f0-0101dfddb810",
        "id": "lptdqYOv2c4i"
      },
      "execution_count": 96,
      "outputs": [
        {
          "output_type": "execute_result",
          "data": {
            "image/svg+xml": "<?xml version=\"1.0\" encoding=\"UTF-8\" standalone=\"no\"?>\n<!DOCTYPE svg PUBLIC \"-//W3C//DTD SVG 1.1//EN\"\n \"http://www.w3.org/Graphics/SVG/1.1/DTD/svg11.dtd\">\n<!-- Generated by graphviz version 2.43.0 (0)\n -->\n<!-- Title: %3 Pages: 1 -->\n<svg width=\"162pt\" height=\"188pt\"\n viewBox=\"0.00 0.00 162.00 188.00\" xmlns=\"http://www.w3.org/2000/svg\" xmlns:xlink=\"http://www.w3.org/1999/xlink\">\n<g id=\"graph0\" class=\"graph\" transform=\"scale(1 1) rotate(0) translate(4 184)\">\n<title>%3</title>\n<polygon fill=\"white\" stroke=\"transparent\" points=\"-4,4 -4,-184 158,-184 158,4 -4,4\"/>\n<!-- W -->\n<g id=\"node1\" class=\"node\">\n<title>W</title>\n<ellipse fill=\"none\" stroke=\"black\" cx=\"63\" cy=\"-18\" rx=\"27\" ry=\"18\"/>\n<text text-anchor=\"middle\" x=\"63\" y=\"-14.3\" font-family=\"Times,serif\" font-size=\"14.00\">W</text>\n</g>\n<!-- U -->\n<g id=\"node2\" class=\"node\">\n<title>U</title>\n<ellipse fill=\"none\" stroke=\"black\" cx=\"27\" cy=\"-162\" rx=\"27\" ry=\"18\"/>\n<text text-anchor=\"middle\" x=\"27\" y=\"-158.3\" font-family=\"Times,serif\" font-size=\"14.00\">U</text>\n</g>\n<!-- U&#45;&gt;W -->\n<g id=\"edge4\" class=\"edge\">\n<title>U&#45;&gt;W</title>\n<path fill=\"none\" stroke=\"black\" d=\"M21.39,-144.38C16.14,-126.09 10.31,-96.08 19,-72 23.27,-60.17 31.46,-49.11 39.63,-40.19\"/>\n<polygon fill=\"black\" stroke=\"black\" points=\"42.23,-42.54 46.7,-32.93 37.21,-37.65 42.23,-42.54\"/>\n</g>\n<!-- Y -->\n<g id=\"node5\" class=\"node\">\n<title>Y</title>\n<ellipse fill=\"none\" stroke=\"black\" cx=\"55\" cy=\"-90\" rx=\"27\" ry=\"18\"/>\n<text text-anchor=\"middle\" x=\"55\" y=\"-86.3\" font-family=\"Times,serif\" font-size=\"14.00\">Y</text>\n</g>\n<!-- U&#45;&gt;Y -->\n<g id=\"edge5\" class=\"edge\">\n<title>U&#45;&gt;Y</title>\n<path fill=\"none\" stroke=\"black\" d=\"M33.64,-144.41C36.91,-136.22 40.94,-126.14 44.62,-116.95\"/>\n<polygon fill=\"black\" stroke=\"black\" points=\"47.95,-118.05 48.41,-107.47 41.45,-115.45 47.95,-118.05\"/>\n</g>\n<!-- Z -->\n<g id=\"node3\" class=\"node\">\n<title>Z</title>\n<ellipse fill=\"none\" stroke=\"black\" cx=\"127\" cy=\"-90\" rx=\"27\" ry=\"18\"/>\n<text text-anchor=\"middle\" x=\"127\" y=\"-86.3\" font-family=\"Times,serif\" font-size=\"14.00\">Z</text>\n</g>\n<!-- Z&#45;&gt;W -->\n<g id=\"edge3\" class=\"edge\">\n<title>Z&#45;&gt;W</title>\n<path fill=\"none\" stroke=\"black\" d=\"M113.43,-74.15C104.69,-64.6 93.17,-51.99 83.34,-41.25\"/>\n<polygon fill=\"black\" stroke=\"black\" points=\"85.88,-38.84 76.55,-33.82 80.72,-43.57 85.88,-38.84\"/>\n</g>\n<!-- X -->\n<g id=\"node4\" class=\"node\">\n<title>X</title>\n<ellipse fill=\"none\" stroke=\"black\" cx=\"113\" cy=\"-162\" rx=\"27\" ry=\"18\"/>\n<text text-anchor=\"middle\" x=\"113\" y=\"-158.3\" font-family=\"Times,serif\" font-size=\"14.00\">X</text>\n</g>\n<!-- X&#45;&gt;Z -->\n<g id=\"edge2\" class=\"edge\">\n<title>X&#45;&gt;Z</title>\n<path fill=\"none\" stroke=\"black\" d=\"M116.39,-144.05C117.93,-136.35 119.79,-127.03 121.53,-118.36\"/>\n<polygon fill=\"black\" stroke=\"black\" points=\"125.02,-118.77 123.54,-108.28 118.15,-117.39 125.02,-118.77\"/>\n</g>\n<!-- X&#45;&gt;Y -->\n<g id=\"edge1\" class=\"edge\">\n<title>X&#45;&gt;Y</title>\n<path fill=\"none\" stroke=\"black\" d=\"M100.41,-145.81C92.74,-136.55 82.77,-124.52 74.14,-114.09\"/>\n<polygon fill=\"black\" stroke=\"black\" points=\"76.64,-111.63 67.56,-106.16 71.25,-116.09 76.64,-111.63\"/>\n</g>\n</g>\n</svg>\n",
            "text/plain": [
              "<graphviz.graphs.Digraph at 0x7cb77a255b10>"
            ]
          },
          "metadata": {},
          "execution_count": 96
        }
      ]
    },
    {
      "cell_type": "code",
      "source": [
        "N_SAMPLES = 1000\n",
        "\n",
        "x = np.random.randn(N_SAMPLES)\n",
        "u = np.random.randn(N_SAMPLES)\n",
        "z = x + np.random.randn(N_SAMPLES)\n",
        "w = z + u + np.random.randn(N_SAMPLES)\n",
        "y = x - 2*u + np.random.randn(N_SAMPLES)\n",
        "\n",
        "X1 = sm.add_constant(np.stack([x, w]).T)\n",
        "X2 = sm.add_constant(np.stack([x, z, w]).T)"
      ],
      "metadata": {
        "id": "2koY7xCe2c4j"
      },
      "execution_count": 97,
      "outputs": []
    },
    {
      "cell_type": "markdown",
      "source": [
        "Unadjusted estimate"
      ],
      "metadata": {
        "id": "MR7Agt852c4j"
      }
    },
    {
      "cell_type": "code",
      "source": [
        "model = sm.OLS(y, X1)\n",
        "fitted_model = model.fit()\n",
        "\n",
        "print(fitted_model.summary(xname=['const', 'x', 'w']))"
      ],
      "metadata": {
        "colab": {
          "base_uri": "https://localhost:8080/"
        },
        "outputId": "334c39ed-b779-4451-9724-7c86581dc4cd",
        "id": "up8HI8ZX2c4j"
      },
      "execution_count": 99,
      "outputs": [
        {
          "output_type": "stream",
          "name": "stdout",
          "text": [
            "                            OLS Regression Results                            \n",
            "==============================================================================\n",
            "Dep. Variable:                      y   R-squared:                       0.383\n",
            "Model:                            OLS   Adj. R-squared:                  0.382\n",
            "Method:                 Least Squares   F-statistic:                     309.8\n",
            "Date:                Mon, 01 Jan 2024   Prob (F-statistic):          2.33e-105\n",
            "Time:                        07:11:23   Log-Likelihood:                -2057.7\n",
            "No. Observations:                1000   AIC:                             4121.\n",
            "Df Residuals:                     997   BIC:                             4136.\n",
            "Df Model:                           2                                         \n",
            "Covariance Type:            nonrobust                                         \n",
            "==============================================================================\n",
            "                 coef    std err          t      P>|t|      [0.025      0.975]\n",
            "------------------------------------------------------------------------------\n",
            "const         -0.0529      0.060     -0.881      0.379      -0.171       0.065\n",
            "x              1.6210      0.071     22.981      0.000       1.483       1.759\n",
            "w             -0.7427      0.037    -19.968      0.000      -0.816      -0.670\n",
            "==============================================================================\n",
            "Omnibus:                        1.837   Durbin-Watson:                   1.846\n",
            "Prob(Omnibus):                  0.399   Jarque-Bera (JB):                1.724\n",
            "Skew:                          -0.062   Prob(JB):                        0.422\n",
            "Kurtosis:                       3.161   Cond. No.                         2.41\n",
            "==============================================================================\n",
            "\n",
            "Notes:\n",
            "[1] Standard Errors assume that the covariance matrix of the errors is correctly specified.\n"
          ]
        }
      ]
    },
    {
      "cell_type": "markdown",
      "source": [
        "Adjusted estimate."
      ],
      "metadata": {
        "id": "I7sVffls2c4j"
      }
    },
    {
      "cell_type": "code",
      "source": [
        "model = sm.OLS(y, X2)\n",
        "fitted_model = model.fit()\n",
        "\n",
        "print(fitted_model.summary(xname=['const', 'x', 'z', 'w']))"
      ],
      "metadata": {
        "colab": {
          "base_uri": "https://localhost:8080/"
        },
        "outputId": "fe120f4f-0a37-4d23-c1a6-f388b6273d0a",
        "id": "SfC8EFxI2c4k"
      },
      "execution_count": 100,
      "outputs": [
        {
          "output_type": "stream",
          "name": "stdout",
          "text": [
            "                            OLS Regression Results                            \n",
            "==============================================================================\n",
            "Dep. Variable:                      y   R-squared:                       0.488\n",
            "Model:                            OLS   Adj. R-squared:                  0.486\n",
            "Method:                 Least Squares   F-statistic:                     316.2\n",
            "Date:                Mon, 01 Jan 2024   Prob (F-statistic):          3.44e-144\n",
            "Time:                        07:11:39   Log-Likelihood:                -1964.8\n",
            "No. Observations:                1000   AIC:                             3938.\n",
            "Df Residuals:                     996   BIC:                             3957.\n",
            "Df Model:                           3                                         \n",
            "Covariance Type:            nonrobust                                         \n",
            "==============================================================================\n",
            "                 coef    std err          t      P>|t|      [0.025      0.975]\n",
            "------------------------------------------------------------------------------\n",
            "const         -0.0367      0.055     -0.670      0.503      -0.144       0.071\n",
            "x              0.9456      0.080     11.838      0.000       0.789       1.102\n",
            "z              0.9607      0.067     14.260      0.000       0.829       1.093\n",
            "w             -1.0387      0.040    -26.124      0.000      -1.117      -0.961\n",
            "==============================================================================\n",
            "Omnibus:                        1.856   Durbin-Watson:                   1.910\n",
            "Prob(Omnibus):                  0.395   Jarque-Bera (JB):                1.783\n",
            "Skew:                          -0.047   Prob(JB):                        0.410\n",
            "Kurtosis:                       3.184   Cond. No.                         3.88\n",
            "==============================================================================\n",
            "\n",
            "Notes:\n",
            "[1] Standard Errors assume that the covariance matrix of the errors is correctly specified.\n"
          ]
        }
      ]
    },
    {
      "cell_type": "markdown",
      "source": [
        "## Bad control scenarios for $Z$"
      ],
      "metadata": {
        "id": "sxyliW7z3cH6"
      }
    },
    {
      "cell_type": "markdown",
      "source": [
        "**Scenario 1: M-Bias**"
      ],
      "metadata": {
        "id": "b6-GbXS63679"
      }
    },
    {
      "cell_type": "code",
      "source": [
        "g = graphviz.Digraph()\n",
        "\n",
        "# Add nodes\n",
        "nodes = ['U', 'V', 'Z', 'X', 'Y']\n",
        "[g.node(n) for n in nodes]\n",
        "\n",
        "g.edges(['XY', 'UX', 'UZ', 'VZ', 'VY'])\n",
        "g"
      ],
      "metadata": {
        "colab": {
          "base_uri": "https://localhost:8080/",
          "height": 272
        },
        "id": "vSsyFsikrzLv",
        "outputId": "2c8f99a7-6a5b-4cc1-9ca6-b6afeb0a303d"
      },
      "execution_count": 103,
      "outputs": [
        {
          "output_type": "execute_result",
          "data": {
            "image/svg+xml": "<?xml version=\"1.0\" encoding=\"UTF-8\" standalone=\"no\"?>\n<!DOCTYPE svg PUBLIC \"-//W3C//DTD SVG 1.1//EN\"\n \"http://www.w3.org/Graphics/SVG/1.1/DTD/svg11.dtd\">\n<!-- Generated by graphviz version 2.43.0 (0)\n -->\n<!-- Title: %3 Pages: 1 -->\n<svg width=\"175pt\" height=\"188pt\"\n viewBox=\"0.00 0.00 175.00 188.00\" xmlns=\"http://www.w3.org/2000/svg\" xmlns:xlink=\"http://www.w3.org/1999/xlink\">\n<g id=\"graph0\" class=\"graph\" transform=\"scale(1 1) rotate(0) translate(4 184)\">\n<title>%3</title>\n<polygon fill=\"white\" stroke=\"transparent\" points=\"-4,4 -4,-184 171,-184 171,4 -4,4\"/>\n<!-- U -->\n<g id=\"node1\" class=\"node\">\n<title>U</title>\n<ellipse fill=\"none\" stroke=\"black\" cx=\"54\" cy=\"-162\" rx=\"27\" ry=\"18\"/>\n<text text-anchor=\"middle\" x=\"54\" y=\"-158.3\" font-family=\"Times,serif\" font-size=\"14.00\">U</text>\n</g>\n<!-- Z -->\n<g id=\"node3\" class=\"node\">\n<title>Z</title>\n<ellipse fill=\"none\" stroke=\"black\" cx=\"99\" cy=\"-90\" rx=\"27\" ry=\"18\"/>\n<text text-anchor=\"middle\" x=\"99\" y=\"-86.3\" font-family=\"Times,serif\" font-size=\"14.00\">Z</text>\n</g>\n<!-- U&#45;&gt;Z -->\n<g id=\"edge3\" class=\"edge\">\n<title>U&#45;&gt;Z</title>\n<path fill=\"none\" stroke=\"black\" d=\"M64.21,-145.12C69.85,-136.34 76.97,-125.26 83.3,-115.42\"/>\n<polygon fill=\"black\" stroke=\"black\" points=\"86.37,-117.13 88.83,-106.82 80.48,-113.34 86.37,-117.13\"/>\n</g>\n<!-- X -->\n<g id=\"node4\" class=\"node\">\n<title>X</title>\n<ellipse fill=\"none\" stroke=\"black\" cx=\"27\" cy=\"-90\" rx=\"27\" ry=\"18\"/>\n<text text-anchor=\"middle\" x=\"27\" y=\"-86.3\" font-family=\"Times,serif\" font-size=\"14.00\">X</text>\n</g>\n<!-- U&#45;&gt;X -->\n<g id=\"edge2\" class=\"edge\">\n<title>U&#45;&gt;X</title>\n<path fill=\"none\" stroke=\"black\" d=\"M47.6,-144.41C44.49,-136.34 40.67,-126.43 37.17,-117.35\"/>\n<polygon fill=\"black\" stroke=\"black\" points=\"40.4,-116.03 33.54,-107.96 33.87,-118.55 40.4,-116.03\"/>\n</g>\n<!-- V -->\n<g id=\"node2\" class=\"node\">\n<title>V</title>\n<ellipse fill=\"none\" stroke=\"black\" cx=\"140\" cy=\"-162\" rx=\"27\" ry=\"18\"/>\n<text text-anchor=\"middle\" x=\"140\" y=\"-158.3\" font-family=\"Times,serif\" font-size=\"14.00\">V</text>\n</g>\n<!-- V&#45;&gt;Z -->\n<g id=\"edge4\" class=\"edge\">\n<title>V&#45;&gt;Z</title>\n<path fill=\"none\" stroke=\"black\" d=\"M130.49,-144.76C125.47,-136.19 119.2,-125.49 113.58,-115.9\"/>\n<polygon fill=\"black\" stroke=\"black\" points=\"116.53,-114.01 108.46,-107.15 110.49,-117.55 116.53,-114.01\"/>\n</g>\n<!-- Y -->\n<g id=\"node5\" class=\"node\">\n<title>Y</title>\n<ellipse fill=\"none\" stroke=\"black\" cx=\"90\" cy=\"-18\" rx=\"27\" ry=\"18\"/>\n<text text-anchor=\"middle\" x=\"90\" y=\"-14.3\" font-family=\"Times,serif\" font-size=\"14.00\">Y</text>\n</g>\n<!-- V&#45;&gt;Y -->\n<g id=\"edge5\" class=\"edge\">\n<title>V&#45;&gt;Y</title>\n<path fill=\"none\" stroke=\"black\" d=\"M142.17,-143.91C143.82,-125.47 144.41,-95.57 135,-72 130.22,-60.04 121.6,-48.83 113.18,-39.84\"/>\n<polygon fill=\"black\" stroke=\"black\" points=\"115.46,-37.17 105.93,-32.54 110.49,-42.1 115.46,-37.17\"/>\n</g>\n<!-- X&#45;&gt;Y -->\n<g id=\"edge1\" class=\"edge\">\n<title>X&#45;&gt;Y</title>\n<path fill=\"none\" stroke=\"black\" d=\"M40.36,-74.15C48.88,-64.69 60.09,-52.24 69.69,-41.56\"/>\n<polygon fill=\"black\" stroke=\"black\" points=\"72.57,-43.6 76.66,-33.82 67.37,-38.92 72.57,-43.6\"/>\n</g>\n</g>\n</svg>\n",
            "text/plain": [
              "<graphviz.graphs.Digraph at 0x7cb77abeb490>"
            ]
          },
          "metadata": {},
          "execution_count": 103
        }
      ]
    },
    {
      "cell_type": "code",
      "source": [
        "N_SAMPLES = 1000\n",
        "\n",
        "u = np.random.randn(N_SAMPLES)\n",
        "v = np.random.randn(N_SAMPLES)\n",
        "z = x + np.random.randn(N_SAMPLES)\n",
        "z = u + v + np.random.randn(N_SAMPLES)\n",
        "x = u + np.random.randn(N_SAMPLES)\n",
        "y = x - 4*v + np.random.randn(N_SAMPLES)\n",
        "\n",
        "X1 = sm.add_constant(np.stack([x]).T)\n",
        "X2 = sm.add_constant(np.stack([x, z]).T)"
      ],
      "metadata": {
        "id": "MqSTUyIl3p1A"
      },
      "execution_count": 104,
      "outputs": []
    },
    {
      "cell_type": "markdown",
      "source": [
        "Unadjusted estimate"
      ],
      "metadata": {
        "id": "fSw-3l3i4SmK"
      }
    },
    {
      "cell_type": "code",
      "source": [
        "model = sm.OLS(y, X1)\n",
        "fitted_model = model.fit()\n",
        "\n",
        "print(fitted_model.summary(xname=['const', 'x']))"
      ],
      "metadata": {
        "colab": {
          "base_uri": "https://localhost:8080/"
        },
        "outputId": "8ce64881-1e2c-408b-e1b9-baf584327e55",
        "id": "yNHMsLKO4SmU"
      },
      "execution_count": 107,
      "outputs": [
        {
          "output_type": "stream",
          "name": "stdout",
          "text": [
            "                            OLS Regression Results                            \n",
            "==============================================================================\n",
            "Dep. Variable:                      y   R-squared:                       0.100\n",
            "Model:                            OLS   Adj. R-squared:                  0.099\n",
            "Method:                 Least Squares   F-statistic:                     110.4\n",
            "Date:                Mon, 01 Jan 2024   Prob (F-statistic):           1.48e-24\n",
            "Time:                        07:16:13   Log-Likelihood:                -2810.9\n",
            "No. Observations:                1000   AIC:                             5626.\n",
            "Df Residuals:                     998   BIC:                             5636.\n",
            "Df Model:                           1                                         \n",
            "Covariance Type:            nonrobust                                         \n",
            "==============================================================================\n",
            "                 coef    std err          t      P>|t|      [0.025      0.975]\n",
            "------------------------------------------------------------------------------\n",
            "const          0.2087      0.127      1.639      0.102      -0.041       0.459\n",
            "x              0.9299      0.089     10.505      0.000       0.756       1.104\n",
            "==============================================================================\n",
            "Omnibus:                        0.651   Durbin-Watson:                   1.968\n",
            "Prob(Omnibus):                  0.722   Jarque-Bera (JB):                0.522\n",
            "Skew:                           0.012   Prob(JB):                        0.770\n",
            "Kurtosis:                       3.109   Cond. No.                         1.44\n",
            "==============================================================================\n",
            "\n",
            "Notes:\n",
            "[1] Standard Errors assume that the covariance matrix of the errors is correctly specified.\n"
          ]
        }
      ]
    },
    {
      "cell_type": "markdown",
      "source": [
        "Adjusted estimate."
      ],
      "metadata": {
        "id": "Nh7a4ivA4SmV"
      }
    },
    {
      "cell_type": "code",
      "source": [
        "model = sm.OLS(y, X2)\n",
        "fitted_model = model.fit()\n",
        "\n",
        "print(fitted_model.summary(xname=['const', 'x', 'z']))"
      ],
      "metadata": {
        "colab": {
          "base_uri": "https://localhost:8080/"
        },
        "outputId": "419a63c0-23cb-4977-d79c-877d9605e516",
        "id": "5nEoXk1b4SmV"
      },
      "execution_count": 108,
      "outputs": [
        {
          "output_type": "stream",
          "name": "stdout",
          "text": [
            "                            OLS Regression Results                            \n",
            "==============================================================================\n",
            "Dep. Variable:                      y   R-squared:                       0.435\n",
            "Model:                            OLS   Adj. R-squared:                  0.434\n",
            "Method:                 Least Squares   F-statistic:                     384.1\n",
            "Date:                Mon, 01 Jan 2024   Prob (F-statistic):          2.14e-124\n",
            "Time:                        07:16:19   Log-Likelihood:                -2577.7\n",
            "No. Observations:                1000   AIC:                             5161.\n",
            "Df Residuals:                     997   BIC:                             5176.\n",
            "Df Model:                           2                                         \n",
            "Covariance Type:            nonrobust                                         \n",
            "==============================================================================\n",
            "                 coef    std err          t      P>|t|      [0.025      0.975]\n",
            "------------------------------------------------------------------------------\n",
            "const          0.0969      0.101      0.959      0.338      -0.101       0.295\n",
            "x              1.7539      0.078     22.518      0.000       1.601       1.907\n",
            "z             -1.5914      0.065    -24.339      0.000      -1.720      -1.463\n",
            "==============================================================================\n",
            "Omnibus:                        0.017   Durbin-Watson:                   1.931\n",
            "Prob(Omnibus):                  0.991   Jarque-Bera (JB):                0.016\n",
            "Skew:                           0.009   Prob(JB):                        0.992\n",
            "Kurtosis:                       2.992   Cond. No.                         1.92\n",
            "==============================================================================\n",
            "\n",
            "Notes:\n",
            "[1] Standard Errors assume that the covariance matrix of the errors is correctly specified.\n"
          ]
        }
      ]
    },
    {
      "cell_type": "markdown",
      "source": [
        "**Scenario 2: Bias amplification**"
      ],
      "metadata": {
        "id": "tN0IUXGV4jfY"
      }
    },
    {
      "cell_type": "code",
      "source": [
        "g = graphviz.Digraph()\n",
        "\n",
        "# Add nodes\n",
        "nodes = ['U', 'Z', 'X', 'Y']\n",
        "[g.node(n) for n in nodes]\n",
        "\n",
        "g.edges(['XY', 'UX', 'UY', 'ZX'])\n",
        "g"
      ],
      "metadata": {
        "colab": {
          "base_uri": "https://localhost:8080/",
          "height": 272
        },
        "outputId": "40e9a91b-b6ae-490b-b4e7-b453da41533c",
        "id": "mqry0GUo4jfk"
      },
      "execution_count": 109,
      "outputs": [
        {
          "output_type": "execute_result",
          "data": {
            "image/svg+xml": "<?xml version=\"1.0\" encoding=\"UTF-8\" standalone=\"no\"?>\n<!DOCTYPE svg PUBLIC \"-//W3C//DTD SVG 1.1//EN\"\n \"http://www.w3.org/Graphics/SVG/1.1/DTD/svg11.dtd\">\n<!-- Generated by graphviz version 2.43.0 (0)\n -->\n<!-- Title: %3 Pages: 1 -->\n<svg width=\"134pt\" height=\"188pt\"\n viewBox=\"0.00 0.00 134.00 188.00\" xmlns=\"http://www.w3.org/2000/svg\" xmlns:xlink=\"http://www.w3.org/1999/xlink\">\n<g id=\"graph0\" class=\"graph\" transform=\"scale(1 1) rotate(0) translate(4 184)\">\n<title>%3</title>\n<polygon fill=\"white\" stroke=\"transparent\" points=\"-4,4 -4,-184 130,-184 130,4 -4,4\"/>\n<!-- U -->\n<g id=\"node1\" class=\"node\">\n<title>U</title>\n<ellipse fill=\"none\" stroke=\"black\" cx=\"99\" cy=\"-162\" rx=\"27\" ry=\"18\"/>\n<text text-anchor=\"middle\" x=\"99\" y=\"-158.3\" font-family=\"Times,serif\" font-size=\"14.00\">U</text>\n</g>\n<!-- X -->\n<g id=\"node3\" class=\"node\">\n<title>X</title>\n<ellipse fill=\"none\" stroke=\"black\" cx=\"44\" cy=\"-90\" rx=\"27\" ry=\"18\"/>\n<text text-anchor=\"middle\" x=\"44\" y=\"-86.3\" font-family=\"Times,serif\" font-size=\"14.00\">X</text>\n</g>\n<!-- U&#45;&gt;X -->\n<g id=\"edge2\" class=\"edge\">\n<title>U&#45;&gt;X</title>\n<path fill=\"none\" stroke=\"black\" d=\"M87.07,-145.81C79.79,-136.55 70.34,-124.52 62.15,-114.09\"/>\n<polygon fill=\"black\" stroke=\"black\" points=\"64.84,-111.86 55.91,-106.16 59.34,-116.18 64.84,-111.86\"/>\n</g>\n<!-- Y -->\n<g id=\"node4\" class=\"node\">\n<title>Y</title>\n<ellipse fill=\"none\" stroke=\"black\" cx=\"71\" cy=\"-18\" rx=\"27\" ry=\"18\"/>\n<text text-anchor=\"middle\" x=\"71\" y=\"-14.3\" font-family=\"Times,serif\" font-size=\"14.00\">Y</text>\n</g>\n<!-- U&#45;&gt;Y -->\n<g id=\"edge3\" class=\"edge\">\n<title>U&#45;&gt;Y</title>\n<path fill=\"none\" stroke=\"black\" d=\"M95.62,-143.87C90.83,-119.56 82.01,-74.82 76.33,-46.01\"/>\n<polygon fill=\"black\" stroke=\"black\" points=\"79.76,-45.32 74.39,-36.19 72.89,-46.68 79.76,-45.32\"/>\n</g>\n<!-- Z -->\n<g id=\"node2\" class=\"node\">\n<title>Z</title>\n<ellipse fill=\"none\" stroke=\"black\" cx=\"27\" cy=\"-162\" rx=\"27\" ry=\"18\"/>\n<text text-anchor=\"middle\" x=\"27\" y=\"-158.3\" font-family=\"Times,serif\" font-size=\"14.00\">Z</text>\n</g>\n<!-- Z&#45;&gt;X -->\n<g id=\"edge4\" class=\"edge\">\n<title>Z&#45;&gt;X</title>\n<path fill=\"none\" stroke=\"black\" d=\"M31.12,-144.05C33.01,-136.26 35.3,-126.82 37.42,-118.08\"/>\n<polygon fill=\"black\" stroke=\"black\" points=\"40.85,-118.82 39.8,-108.28 34.04,-117.17 40.85,-118.82\"/>\n</g>\n<!-- X&#45;&gt;Y -->\n<g id=\"edge1\" class=\"edge\">\n<title>X&#45;&gt;Y</title>\n<path fill=\"none\" stroke=\"black\" d=\"M50.4,-72.41C53.51,-64.34 57.33,-54.43 60.83,-45.35\"/>\n<polygon fill=\"black\" stroke=\"black\" points=\"64.13,-46.55 64.46,-35.96 57.6,-44.03 64.13,-46.55\"/>\n</g>\n</g>\n</svg>\n",
            "text/plain": [
              "<graphviz.graphs.Digraph at 0x7cb77ab6c940>"
            ]
          },
          "metadata": {},
          "execution_count": 109
        }
      ]
    },
    {
      "cell_type": "code",
      "source": [
        "N_SAMPLES = 1000\n",
        "\n",
        "u = np.random.randn(N_SAMPLES)\n",
        "z = np.random.randn(N_SAMPLES)\n",
        "x = 2*z + u + np.random.randn(N_SAMPLES)\n",
        "y = x + 2*u + np.random.randn(N_SAMPLES)\n",
        "\n",
        "X1 = sm.add_constant(np.stack([x]).T)\n",
        "X2 = sm.add_constant(np.stack([x, z]).T)"
      ],
      "metadata": {
        "id": "wLV89ejE4jfk"
      },
      "execution_count": 110,
      "outputs": []
    },
    {
      "cell_type": "markdown",
      "source": [
        "Unadjusted estimate"
      ],
      "metadata": {
        "id": "jg5OtsKO4jfk"
      }
    },
    {
      "cell_type": "code",
      "source": [
        "model = sm.OLS(y, X1)\n",
        "fitted_model = model.fit()\n",
        "\n",
        "print(fitted_model.summary(xname=['const', 'x']))"
      ],
      "metadata": {
        "colab": {
          "base_uri": "https://localhost:8080/"
        },
        "outputId": "93bb02ac-2660-45b7-cf9f-6fbb8588f3a5",
        "id": "rSEkv8Nu4jfk"
      },
      "execution_count": 111,
      "outputs": [
        {
          "output_type": "stream",
          "name": "stdout",
          "text": [
            "                            OLS Regression Results                            \n",
            "==============================================================================\n",
            "Dep. Variable:                      y   R-squared:                       0.702\n",
            "Model:                            OLS   Adj. R-squared:                  0.701\n",
            "Method:                 Least Squares   F-statistic:                     2347.\n",
            "Date:                Mon, 01 Jan 2024   Prob (F-statistic):          2.29e-264\n",
            "Time:                        07:18:41   Log-Likelihood:                -2173.7\n",
            "No. Observations:                1000   AIC:                             4351.\n",
            "Df Residuals:                     998   BIC:                             4361.\n",
            "Df Model:                           1                                         \n",
            "Covariance Type:            nonrobust                                         \n",
            "==============================================================================\n",
            "                 coef    std err          t      P>|t|      [0.025      0.975]\n",
            "------------------------------------------------------------------------------\n",
            "const          0.0697      0.067      1.034      0.301      -0.062       0.202\n",
            "x              1.3198      0.027     48.448      0.000       1.266       1.373\n",
            "==============================================================================\n",
            "Omnibus:                        3.734   Durbin-Watson:                   1.990\n",
            "Prob(Omnibus):                  0.155   Jarque-Bera (JB):                3.565\n",
            "Skew:                           0.103   Prob(JB):                        0.168\n",
            "Kurtosis:                       2.792   Cond. No.                         2.47\n",
            "==============================================================================\n",
            "\n",
            "Notes:\n",
            "[1] Standard Errors assume that the covariance matrix of the errors is correctly specified.\n"
          ]
        }
      ]
    },
    {
      "cell_type": "markdown",
      "source": [
        "Adjusted estimate."
      ],
      "metadata": {
        "id": "iSFouvuR4jfl"
      }
    },
    {
      "cell_type": "code",
      "source": [
        "model = sm.OLS(y, X2)\n",
        "fitted_model = model.fit()\n",
        "\n",
        "print(fitted_model.summary(xname=['const', 'x', 'z']))"
      ],
      "metadata": {
        "colab": {
          "base_uri": "https://localhost:8080/"
        },
        "outputId": "fe773a0d-e007-455b-907f-73b56f1d5c06",
        "id": "04butz-K4jfl"
      },
      "execution_count": 112,
      "outputs": [
        {
          "output_type": "stream",
          "name": "stdout",
          "text": [
            "                            OLS Regression Results                            \n",
            "==============================================================================\n",
            "Dep. Variable:                      y   R-squared:                       0.800\n",
            "Model:                            OLS   Adj. R-squared:                  0.799\n",
            "Method:                 Least Squares   F-statistic:                     1988.\n",
            "Date:                Mon, 01 Jan 2024   Prob (F-statistic):               0.00\n",
            "Time:                        07:18:45   Log-Likelihood:                -1974.9\n",
            "No. Observations:                1000   AIC:                             3956.\n",
            "Df Residuals:                     997   BIC:                             3970.\n",
            "Df Model:                           2                                         \n",
            "Covariance Type:            nonrobust                                         \n",
            "==============================================================================\n",
            "                 coef    std err          t      P>|t|      [0.025      0.975]\n",
            "------------------------------------------------------------------------------\n",
            "const          0.0524      0.055      0.948      0.343      -0.056       0.161\n",
            "x              1.9891      0.038     52.797      0.000       1.915       2.063\n",
            "z             -2.0212      0.092    -22.064      0.000      -2.201      -1.841\n",
            "==============================================================================\n",
            "Omnibus:                        1.295   Durbin-Watson:                   2.026\n",
            "Prob(Omnibus):                  0.523   Jarque-Bera (JB):                1.372\n",
            "Skew:                          -0.070   Prob(JB):                        0.503\n",
            "Kurtosis:                       2.885   Cond. No.                         4.58\n",
            "==============================================================================\n",
            "\n",
            "Notes:\n",
            "[1] Standard Errors assume that the covariance matrix of the errors is correctly specified.\n"
          ]
        }
      ]
    },
    {
      "cell_type": "markdown",
      "source": [
        "**Scenario 3: Overcontrol bias**"
      ],
      "metadata": {
        "id": "LioVwR1B49xa"
      }
    },
    {
      "cell_type": "code",
      "source": [
        "g = graphviz.Digraph()\n",
        "\n",
        "# Add nodes\n",
        "nodes = ['Z', 'X', 'Y']\n",
        "[g.node(n) for n in nodes]\n",
        "\n",
        "g.edges(['XZ', 'ZY'])\n",
        "g"
      ],
      "metadata": {
        "colab": {
          "base_uri": "https://localhost:8080/",
          "height": 272
        },
        "outputId": "f2648451-74a3-40e5-f466-e5ba8c65d8f5",
        "id": "YIgEBAao49xl"
      },
      "execution_count": 114,
      "outputs": [
        {
          "output_type": "execute_result",
          "data": {
            "image/svg+xml": "<?xml version=\"1.0\" encoding=\"UTF-8\" standalone=\"no\"?>\n<!DOCTYPE svg PUBLIC \"-//W3C//DTD SVG 1.1//EN\"\n \"http://www.w3.org/Graphics/SVG/1.1/DTD/svg11.dtd\">\n<!-- Generated by graphviz version 2.43.0 (0)\n -->\n<!-- Title: %3 Pages: 1 -->\n<svg width=\"62pt\" height=\"188pt\"\n viewBox=\"0.00 0.00 62.00 188.00\" xmlns=\"http://www.w3.org/2000/svg\" xmlns:xlink=\"http://www.w3.org/1999/xlink\">\n<g id=\"graph0\" class=\"graph\" transform=\"scale(1 1) rotate(0) translate(4 184)\">\n<title>%3</title>\n<polygon fill=\"white\" stroke=\"transparent\" points=\"-4,4 -4,-184 58,-184 58,4 -4,4\"/>\n<!-- Z -->\n<g id=\"node1\" class=\"node\">\n<title>Z</title>\n<ellipse fill=\"none\" stroke=\"black\" cx=\"27\" cy=\"-90\" rx=\"27\" ry=\"18\"/>\n<text text-anchor=\"middle\" x=\"27\" y=\"-86.3\" font-family=\"Times,serif\" font-size=\"14.00\">Z</text>\n</g>\n<!-- Y -->\n<g id=\"node3\" class=\"node\">\n<title>Y</title>\n<ellipse fill=\"none\" stroke=\"black\" cx=\"27\" cy=\"-18\" rx=\"27\" ry=\"18\"/>\n<text text-anchor=\"middle\" x=\"27\" y=\"-14.3\" font-family=\"Times,serif\" font-size=\"14.00\">Y</text>\n</g>\n<!-- Z&#45;&gt;Y -->\n<g id=\"edge2\" class=\"edge\">\n<title>Z&#45;&gt;Y</title>\n<path fill=\"none\" stroke=\"black\" d=\"M27,-71.7C27,-63.98 27,-54.71 27,-46.11\"/>\n<polygon fill=\"black\" stroke=\"black\" points=\"30.5,-46.1 27,-36.1 23.5,-46.1 30.5,-46.1\"/>\n</g>\n<!-- X -->\n<g id=\"node2\" class=\"node\">\n<title>X</title>\n<ellipse fill=\"none\" stroke=\"black\" cx=\"27\" cy=\"-162\" rx=\"27\" ry=\"18\"/>\n<text text-anchor=\"middle\" x=\"27\" y=\"-158.3\" font-family=\"Times,serif\" font-size=\"14.00\">X</text>\n</g>\n<!-- X&#45;&gt;Z -->\n<g id=\"edge1\" class=\"edge\">\n<title>X&#45;&gt;Z</title>\n<path fill=\"none\" stroke=\"black\" d=\"M27,-143.7C27,-135.98 27,-126.71 27,-118.11\"/>\n<polygon fill=\"black\" stroke=\"black\" points=\"30.5,-118.1 27,-108.1 23.5,-118.1 30.5,-118.1\"/>\n</g>\n</g>\n</svg>\n",
            "text/plain": [
              "<graphviz.graphs.Digraph at 0x7cb77ab6cb20>"
            ]
          },
          "metadata": {},
          "execution_count": 114
        }
      ]
    },
    {
      "cell_type": "code",
      "source": [
        "N_SAMPLES = 1000\n",
        "\n",
        "x = np.random.randn(N_SAMPLES)\n",
        "z = x + np.random.randn(N_SAMPLES)\n",
        "y = z + np.random.randn(N_SAMPLES)\n",
        "\n",
        "X1 = sm.add_constant(np.stack([x]).T)\n",
        "X2 = sm.add_constant(np.stack([x, z]).T)"
      ],
      "metadata": {
        "id": "pYtaI7yH49xm"
      },
      "execution_count": 115,
      "outputs": []
    },
    {
      "cell_type": "markdown",
      "source": [
        "Unadjusted estimate"
      ],
      "metadata": {
        "id": "TMkxwFlM49xm"
      }
    },
    {
      "cell_type": "code",
      "source": [
        "model = sm.OLS(y, X1)\n",
        "fitted_model = model.fit()\n",
        "\n",
        "print(fitted_model.summary(xname=['const', 'x']))"
      ],
      "metadata": {
        "colab": {
          "base_uri": "https://localhost:8080/"
        },
        "outputId": "c96f2dc3-5ceb-4d5b-ce21-81233bc55365",
        "id": "_kUPSRF349xm"
      },
      "execution_count": 116,
      "outputs": [
        {
          "output_type": "stream",
          "name": "stdout",
          "text": [
            "                            OLS Regression Results                            \n",
            "==============================================================================\n",
            "Dep. Variable:                      y   R-squared:                       0.336\n",
            "Model:                            OLS   Adj. R-squared:                  0.335\n",
            "Method:                 Least Squares   F-statistic:                     503.9\n",
            "Date:                Mon, 01 Jan 2024   Prob (F-statistic):           1.13e-90\n",
            "Time:                        07:20:34   Log-Likelihood:                -1758.4\n",
            "No. Observations:                1000   AIC:                             3521.\n",
            "Df Residuals:                     998   BIC:                             3531.\n",
            "Df Model:                           1                                         \n",
            "Covariance Type:            nonrobust                                         \n",
            "==============================================================================\n",
            "                 coef    std err          t      P>|t|      [0.025      0.975]\n",
            "------------------------------------------------------------------------------\n",
            "const          0.0580      0.045      1.302      0.193      -0.029       0.145\n",
            "x              1.0029      0.045     22.449      0.000       0.915       1.091\n",
            "==============================================================================\n",
            "Omnibus:                        2.838   Durbin-Watson:                   2.003\n",
            "Prob(Omnibus):                  0.242   Jarque-Bera (JB):                2.899\n",
            "Skew:                           0.126   Prob(JB):                        0.235\n",
            "Kurtosis:                       2.924   Cond. No.                         1.05\n",
            "==============================================================================\n",
            "\n",
            "Notes:\n",
            "[1] Standard Errors assume that the covariance matrix of the errors is correctly specified.\n"
          ]
        }
      ]
    },
    {
      "cell_type": "markdown",
      "source": [
        "Adjusted estimate."
      ],
      "metadata": {
        "id": "XDMzubBA49xn"
      }
    },
    {
      "cell_type": "code",
      "source": [
        "model = sm.OLS(y, X2)\n",
        "fitted_model = model.fit()\n",
        "\n",
        "print(fitted_model.summary(xname=['const', 'x', 'z']))"
      ],
      "metadata": {
        "colab": {
          "base_uri": "https://localhost:8080/"
        },
        "outputId": "750637f6-389f-4f6c-b7f0-e138277b3e77",
        "id": "a7RLBGVX49xn"
      },
      "execution_count": 117,
      "outputs": [
        {
          "output_type": "stream",
          "name": "stdout",
          "text": [
            "                            OLS Regression Results                            \n",
            "==============================================================================\n",
            "Dep. Variable:                      y   R-squared:                       0.673\n",
            "Model:                            OLS   Adj. R-squared:                  0.673\n",
            "Method:                 Least Squares   F-statistic:                     1027.\n",
            "Date:                Mon, 01 Jan 2024   Prob (F-statistic):          7.18e-243\n",
            "Time:                        07:20:38   Log-Likelihood:                -1403.6\n",
            "No. Observations:                1000   AIC:                             2813.\n",
            "Df Residuals:                     997   BIC:                             2828.\n",
            "Df Model:                           2                                         \n",
            "Covariance Type:            nonrobust                                         \n",
            "==============================================================================\n",
            "                 coef    std err          t      P>|t|      [0.025      0.975]\n",
            "------------------------------------------------------------------------------\n",
            "const         -0.0043      0.031     -0.136      0.892      -0.066       0.057\n",
            "x             -0.0143      0.045     -0.320      0.749      -0.102       0.073\n",
            "z              0.9818      0.031     32.098      0.000       0.922       1.042\n",
            "==============================================================================\n",
            "Omnibus:                        2.703   Durbin-Watson:                   2.010\n",
            "Prob(Omnibus):                  0.259   Jarque-Bera (JB):                2.692\n",
            "Skew:                           0.070   Prob(JB):                        0.260\n",
            "Kurtosis:                       3.212   Cond. No.                         2.68\n",
            "==============================================================================\n",
            "\n",
            "Notes:\n",
            "[1] Standard Errors assume that the covariance matrix of the errors is correctly specified.\n"
          ]
        }
      ]
    },
    {
      "cell_type": "markdown",
      "source": [
        "**Scenario 4: Overcontrol bias**"
      ],
      "metadata": {
        "id": "6l2Vtw_V5ci2"
      }
    },
    {
      "cell_type": "code",
      "source": [
        "g = graphviz.Digraph()\n",
        "\n",
        "# Add nodes\n",
        "nodes = ['M', 'Z', 'X', 'Y']\n",
        "[g.node(n) for n in nodes]\n",
        "\n",
        "g.edges(['XM', 'MZ', 'MY'])\n",
        "g"
      ],
      "metadata": {
        "colab": {
          "base_uri": "https://localhost:8080/",
          "height": 272
        },
        "outputId": "793ef550-bf91-4350-9a2a-62d46e5b5156",
        "id": "pm0zFZ9m5cjA"
      },
      "execution_count": null,
      "outputs": [
        {
          "output_type": "execute_result",
          "data": {
            "image/svg+xml": "<?xml version=\"1.0\" encoding=\"UTF-8\" standalone=\"no\"?>\n<!DOCTYPE svg PUBLIC \"-//W3C//DTD SVG 1.1//EN\"\n \"http://www.w3.org/Graphics/SVG/1.1/DTD/svg11.dtd\">\n<!-- Generated by graphviz version 2.43.0 (0)\n -->\n<!-- Title: %3 Pages: 1 -->\n<svg width=\"134pt\" height=\"188pt\"\n viewBox=\"0.00 0.00 134.00 188.00\" xmlns=\"http://www.w3.org/2000/svg\" xmlns:xlink=\"http://www.w3.org/1999/xlink\">\n<g id=\"graph0\" class=\"graph\" transform=\"scale(1 1) rotate(0) translate(4 184)\">\n<title>%3</title>\n<polygon fill=\"white\" stroke=\"transparent\" points=\"-4,4 -4,-184 130,-184 130,4 -4,4\"/>\n<!-- M -->\n<g id=\"node1\" class=\"node\">\n<title>M</title>\n<ellipse fill=\"none\" stroke=\"black\" cx=\"63\" cy=\"-90\" rx=\"27\" ry=\"18\"/>\n<text text-anchor=\"middle\" x=\"63\" y=\"-86.3\" font-family=\"Times,serif\" font-size=\"14.00\">M</text>\n</g>\n<!-- Z -->\n<g id=\"node2\" class=\"node\">\n<title>Z</title>\n<ellipse fill=\"none\" stroke=\"black\" cx=\"27\" cy=\"-18\" rx=\"27\" ry=\"18\"/>\n<text text-anchor=\"middle\" x=\"27\" y=\"-14.3\" font-family=\"Times,serif\" font-size=\"14.00\">Z</text>\n</g>\n<!-- M&#45;&gt;Z -->\n<g id=\"edge2\" class=\"edge\">\n<title>M&#45;&gt;Z</title>\n<path fill=\"none\" stroke=\"black\" d=\"M54.65,-72.76C50.29,-64.28 44.85,-53.71 39.96,-44.2\"/>\n<polygon fill=\"black\" stroke=\"black\" points=\"42.99,-42.44 35.3,-35.15 36.77,-45.64 42.99,-42.44\"/>\n</g>\n<!-- Y -->\n<g id=\"node4\" class=\"node\">\n<title>Y</title>\n<ellipse fill=\"none\" stroke=\"black\" cx=\"99\" cy=\"-18\" rx=\"27\" ry=\"18\"/>\n<text text-anchor=\"middle\" x=\"99\" y=\"-14.3\" font-family=\"Times,serif\" font-size=\"14.00\">Y</text>\n</g>\n<!-- M&#45;&gt;Y -->\n<g id=\"edge3\" class=\"edge\">\n<title>M&#45;&gt;Y</title>\n<path fill=\"none\" stroke=\"black\" d=\"M71.35,-72.76C75.71,-64.28 81.15,-53.71 86.04,-44.2\"/>\n<polygon fill=\"black\" stroke=\"black\" points=\"89.23,-45.64 90.7,-35.15 83.01,-42.44 89.23,-45.64\"/>\n</g>\n<!-- X -->\n<g id=\"node3\" class=\"node\">\n<title>X</title>\n<ellipse fill=\"none\" stroke=\"black\" cx=\"63\" cy=\"-162\" rx=\"27\" ry=\"18\"/>\n<text text-anchor=\"middle\" x=\"63\" y=\"-158.3\" font-family=\"Times,serif\" font-size=\"14.00\">X</text>\n</g>\n<!-- X&#45;&gt;M -->\n<g id=\"edge1\" class=\"edge\">\n<title>X&#45;&gt;M</title>\n<path fill=\"none\" stroke=\"black\" d=\"M63,-143.7C63,-135.98 63,-126.71 63,-118.11\"/>\n<polygon fill=\"black\" stroke=\"black\" points=\"66.5,-118.1 63,-108.1 59.5,-118.1 66.5,-118.1\"/>\n</g>\n</g>\n</svg>\n",
            "text/plain": [
              "<graphviz.graphs.Digraph at 0x7cb77aa27430>"
            ]
          },
          "metadata": {},
          "execution_count": 118
        }
      ]
    },
    {
      "cell_type": "code",
      "source": [
        "N_SAMPLES = 1000\n",
        "\n",
        "x = np.random.randn(N_SAMPLES)\n",
        "m = x + np.random.randn(N_SAMPLES)\n",
        "z = m + np.random.randn(N_SAMPLES)\n",
        "y = m + np.random.randn(N_SAMPLES)\n",
        "\n",
        "X1 = sm.add_constant(np.stack([x]).T)\n",
        "X2 = sm.add_constant(np.stack([x, z]).T)"
      ],
      "metadata": {
        "id": "OQrUNq5k5cjB"
      },
      "execution_count": null,
      "outputs": []
    },
    {
      "cell_type": "markdown",
      "source": [
        "Unadjusted estimate"
      ],
      "metadata": {
        "id": "zWlZsFq25cjB"
      }
    },
    {
      "cell_type": "code",
      "source": [
        "model = sm.OLS(y, X1)\n",
        "fitted_model = model.fit()\n",
        "\n",
        "print(fitted_model.summary(xname=['const', 'x']))"
      ],
      "metadata": {
        "colab": {
          "base_uri": "https://localhost:8080/"
        },
        "outputId": "f791099a-568b-4a1e-a21c-613949aebe80",
        "id": "5daAQheJ5cjB"
      },
      "execution_count": null,
      "outputs": [
        {
          "output_type": "stream",
          "name": "stdout",
          "text": [
            "                            OLS Regression Results                            \n",
            "==============================================================================\n",
            "Dep. Variable:                      y   R-squared:                       0.347\n",
            "Model:                            OLS   Adj. R-squared:                  0.347\n",
            "Method:                 Least Squares   F-statistic:                     531.2\n",
            "Date:                Mon, 01 Jan 2024   Prob (F-statistic):           1.43e-94\n",
            "Time:                        07:22:21   Log-Likelihood:                -1785.3\n",
            "No. Observations:                1000   AIC:                             3575.\n",
            "Df Residuals:                     998   BIC:                             3584.\n",
            "Df Model:                           1                                         \n",
            "Covariance Type:            nonrobust                                         \n",
            "==============================================================================\n",
            "                 coef    std err          t      P>|t|      [0.025      0.975]\n",
            "------------------------------------------------------------------------------\n",
            "const          0.0364      0.046      0.797      0.426      -0.053       0.126\n",
            "x              1.0267      0.045     23.047      0.000       0.939       1.114\n",
            "==============================================================================\n",
            "Omnibus:                        3.711   Durbin-Watson:                   1.991\n",
            "Prob(Omnibus):                  0.156   Jarque-Bera (JB):                4.095\n",
            "Skew:                          -0.052   Prob(JB):                        0.129\n",
            "Kurtosis:                       3.296   Cond. No.                         1.03\n",
            "==============================================================================\n",
            "\n",
            "Notes:\n",
            "[1] Standard Errors assume that the covariance matrix of the errors is correctly specified.\n"
          ]
        }
      ]
    },
    {
      "cell_type": "markdown",
      "source": [
        "Adjusted estimate."
      ],
      "metadata": {
        "id": "pbLj01-_5cjB"
      }
    },
    {
      "cell_type": "code",
      "source": [
        "model = sm.OLS(y, X2)\n",
        "fitted_model = model.fit()\n",
        "\n",
        "print(fitted_model.summary(xname=['const', 'x', 'z']))"
      ],
      "metadata": {
        "colab": {
          "base_uri": "https://localhost:8080/"
        },
        "outputId": "43ca2c98-c6b7-4b29-dd7b-f3c453bf1fd1",
        "id": "jebKtdUe5cjC"
      },
      "execution_count": null,
      "outputs": [
        {
          "output_type": "stream",
          "name": "stdout",
          "text": [
            "                            OLS Regression Results                            \n",
            "==============================================================================\n",
            "Dep. Variable:                      y   R-squared:                       0.518\n",
            "Model:                            OLS   Adj. R-squared:                  0.517\n",
            "Method:                 Least Squares   F-statistic:                     535.4\n",
            "Date:                Mon, 01 Jan 2024   Prob (F-statistic):          1.15e-158\n",
            "Time:                        07:22:25   Log-Likelihood:                -1633.9\n",
            "No. Observations:                1000   AIC:                             3274.\n",
            "Df Residuals:                     997   BIC:                             3289.\n",
            "Df Model:                           2                                         \n",
            "Covariance Type:            nonrobust                                         \n",
            "==============================================================================\n",
            "                 coef    std err          t      P>|t|      [0.025      0.975]\n",
            "------------------------------------------------------------------------------\n",
            "const          0.0071      0.039      0.182      0.856      -0.070       0.084\n",
            "x              0.5064      0.047     10.709      0.000       0.414       0.599\n",
            "z              0.5164      0.028     18.777      0.000       0.462       0.570\n",
            "==============================================================================\n",
            "Omnibus:                        3.948   Durbin-Watson:                   2.052\n",
            "Prob(Omnibus):                  0.139   Jarque-Bera (JB):                4.551\n",
            "Skew:                           0.029   Prob(JB):                        0.103\n",
            "Kurtosis:                       3.325   Cond. No.                         2.43\n",
            "==============================================================================\n",
            "\n",
            "Notes:\n",
            "[1] Standard Errors assume that the covariance matrix of the errors is correctly specified.\n"
          ]
        }
      ]
    },
    {
      "cell_type": "markdown",
      "source": [
        "**Scenario 5: Selection bias**"
      ],
      "metadata": {
        "id": "M1IqVCvC58PA"
      }
    },
    {
      "cell_type": "code",
      "source": [
        "g = graphviz.Digraph()\n",
        "\n",
        "# Add nodes\n",
        "nodes = ['U', 'Z', 'X', 'Y']\n",
        "[g.node(n) for n in nodes]\n",
        "\n",
        "g.edges(['XY', 'XZ', 'UZ', 'UY'])\n",
        "g"
      ],
      "metadata": {
        "colab": {
          "base_uri": "https://localhost:8080/",
          "height": 176
        },
        "outputId": "77bf8e4c-e037-443a-8029-5a545edbd59f",
        "id": "6HQl-yev58PB"
      },
      "execution_count": 122,
      "outputs": [
        {
          "output_type": "execute_result",
          "data": {
            "image/svg+xml": "<?xml version=\"1.0\" encoding=\"UTF-8\" standalone=\"no\"?>\n<!DOCTYPE svg PUBLIC \"-//W3C//DTD SVG 1.1//EN\"\n \"http://www.w3.org/Graphics/SVG/1.1/DTD/svg11.dtd\">\n<!-- Generated by graphviz version 2.43.0 (0)\n -->\n<!-- Title: %3 Pages: 1 -->\n<svg width=\"134pt\" height=\"116pt\"\n viewBox=\"0.00 0.00 134.00 116.00\" xmlns=\"http://www.w3.org/2000/svg\" xmlns:xlink=\"http://www.w3.org/1999/xlink\">\n<g id=\"graph0\" class=\"graph\" transform=\"scale(1 1) rotate(0) translate(4 112)\">\n<title>%3</title>\n<polygon fill=\"white\" stroke=\"transparent\" points=\"-4,4 -4,-112 130,-112 130,4 -4,4\"/>\n<!-- U -->\n<g id=\"node1\" class=\"node\">\n<title>U</title>\n<ellipse fill=\"none\" stroke=\"black\" cx=\"27\" cy=\"-90\" rx=\"27\" ry=\"18\"/>\n<text text-anchor=\"middle\" x=\"27\" y=\"-86.3\" font-family=\"Times,serif\" font-size=\"14.00\">U</text>\n</g>\n<!-- Z -->\n<g id=\"node2\" class=\"node\">\n<title>Z</title>\n<ellipse fill=\"none\" stroke=\"black\" cx=\"27\" cy=\"-18\" rx=\"27\" ry=\"18\"/>\n<text text-anchor=\"middle\" x=\"27\" y=\"-14.3\" font-family=\"Times,serif\" font-size=\"14.00\">Z</text>\n</g>\n<!-- U&#45;&gt;Z -->\n<g id=\"edge3\" class=\"edge\">\n<title>U&#45;&gt;Z</title>\n<path fill=\"none\" stroke=\"black\" d=\"M27,-71.7C27,-63.98 27,-54.71 27,-46.11\"/>\n<polygon fill=\"black\" stroke=\"black\" points=\"30.5,-46.1 27,-36.1 23.5,-46.1 30.5,-46.1\"/>\n</g>\n<!-- Y -->\n<g id=\"node4\" class=\"node\">\n<title>Y</title>\n<ellipse fill=\"none\" stroke=\"black\" cx=\"99\" cy=\"-18\" rx=\"27\" ry=\"18\"/>\n<text text-anchor=\"middle\" x=\"99\" y=\"-14.3\" font-family=\"Times,serif\" font-size=\"14.00\">Y</text>\n</g>\n<!-- U&#45;&gt;Y -->\n<g id=\"edge4\" class=\"edge\">\n<title>U&#45;&gt;Y</title>\n<path fill=\"none\" stroke=\"black\" d=\"M41.57,-74.83C51.75,-64.94 65.52,-51.55 77.03,-40.36\"/>\n<polygon fill=\"black\" stroke=\"black\" points=\"79.47,-42.87 84.2,-33.38 74.59,-37.85 79.47,-42.87\"/>\n</g>\n<!-- X -->\n<g id=\"node3\" class=\"node\">\n<title>X</title>\n<ellipse fill=\"none\" stroke=\"black\" cx=\"99\" cy=\"-90\" rx=\"27\" ry=\"18\"/>\n<text text-anchor=\"middle\" x=\"99\" y=\"-86.3\" font-family=\"Times,serif\" font-size=\"14.00\">X</text>\n</g>\n<!-- X&#45;&gt;Z -->\n<g id=\"edge2\" class=\"edge\">\n<title>X&#45;&gt;Z</title>\n<path fill=\"none\" stroke=\"black\" d=\"M84.43,-74.83C74.25,-64.94 60.48,-51.55 48.97,-40.36\"/>\n<polygon fill=\"black\" stroke=\"black\" points=\"51.41,-37.85 41.8,-33.38 46.53,-42.87 51.41,-37.85\"/>\n</g>\n<!-- X&#45;&gt;Y -->\n<g id=\"edge1\" class=\"edge\">\n<title>X&#45;&gt;Y</title>\n<path fill=\"none\" stroke=\"black\" d=\"M99,-71.7C99,-63.98 99,-54.71 99,-46.11\"/>\n<polygon fill=\"black\" stroke=\"black\" points=\"102.5,-46.1 99,-36.1 95.5,-46.1 102.5,-46.1\"/>\n</g>\n</g>\n</svg>\n",
            "text/plain": [
              "<graphviz.graphs.Digraph at 0x7cb77aa24d90>"
            ]
          },
          "metadata": {},
          "execution_count": 122
        }
      ]
    },
    {
      "cell_type": "code",
      "source": [
        "N_SAMPLES = 1000\n",
        "\n",
        "x = np.random.randn(N_SAMPLES)\n",
        "u = np.random.randn(N_SAMPLES)\n",
        "z = x + u + np.random.randn(N_SAMPLES)\n",
        "y = x + 2*u + np.random.randn(N_SAMPLES)\n",
        "\n",
        "X1 = sm.add_constant(np.stack([x]).T)\n",
        "X2 = sm.add_constant(np.stack([x, z]).T)"
      ],
      "metadata": {
        "id": "7lEkJkIH58PC"
      },
      "execution_count": 123,
      "outputs": []
    },
    {
      "cell_type": "markdown",
      "source": [
        "Unadjusted estimate"
      ],
      "metadata": {
        "id": "5GebHBuV58PC"
      }
    },
    {
      "cell_type": "code",
      "source": [
        "model = sm.OLS(y, X1)\n",
        "fitted_model = model.fit()\n",
        "\n",
        "print(fitted_model.summary(xname=['const', 'x']))"
      ],
      "metadata": {
        "colab": {
          "base_uri": "https://localhost:8080/"
        },
        "outputId": "0a7c0eb4-2200-4e5a-92fc-b4ae9de783ed",
        "id": "L8gn-PsO58PC"
      },
      "execution_count": 124,
      "outputs": [
        {
          "output_type": "stream",
          "name": "stdout",
          "text": [
            "                            OLS Regression Results                            \n",
            "==============================================================================\n",
            "Dep. Variable:                      y   R-squared:                       0.184\n",
            "Model:                            OLS   Adj. R-squared:                  0.183\n",
            "Method:                 Least Squares   F-statistic:                     225.4\n",
            "Date:                Mon, 01 Jan 2024   Prob (F-statistic):           4.25e-46\n",
            "Time:                        07:24:35   Log-Likelihood:                -2219.0\n",
            "No. Observations:                1000   AIC:                             4442.\n",
            "Df Residuals:                     998   BIC:                             4452.\n",
            "Df Model:                           1                                         \n",
            "Covariance Type:            nonrobust                                         \n",
            "==============================================================================\n",
            "                 coef    std err          t      P>|t|      [0.025      0.975]\n",
            "------------------------------------------------------------------------------\n",
            "const         -0.0601      0.070     -0.853      0.394      -0.198       0.078\n",
            "x              1.0677      0.071     15.015      0.000       0.928       1.207\n",
            "==============================================================================\n",
            "Omnibus:                        0.313   Durbin-Watson:                   2.025\n",
            "Prob(Omnibus):                  0.855   Jarque-Bera (JB):                0.367\n",
            "Skew:                          -0.039   Prob(JB):                        0.832\n",
            "Kurtosis:                       2.948   Cond. No.                         1.01\n",
            "==============================================================================\n",
            "\n",
            "Notes:\n",
            "[1] Standard Errors assume that the covariance matrix of the errors is correctly specified.\n"
          ]
        }
      ]
    },
    {
      "cell_type": "markdown",
      "source": [
        "Adjusted estimate."
      ],
      "metadata": {
        "id": "qGFq2wCX58PC"
      }
    },
    {
      "cell_type": "code",
      "source": [
        "model = sm.OLS(y, X2)\n",
        "fitted_model = model.fit()\n",
        "\n",
        "print(fitted_model.summary(xname=['const', 'x', 'z']))"
      ],
      "metadata": {
        "colab": {
          "base_uri": "https://localhost:8080/"
        },
        "outputId": "8693a9ff-984c-4a1a-ad12-0139472b6bee",
        "id": "hepDikvu58PD"
      },
      "execution_count": 125,
      "outputs": [
        {
          "output_type": "stream",
          "name": "stdout",
          "text": [
            "                            OLS Regression Results                            \n",
            "==============================================================================\n",
            "Dep. Variable:                      y   R-squared:                       0.531\n",
            "Model:                            OLS   Adj. R-squared:                  0.531\n",
            "Method:                 Least Squares   F-statistic:                     565.4\n",
            "Date:                Mon, 01 Jan 2024   Prob (F-statistic):          7.36e-165\n",
            "Time:                        07:24:37   Log-Likelihood:                -1941.8\n",
            "No. Observations:                1000   AIC:                             3890.\n",
            "Df Residuals:                     997   BIC:                             3904.\n",
            "Df Model:                           2                                         \n",
            "Covariance Type:            nonrobust                                         \n",
            "==============================================================================\n",
            "                 coef    std err          t      P>|t|      [0.025      0.975]\n",
            "------------------------------------------------------------------------------\n",
            "const         -0.0309      0.053     -0.578      0.563      -0.136       0.074\n",
            "x              0.0165      0.066      0.249      0.804      -0.114       0.147\n",
            "z              1.0114      0.037     27.180      0.000       0.938       1.084\n",
            "==============================================================================\n",
            "Omnibus:                        8.923   Durbin-Watson:                   2.010\n",
            "Prob(Omnibus):                  0.012   Jarque-Bera (JB):                8.866\n",
            "Skew:                          -0.221   Prob(JB):                       0.0119\n",
            "Kurtosis:                       3.135   Cond. No.                         2.48\n",
            "==============================================================================\n",
            "\n",
            "Notes:\n",
            "[1] Standard Errors assume that the covariance matrix of the errors is correctly specified.\n"
          ]
        }
      ]
    },
    {
      "cell_type": "markdown",
      "source": [
        "**Scenario 6: Selection bias**"
      ],
      "metadata": {
        "id": "ovfi-PfO6UZ8"
      }
    },
    {
      "cell_type": "code",
      "source": [
        "g = graphviz.Digraph()\n",
        "\n",
        "# Add nodes\n",
        "nodes = ['Z', 'X', 'Y']\n",
        "[g.node(n) for n in nodes]\n",
        "\n",
        "g.edges(['XY', 'XZ', 'YZ'])\n",
        "g"
      ],
      "metadata": {
        "colab": {
          "base_uri": "https://localhost:8080/",
          "height": 272
        },
        "outputId": "ff730ffb-4910-4132-f063-67acadf0a98b",
        "id": "yG0oMaoS6UaG"
      },
      "execution_count": 126,
      "outputs": [
        {
          "output_type": "execute_result",
          "data": {
            "image/svg+xml": "<?xml version=\"1.0\" encoding=\"UTF-8\" standalone=\"no\"?>\n<!DOCTYPE svg PUBLIC \"-//W3C//DTD SVG 1.1//EN\"\n \"http://www.w3.org/Graphics/SVG/1.1/DTD/svg11.dtd\">\n<!-- Generated by graphviz version 2.43.0 (0)\n -->\n<!-- Title: %3 Pages: 1 -->\n<svg width=\"90pt\" height=\"188pt\"\n viewBox=\"0.00 0.00 90.00 188.00\" xmlns=\"http://www.w3.org/2000/svg\" xmlns:xlink=\"http://www.w3.org/1999/xlink\">\n<g id=\"graph0\" class=\"graph\" transform=\"scale(1 1) rotate(0) translate(4 184)\">\n<title>%3</title>\n<polygon fill=\"white\" stroke=\"transparent\" points=\"-4,4 -4,-184 86,-184 86,4 -4,4\"/>\n<!-- Z -->\n<g id=\"node1\" class=\"node\">\n<title>Z</title>\n<ellipse fill=\"none\" stroke=\"black\" cx=\"27\" cy=\"-18\" rx=\"27\" ry=\"18\"/>\n<text text-anchor=\"middle\" x=\"27\" y=\"-14.3\" font-family=\"Times,serif\" font-size=\"14.00\">Z</text>\n</g>\n<!-- X -->\n<g id=\"node2\" class=\"node\">\n<title>X</title>\n<ellipse fill=\"none\" stroke=\"black\" cx=\"27\" cy=\"-162\" rx=\"27\" ry=\"18\"/>\n<text text-anchor=\"middle\" x=\"27\" y=\"-158.3\" font-family=\"Times,serif\" font-size=\"14.00\">X</text>\n</g>\n<!-- X&#45;&gt;Z -->\n<g id=\"edge2\" class=\"edge\">\n<title>X&#45;&gt;Z</title>\n<path fill=\"none\" stroke=\"black\" d=\"M23.75,-143.89C21.95,-133.54 19.91,-120.06 19,-108 17.8,-92.04 17.8,-87.96 19,-72 19.64,-63.52 20.84,-54.34 22.12,-46.04\"/>\n<polygon fill=\"black\" stroke=\"black\" points=\"25.58,-46.55 23.75,-36.11 18.68,-45.41 25.58,-46.55\"/>\n</g>\n<!-- Y -->\n<g id=\"node3\" class=\"node\">\n<title>Y</title>\n<ellipse fill=\"none\" stroke=\"black\" cx=\"55\" cy=\"-90\" rx=\"27\" ry=\"18\"/>\n<text text-anchor=\"middle\" x=\"55\" y=\"-86.3\" font-family=\"Times,serif\" font-size=\"14.00\">Y</text>\n</g>\n<!-- X&#45;&gt;Y -->\n<g id=\"edge1\" class=\"edge\">\n<title>X&#45;&gt;Y</title>\n<path fill=\"none\" stroke=\"black\" d=\"M33.64,-144.41C36.91,-136.22 40.94,-126.14 44.62,-116.95\"/>\n<polygon fill=\"black\" stroke=\"black\" points=\"47.95,-118.05 48.41,-107.47 41.45,-115.45 47.95,-118.05\"/>\n</g>\n<!-- Y&#45;&gt;Z -->\n<g id=\"edge3\" class=\"edge\">\n<title>Y&#45;&gt;Z</title>\n<path fill=\"none\" stroke=\"black\" d=\"M48.36,-72.41C45.09,-64.22 41.06,-54.14 37.38,-44.95\"/>\n<polygon fill=\"black\" stroke=\"black\" points=\"40.55,-43.45 33.59,-35.47 34.05,-46.05 40.55,-43.45\"/>\n</g>\n</g>\n</svg>\n",
            "text/plain": [
              "<graphviz.graphs.Digraph at 0x7cb77aa25ab0>"
            ]
          },
          "metadata": {},
          "execution_count": 126
        }
      ]
    },
    {
      "cell_type": "code",
      "source": [
        "N_SAMPLES = 1000\n",
        "\n",
        "x = np.random.randn(N_SAMPLES)\n",
        "y = x + np.random.randn(N_SAMPLES)\n",
        "z = x + y + np.random.randn(N_SAMPLES)\n",
        "\n",
        "X1 = sm.add_constant(np.stack([x]).T)\n",
        "X2 = sm.add_constant(np.stack([x, z]).T)"
      ],
      "metadata": {
        "id": "hJG0Md1y6UaG"
      },
      "execution_count": 127,
      "outputs": []
    },
    {
      "cell_type": "markdown",
      "source": [
        "Unadjusted estimate"
      ],
      "metadata": {
        "id": "9R1Z7tsL6UaG"
      }
    },
    {
      "cell_type": "code",
      "source": [
        "model = sm.OLS(y, X1)\n",
        "fitted_model = model.fit()\n",
        "\n",
        "print(fitted_model.summary(xname=['const', 'x']))"
      ],
      "metadata": {
        "colab": {
          "base_uri": "https://localhost:8080/"
        },
        "outputId": "cc0a5c9f-a5e0-42e4-9c67-f6020ddb06c7",
        "id": "t6lLnVD66UaG"
      },
      "execution_count": 128,
      "outputs": [
        {
          "output_type": "stream",
          "name": "stdout",
          "text": [
            "                            OLS Regression Results                            \n",
            "==============================================================================\n",
            "Dep. Variable:                      y   R-squared:                       0.491\n",
            "Model:                            OLS   Adj. R-squared:                  0.491\n",
            "Method:                 Least Squares   F-statistic:                     964.6\n",
            "Date:                Mon, 01 Jan 2024   Prob (F-statistic):          9.99e-149\n",
            "Time:                        07:28:15   Log-Likelihood:                -1422.9\n",
            "No. Observations:                1000   AIC:                             2850.\n",
            "Df Residuals:                     998   BIC:                             2860.\n",
            "Df Model:                           1                                         \n",
            "Covariance Type:            nonrobust                                         \n",
            "==============================================================================\n",
            "                 coef    std err          t      P>|t|      [0.025      0.975]\n",
            "------------------------------------------------------------------------------\n",
            "const          0.0291      0.032      0.915      0.360      -0.033       0.091\n",
            "x              0.9942      0.032     31.058      0.000       0.931       1.057\n",
            "==============================================================================\n",
            "Omnibus:                        5.750   Durbin-Watson:                   2.037\n",
            "Prob(Omnibus):                  0.056   Jarque-Bera (JB):                5.732\n",
            "Skew:                           0.153   Prob(JB):                       0.0569\n",
            "Kurtosis:                       3.211   Cond. No.                         1.02\n",
            "==============================================================================\n",
            "\n",
            "Notes:\n",
            "[1] Standard Errors assume that the covariance matrix of the errors is correctly specified.\n"
          ]
        }
      ]
    },
    {
      "cell_type": "markdown",
      "source": [
        "Adjusted estimate."
      ],
      "metadata": {
        "id": "HAOs4-SF6UaH"
      }
    },
    {
      "cell_type": "code",
      "source": [
        "model = sm.OLS(y, X2)\n",
        "fitted_model = model.fit()\n",
        "\n",
        "print(fitted_model.summary(xname=['const', 'x', 'z']))"
      ],
      "metadata": {
        "colab": {
          "base_uri": "https://localhost:8080/"
        },
        "outputId": "338f79fd-61b9-4bbf-da39-5f9007cc9e5f",
        "id": "RUr8162Z6UaH"
      },
      "execution_count": 129,
      "outputs": [
        {
          "output_type": "stream",
          "name": "stdout",
          "text": [
            "                            OLS Regression Results                            \n",
            "==============================================================================\n",
            "Dep. Variable:                      y   R-squared:                       0.749\n",
            "Model:                            OLS   Adj. R-squared:                  0.748\n",
            "Method:                 Least Squares   F-statistic:                     1485.\n",
            "Date:                Mon, 01 Jan 2024   Prob (F-statistic):          1.17e-299\n",
            "Time:                        07:28:16   Log-Likelihood:                -1070.7\n",
            "No. Observations:                1000   AIC:                             2147.\n",
            "Df Residuals:                     997   BIC:                             2162.\n",
            "Df Model:                           2                                         \n",
            "Covariance Type:            nonrobust                                         \n",
            "==============================================================================\n",
            "                 coef    std err          t      P>|t|      [0.025      0.975]\n",
            "------------------------------------------------------------------------------\n",
            "const          0.0218      0.022      0.975      0.330      -0.022       0.066\n",
            "x             -0.0021      0.038     -0.054      0.957      -0.078       0.073\n",
            "z              0.5005      0.016     31.934      0.000       0.470       0.531\n",
            "==============================================================================\n",
            "Omnibus:                        2.018   Durbin-Watson:                   2.027\n",
            "Prob(Omnibus):                  0.365   Jarque-Bera (JB):                1.857\n",
            "Skew:                           0.014   Prob(JB):                        0.395\n",
            "Kurtosis:                       2.791   Cond. No.                         4.68\n",
            "==============================================================================\n",
            "\n",
            "Notes:\n",
            "[1] Standard Errors assume that the covariance matrix of the errors is correctly specified.\n"
          ]
        }
      ]
    },
    {
      "cell_type": "markdown",
      "source": [
        "**Scenario 7: Case-control bias**"
      ],
      "metadata": {
        "id": "BuDl6ym57L9C"
      }
    },
    {
      "cell_type": "code",
      "source": [
        "g = graphviz.Digraph()\n",
        "\n",
        "# Add nodes\n",
        "nodes = ['Z', 'X', 'Y']\n",
        "[g.node(n) for n in nodes]\n",
        "\n",
        "g.edges(['XY', 'YZ'])\n",
        "g"
      ],
      "metadata": {
        "colab": {
          "base_uri": "https://localhost:8080/",
          "height": 272
        },
        "outputId": "c80a5ee2-628c-471b-89f1-1c18f49157f1",
        "id": "ig5VrQS17L9N"
      },
      "execution_count": 130,
      "outputs": [
        {
          "output_type": "execute_result",
          "data": {
            "image/svg+xml": "<?xml version=\"1.0\" encoding=\"UTF-8\" standalone=\"no\"?>\n<!DOCTYPE svg PUBLIC \"-//W3C//DTD SVG 1.1//EN\"\n \"http://www.w3.org/Graphics/SVG/1.1/DTD/svg11.dtd\">\n<!-- Generated by graphviz version 2.43.0 (0)\n -->\n<!-- Title: %3 Pages: 1 -->\n<svg width=\"62pt\" height=\"188pt\"\n viewBox=\"0.00 0.00 62.00 188.00\" xmlns=\"http://www.w3.org/2000/svg\" xmlns:xlink=\"http://www.w3.org/1999/xlink\">\n<g id=\"graph0\" class=\"graph\" transform=\"scale(1 1) rotate(0) translate(4 184)\">\n<title>%3</title>\n<polygon fill=\"white\" stroke=\"transparent\" points=\"-4,4 -4,-184 58,-184 58,4 -4,4\"/>\n<!-- Z -->\n<g id=\"node1\" class=\"node\">\n<title>Z</title>\n<ellipse fill=\"none\" stroke=\"black\" cx=\"27\" cy=\"-18\" rx=\"27\" ry=\"18\"/>\n<text text-anchor=\"middle\" x=\"27\" y=\"-14.3\" font-family=\"Times,serif\" font-size=\"14.00\">Z</text>\n</g>\n<!-- X -->\n<g id=\"node2\" class=\"node\">\n<title>X</title>\n<ellipse fill=\"none\" stroke=\"black\" cx=\"27\" cy=\"-162\" rx=\"27\" ry=\"18\"/>\n<text text-anchor=\"middle\" x=\"27\" y=\"-158.3\" font-family=\"Times,serif\" font-size=\"14.00\">X</text>\n</g>\n<!-- Y -->\n<g id=\"node3\" class=\"node\">\n<title>Y</title>\n<ellipse fill=\"none\" stroke=\"black\" cx=\"27\" cy=\"-90\" rx=\"27\" ry=\"18\"/>\n<text text-anchor=\"middle\" x=\"27\" y=\"-86.3\" font-family=\"Times,serif\" font-size=\"14.00\">Y</text>\n</g>\n<!-- X&#45;&gt;Y -->\n<g id=\"edge1\" class=\"edge\">\n<title>X&#45;&gt;Y</title>\n<path fill=\"none\" stroke=\"black\" d=\"M27,-143.7C27,-135.98 27,-126.71 27,-118.11\"/>\n<polygon fill=\"black\" stroke=\"black\" points=\"30.5,-118.1 27,-108.1 23.5,-118.1 30.5,-118.1\"/>\n</g>\n<!-- Y&#45;&gt;Z -->\n<g id=\"edge2\" class=\"edge\">\n<title>Y&#45;&gt;Z</title>\n<path fill=\"none\" stroke=\"black\" d=\"M27,-71.7C27,-63.98 27,-54.71 27,-46.11\"/>\n<polygon fill=\"black\" stroke=\"black\" points=\"30.5,-46.1 27,-36.1 23.5,-46.1 30.5,-46.1\"/>\n</g>\n</g>\n</svg>\n",
            "text/plain": [
              "<graphviz.graphs.Digraph at 0x7cb77ab6cb50>"
            ]
          },
          "metadata": {},
          "execution_count": 130
        }
      ]
    },
    {
      "cell_type": "code",
      "source": [
        "N_SAMPLES = 1000\n",
        "\n",
        "x = np.random.randn(N_SAMPLES)\n",
        "y = x + np.random.randn(N_SAMPLES)\n",
        "z = y + np.random.randn(N_SAMPLES)\n",
        "\n",
        "X1 = sm.add_constant(np.stack([x]).T)\n",
        "X2 = sm.add_constant(np.stack([x, z]).T)"
      ],
      "metadata": {
        "id": "tq9axao07L9O"
      },
      "execution_count": 131,
      "outputs": []
    },
    {
      "cell_type": "markdown",
      "source": [
        "Unadjusted estimate"
      ],
      "metadata": {
        "id": "nqQ8A0sr7L9O"
      }
    },
    {
      "cell_type": "code",
      "source": [
        "model = sm.OLS(y, X1)\n",
        "fitted_model = model.fit()\n",
        "\n",
        "print(fitted_model.summary(xname=['const', 'x']))"
      ],
      "metadata": {
        "colab": {
          "base_uri": "https://localhost:8080/"
        },
        "outputId": "80b0bbd3-42cb-4625-cc13-aa2269e2cbbd",
        "id": "4sEFQk5t7L9O"
      },
      "execution_count": 132,
      "outputs": [
        {
          "output_type": "stream",
          "name": "stdout",
          "text": [
            "                            OLS Regression Results                            \n",
            "==============================================================================\n",
            "Dep. Variable:                      y   R-squared:                       0.475\n",
            "Model:                            OLS   Adj. R-squared:                  0.475\n",
            "Method:                 Least Squares   F-statistic:                     904.7\n",
            "Date:                Mon, 01 Jan 2024   Prob (F-statistic):          5.29e-142\n",
            "Time:                        07:29:27   Log-Likelihood:                -1440.5\n",
            "No. Observations:                1000   AIC:                             2885.\n",
            "Df Residuals:                     998   BIC:                             2895.\n",
            "Df Model:                           1                                         \n",
            "Covariance Type:            nonrobust                                         \n",
            "==============================================================================\n",
            "                 coef    std err          t      P>|t|      [0.025      0.975]\n",
            "------------------------------------------------------------------------------\n",
            "const          0.0120      0.032      0.372      0.710      -0.051       0.076\n",
            "x              0.9924      0.033     30.078      0.000       0.928       1.057\n",
            "==============================================================================\n",
            "Omnibus:                        0.108   Durbin-Watson:                   2.046\n",
            "Prob(Omnibus):                  0.948   Jarque-Bera (JB):                0.059\n",
            "Skew:                          -0.014   Prob(JB):                        0.971\n",
            "Kurtosis:                       3.024   Cond. No.                         1.02\n",
            "==============================================================================\n",
            "\n",
            "Notes:\n",
            "[1] Standard Errors assume that the covariance matrix of the errors is correctly specified.\n"
          ]
        }
      ]
    },
    {
      "cell_type": "markdown",
      "source": [
        "Adjusted estimate."
      ],
      "metadata": {
        "id": "KgzpgUNT7L9O"
      }
    },
    {
      "cell_type": "code",
      "source": [
        "model = sm.OLS(y, X2)\n",
        "fitted_model = model.fit()\n",
        "\n",
        "print(fitted_model.summary(xname=['const', 'x', 'z']))"
      ],
      "metadata": {
        "colab": {
          "base_uri": "https://localhost:8080/"
        },
        "outputId": "849f3076-f56c-4720-a239-f249aab08b4f",
        "id": "Lue2uyRw7L9O"
      },
      "execution_count": 133,
      "outputs": [
        {
          "output_type": "stream",
          "name": "stdout",
          "text": [
            "                            OLS Regression Results                            \n",
            "==============================================================================\n",
            "Dep. Variable:                      y   R-squared:                       0.728\n",
            "Model:                            OLS   Adj. R-squared:                  0.727\n",
            "Method:                 Least Squares   F-statistic:                     1332.\n",
            "Date:                Mon, 01 Jan 2024   Prob (F-statistic):          2.62e-282\n",
            "Time:                        07:29:29   Log-Likelihood:                -1112.8\n",
            "No. Observations:                1000   AIC:                             2232.\n",
            "Df Residuals:                     997   BIC:                             2246.\n",
            "Df Model:                           2                                         \n",
            "Covariance Type:            nonrobust                                         \n",
            "==============================================================================\n",
            "                 coef    std err          t      P>|t|      [0.025      0.975]\n",
            "------------------------------------------------------------------------------\n",
            "const          0.0219      0.023      0.937      0.349      -0.024       0.068\n",
            "x              0.5033      0.029     17.521      0.000       0.447       0.560\n",
            "z              0.5028      0.017     30.382      0.000       0.470       0.535\n",
            "==============================================================================\n",
            "Omnibus:                        3.264   Durbin-Watson:                   1.986\n",
            "Prob(Omnibus):                  0.195   Jarque-Bera (JB):                3.190\n",
            "Skew:                          -0.101   Prob(JB):                        0.203\n",
            "Kurtosis:                       3.189   Cond. No.                         2.37\n",
            "==============================================================================\n",
            "\n",
            "Notes:\n",
            "[1] Standard Errors assume that the covariance matrix of the errors is correctly specified.\n"
          ]
        }
      ]
    },
    {
      "cell_type": "code",
      "source": [],
      "metadata": {
        "id": "KA2w5egS4P_e"
      },
      "execution_count": 125,
      "outputs": []
    }
  ]
}